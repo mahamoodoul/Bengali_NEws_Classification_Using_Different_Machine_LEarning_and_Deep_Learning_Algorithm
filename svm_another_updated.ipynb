{
 "cells": [
  {
   "cell_type": "code",
   "execution_count": 1,
   "metadata": {
    "id": "1RZ6GcmPtgxN"
   },
   "outputs": [],
   "source": [
    "import pandas as pd\n",
    "import numpy as np\n",
    "from nltk.tokenize import word_tokenize\n",
    "from nltk import pos_tag\n",
    "from nltk.corpus import stopwords\n",
    "from nltk.stem import WordNetLemmatizer\n",
    "from sklearn.preprocessing import LabelEncoder\n",
    "from collections import defaultdict\n",
    "from nltk.corpus import wordnet as wn\n",
    "from sklearn.feature_extraction.text import TfidfVectorizer\n",
    "from sklearn import model_selection, naive_bayes, svm\n",
    "from sklearn.metrics import accuracy_score"
   ]
  },
  {
   "cell_type": "code",
   "execution_count": 2,
   "metadata": {
    "id": "AK2665gitgxS"
   },
   "outputs": [],
   "source": [
    "import pandas as pd\n",
    "import numpy as np\n",
    "from nltk.tokenize import word_tokenize\n",
    "from nltk import pos_tag\n",
    "from nltk.corpus import stopwords\n",
    "from nltk.stem import WordNetLemmatizer\n",
    "from sklearn.preprocessing import LabelEncoder\n",
    "from collections import defaultdict\n",
    "from nltk.corpus import wordnet as wn\n",
    "from sklearn.feature_extraction.text import TfidfVectorizer\n",
    "from sklearn import model_selection, naive_bayes, svm\n",
    "from sklearn.metrics import accuracy_score\n",
    "from sklearn.metrics import classification_report\n",
    "from sklearn.metrics import confusion_matrix\n",
    "import matplotlib.pyplot as plt\n",
    "import seaborn as sns"
   ]
  },
  {
   "cell_type": "code",
   "execution_count": 3,
   "metadata": {
    "id": "lq9uY8X9tgxU",
    "outputId": "e8f413f4-8802-4f8c-fc69-4739668c3e9c"
   },
   "outputs": [
    {
     "data": {
      "text/html": [
       "<div>\n",
       "<style scoped>\n",
       "    .dataframe tbody tr th:only-of-type {\n",
       "        vertical-align: middle;\n",
       "    }\n",
       "\n",
       "    .dataframe tbody tr th {\n",
       "        vertical-align: top;\n",
       "    }\n",
       "\n",
       "    .dataframe thead th {\n",
       "        text-align: right;\n",
       "    }\n",
       "</style>\n",
       "<table border=\"1\" class=\"dataframe\">\n",
       "  <thead>\n",
       "    <tr style=\"text-align: right;\">\n",
       "      <th></th>\n",
       "      <th>Unnamed: 0</th>\n",
       "      <th>body</th>\n",
       "      <th>label</th>\n",
       "      <th>source</th>\n",
       "      <th>title</th>\n",
       "      <th>text</th>\n",
       "    </tr>\n",
       "  </thead>\n",
       "  <tbody>\n",
       "    <tr>\n",
       "      <th>0</th>\n",
       "      <td>0</td>\n",
       "      <td>ঢাকাচট্টগ্রাম মহাসড়কের সীতাকুন্ড উপজেলার ভাটিয়...</td>\n",
       "      <td>national</td>\n",
       "      <td>https://www.banglanews24.com/national/news/bd/...</td>\n",
       "      <td>চট্টগ্রামে দুর্ঘটনায় গার্মেন্টস কর্মী নিহত, আহ...</td>\n",
       "      <td>ঢাকাচট্টগ্রাম মহাসড়কের সীতাকুন্ড উপজেলার ভাটিয়...</td>\n",
       "    </tr>\n",
       "    <tr>\n",
       "      <th>1</th>\n",
       "      <td>1</td>\n",
       "      <td>নীলফামারী সদর উপজেলার টুপামারী ইউনিয়নের কামারপ...</td>\n",
       "      <td>national</td>\n",
       "      <td>https://www.banglanews24.com/national/news/bd/...</td>\n",
       "      <td>নীলফামারীতে স্ত্রীকে পিটিয়ে হত্যার ঘটনায় মামলা</td>\n",
       "      <td>নীলফামারী সদর উপজেলার টুপামারী ইউনিয়নের কামারপ...</td>\n",
       "    </tr>\n",
       "    <tr>\n",
       "      <th>2</th>\n",
       "      <td>2</td>\n",
       "      <td>সিরিজের একমাত্র টেস্টে আগামীকাল মুখোমুখি হবে ব...</td>\n",
       "      <td>sports</td>\n",
       "      <td>https://www.jagonews24.com/special-reports/new...</td>\n",
       "      <td>উইকেট দেখে হতাশ টাইগার শিবির</td>\n",
       "      <td>সিরিজের একমাত্র টেস্টে আগামীকাল মুখোমুখি বাংলা...</td>\n",
       "    </tr>\n",
       "    <tr>\n",
       "      <th>3</th>\n",
       "      <td>3</td>\n",
       "      <td>অনলাইন ডেস্ক পাকিস্তানের বেলুচিস্তান প্রদেশের ...</td>\n",
       "      <td>international</td>\n",
       "      <td>https://www.dailyjanakantha.com/details/articl...</td>\n",
       "      <td>\\nপাকিস্তানের কোয়েটায় পুলিশ ট্রেনিং কলেজে সন্ত...</td>\n",
       "      <td>অনলাইন ডেস্ক পাকিস্তানের বেলুচিস্তান প্রদেশের ...</td>\n",
       "    </tr>\n",
       "    <tr>\n",
       "      <th>4</th>\n",
       "      <td>4</td>\n",
       "      <td>ফিলিস্তিনের পশ্চিমতীরে ইসরায়েলী পুলিশের সঙ্গে ...</td>\n",
       "      <td>international</td>\n",
       "      <td>https://www.jagonews24.com/special-reports/new...</td>\n",
       "      <td>পশ্চিমতীরে সংঘর্ষে নিহত ১, আহত দুই শতাধিক</td>\n",
       "      <td>ফিলিস্তিনের পশ্চিমতীরে ইসরায়েলী পুলিশের সংঘর্ষ...</td>\n",
       "    </tr>\n",
       "    <tr>\n",
       "      <th>...</th>\n",
       "      <td>...</td>\n",
       "      <td>...</td>\n",
       "      <td>...</td>\n",
       "      <td>...</td>\n",
       "      <td>...</td>\n",
       "      <td>...</td>\n",
       "    </tr>\n",
       "    <tr>\n",
       "      <th>504261</th>\n",
       "      <td>504261</td>\n",
       "      <td>মাধুর ভান্ডাকারের সমালোচিত ছবি হিরোইনএর জুনিয়র...</td>\n",
       "      <td>entertainment</td>\n",
       "      <td>https://www.banglanews24.com/national/news/bd/...</td>\n",
       "      <td>নৃশংস হত্যার শিকার ‘হিরোইন’ ছবির অভিনেত্রী মিন...</td>\n",
       "      <td>মাধুর ভান্ডাকারের সমালোচিত ছবি হিরোইনএর জুনিয়র...</td>\n",
       "    </tr>\n",
       "    <tr>\n",
       "      <th>504262</th>\n",
       "      <td>504262</td>\n",
       "      <td>ছয় মাসের প্রস্তুতিতে এসএ গেমস খেলতে নেপালে এসে...</td>\n",
       "      <td>sports</td>\n",
       "      <td>https://www.dailyinqilab.com/article/252218/</td>\n",
       "      <td>খো খো’র ছেলেদের রৌপ্য</td>\n",
       "      <td>ছয় মাসের প্রস্তুতিতে এসএ গেমস খেলতে নেপালে এসে...</td>\n",
       "    </tr>\n",
       "    <tr>\n",
       "      <th>504263</th>\n",
       "      <td>504263</td>\n",
       "      <td>গেল বছরের শেষে দহন সিনেমা দিয়ে দর্শক মাতিয়েছেন...</td>\n",
       "      <td>entertainment</td>\n",
       "      <td>https://www.jagonews24.com/special-reports/new...</td>\n",
       "      <td>কলকাতার দুই নায়কের সঙ্গে ট্রেলারেই পূজার চমক</td>\n",
       "      <td>বছরের শেষে দহন সিনেমা দিয়ে দর্শক মাতিয়েছেন পূজ...</td>\n",
       "    </tr>\n",
       "    <tr>\n",
       "      <th>504264</th>\n",
       "      <td>504264</td>\n",
       "      <td>করোনায় আক্রান্ত শেষ রোগী সুস্থ হয়ে হাসপাতাল ছা...</td>\n",
       "      <td>international</td>\n",
       "      <td>https://www.jagonews24.com/special-reports/new...</td>\n",
       "      <td>করোনামুক্ত হলো ফিজি, মারা যাননি একজনও</td>\n",
       "      <td>করোনায় আক্রান্ত শেষ রোগী সুস্থ হয়ে হাসপাতাল ছা...</td>\n",
       "    </tr>\n",
       "    <tr>\n",
       "      <th>504265</th>\n",
       "      <td>504265</td>\n",
       "      <td>ব্রাহ্মণবাড়িয়া পৌর শহরের কলেজ পাড়ায় একাধিক ককট...</td>\n",
       "      <td>national</td>\n",
       "      <td>https://www.banglanews24.com/national/news/bd/...</td>\n",
       "      <td>ব্রাহ্মণবাড়িয়া শহরে ককটেল বিস্ফোরণ, এলাকায় আতঙ্ক</td>\n",
       "      <td>ব্রাহ্মণবাড়িয়া পৌর শহরের কলেজ পাড়ায় একাধিক ককট...</td>\n",
       "    </tr>\n",
       "  </tbody>\n",
       "</table>\n",
       "<p>504266 rows × 6 columns</p>\n",
       "</div>"
      ],
      "text/plain": [
       "        Unnamed: 0                                               body  \\\n",
       "0                0  ঢাকাচট্টগ্রাম মহাসড়কের সীতাকুন্ড উপজেলার ভাটিয়...   \n",
       "1                1  নীলফামারী সদর উপজেলার টুপামারী ইউনিয়নের কামারপ...   \n",
       "2                2  সিরিজের একমাত্র টেস্টে আগামীকাল মুখোমুখি হবে ব...   \n",
       "3                3  অনলাইন ডেস্ক পাকিস্তানের বেলুচিস্তান প্রদেশের ...   \n",
       "4                4  ফিলিস্তিনের পশ্চিমতীরে ইসরায়েলী পুলিশের সঙ্গে ...   \n",
       "...            ...                                                ...   \n",
       "504261      504261  মাধুর ভান্ডাকারের সমালোচিত ছবি হিরোইনএর জুনিয়র...   \n",
       "504262      504262  ছয় মাসের প্রস্তুতিতে এসএ গেমস খেলতে নেপালে এসে...   \n",
       "504263      504263  গেল বছরের শেষে দহন সিনেমা দিয়ে দর্শক মাতিয়েছেন...   \n",
       "504264      504264  করোনায় আক্রান্ত শেষ রোগী সুস্থ হয়ে হাসপাতাল ছা...   \n",
       "504265      504265  ব্রাহ্মণবাড়িয়া পৌর শহরের কলেজ পাড়ায় একাধিক ককট...   \n",
       "\n",
       "                label                                             source  \\\n",
       "0            national  https://www.banglanews24.com/national/news/bd/...   \n",
       "1            national  https://www.banglanews24.com/national/news/bd/...   \n",
       "2              sports  https://www.jagonews24.com/special-reports/new...   \n",
       "3       international  https://www.dailyjanakantha.com/details/articl...   \n",
       "4       international  https://www.jagonews24.com/special-reports/new...   \n",
       "...               ...                                                ...   \n",
       "504261  entertainment  https://www.banglanews24.com/national/news/bd/...   \n",
       "504262         sports       https://www.dailyinqilab.com/article/252218/   \n",
       "504263  entertainment  https://www.jagonews24.com/special-reports/new...   \n",
       "504264  international  https://www.jagonews24.com/special-reports/new...   \n",
       "504265       national  https://www.banglanews24.com/national/news/bd/...   \n",
       "\n",
       "                                                    title  \\\n",
       "0       চট্টগ্রামে দুর্ঘটনায় গার্মেন্টস কর্মী নিহত, আহ...   \n",
       "1          নীলফামারীতে স্ত্রীকে পিটিয়ে হত্যার ঘটনায় মামলা   \n",
       "2                            উইকেট দেখে হতাশ টাইগার শিবির   \n",
       "3       \\nপাকিস্তানের কোয়েটায় পুলিশ ট্রেনিং কলেজে সন্ত...   \n",
       "4               পশ্চিমতীরে সংঘর্ষে নিহত ১, আহত দুই শতাধিক   \n",
       "...                                                   ...   \n",
       "504261  নৃশংস হত্যার শিকার ‘হিরোইন’ ছবির অভিনেত্রী মিন...   \n",
       "504262                              খো খো’র ছেলেদের রৌপ্য   \n",
       "504263       কলকাতার দুই নায়কের সঙ্গে ট্রেলারেই পূজার চমক   \n",
       "504264              করোনামুক্ত হলো ফিজি, মারা যাননি একজনও   \n",
       "504265   ব্রাহ্মণবাড়িয়া শহরে ককটেল বিস্ফোরণ, এলাকায় আতঙ্ক   \n",
       "\n",
       "                                                     text  \n",
       "0       ঢাকাচট্টগ্রাম মহাসড়কের সীতাকুন্ড উপজেলার ভাটিয়...  \n",
       "1       নীলফামারী সদর উপজেলার টুপামারী ইউনিয়নের কামারপ...  \n",
       "2       সিরিজের একমাত্র টেস্টে আগামীকাল মুখোমুখি বাংলা...  \n",
       "3       অনলাইন ডেস্ক পাকিস্তানের বেলুচিস্তান প্রদেশের ...  \n",
       "4       ফিলিস্তিনের পশ্চিমতীরে ইসরায়েলী পুলিশের সংঘর্ষ...  \n",
       "...                                                   ...  \n",
       "504261  মাধুর ভান্ডাকারের সমালোচিত ছবি হিরোইনএর জুনিয়র...  \n",
       "504262  ছয় মাসের প্রস্তুতিতে এসএ গেমস খেলতে নেপালে এসে...  \n",
       "504263  বছরের শেষে দহন সিনেমা দিয়ে দর্শক মাতিয়েছেন পূজ...  \n",
       "504264  করোনায় আক্রান্ত শেষ রোগী সুস্থ হয়ে হাসপাতাল ছা...  \n",
       "504265  ব্রাহ্মণবাড়িয়া পৌর শহরের কলেজ পাড়ায় একাধিক ককট...  \n",
       "\n",
       "[504266 rows x 6 columns]"
      ]
     },
     "execution_count": 3,
     "metadata": {},
     "output_type": "execute_result"
    }
   ],
   "source": [
    "df = pd.read_csv('data/newsdata504266with7labels.csv')\n",
    "df"
   ]
  },
  {
   "cell_type": "code",
   "execution_count": 4,
   "metadata": {
    "id": "V0-jxw6dtgxW",
    "outputId": "cd65a83e-f020-4d8b-9f22-5f1e69975f4d"
   },
   "outputs": [
    {
     "data": {
      "text/plain": [
       "(504266, 6)"
      ]
     },
     "execution_count": 4,
     "metadata": {},
     "output_type": "execute_result"
    }
   ],
   "source": [
    "df.shape"
   ]
  },
  {
   "cell_type": "code",
   "execution_count": 5,
   "metadata": {
    "id": "AM4Hvwj-tgxX",
    "outputId": "777dbb9c-879c-4c06-aa13-c4dd7811a014"
   },
   "outputs": [
    {
     "data": {
      "text/html": [
       "<div>\n",
       "<style scoped>\n",
       "    .dataframe tbody tr th:only-of-type {\n",
       "        vertical-align: middle;\n",
       "    }\n",
       "\n",
       "    .dataframe tbody tr th {\n",
       "        vertical-align: top;\n",
       "    }\n",
       "\n",
       "    .dataframe thead th {\n",
       "        text-align: right;\n",
       "    }\n",
       "</style>\n",
       "<table border=\"1\" class=\"dataframe\">\n",
       "  <thead>\n",
       "    <tr style=\"text-align: right;\">\n",
       "      <th></th>\n",
       "      <th>body</th>\n",
       "      <th>label</th>\n",
       "      <th>source</th>\n",
       "      <th>title</th>\n",
       "      <th>text</th>\n",
       "    </tr>\n",
       "  </thead>\n",
       "  <tbody>\n",
       "    <tr>\n",
       "      <th>0</th>\n",
       "      <td>ঢাকাচট্টগ্রাম মহাসড়কের সীতাকুন্ড উপজেলার ভাটিয়...</td>\n",
       "      <td>national</td>\n",
       "      <td>https://www.banglanews24.com/national/news/bd/...</td>\n",
       "      <td>চট্টগ্রামে দুর্ঘটনায় গার্মেন্টস কর্মী নিহত, আহ...</td>\n",
       "      <td>ঢাকাচট্টগ্রাম মহাসড়কের সীতাকুন্ড উপজেলার ভাটিয়...</td>\n",
       "    </tr>\n",
       "    <tr>\n",
       "      <th>1</th>\n",
       "      <td>নীলফামারী সদর উপজেলার টুপামারী ইউনিয়নের কামারপ...</td>\n",
       "      <td>national</td>\n",
       "      <td>https://www.banglanews24.com/national/news/bd/...</td>\n",
       "      <td>নীলফামারীতে স্ত্রীকে পিটিয়ে হত্যার ঘটনায় মামলা</td>\n",
       "      <td>নীলফামারী সদর উপজেলার টুপামারী ইউনিয়নের কামারপ...</td>\n",
       "    </tr>\n",
       "    <tr>\n",
       "      <th>2</th>\n",
       "      <td>সিরিজের একমাত্র টেস্টে আগামীকাল মুখোমুখি হবে ব...</td>\n",
       "      <td>sports</td>\n",
       "      <td>https://www.jagonews24.com/special-reports/new...</td>\n",
       "      <td>উইকেট দেখে হতাশ টাইগার শিবির</td>\n",
       "      <td>সিরিজের একমাত্র টেস্টে আগামীকাল মুখোমুখি বাংলা...</td>\n",
       "    </tr>\n",
       "    <tr>\n",
       "      <th>3</th>\n",
       "      <td>অনলাইন ডেস্ক পাকিস্তানের বেলুচিস্তান প্রদেশের ...</td>\n",
       "      <td>international</td>\n",
       "      <td>https://www.dailyjanakantha.com/details/articl...</td>\n",
       "      <td>\\nপাকিস্তানের কোয়েটায় পুলিশ ট্রেনিং কলেজে সন্ত...</td>\n",
       "      <td>অনলাইন ডেস্ক পাকিস্তানের বেলুচিস্তান প্রদেশের ...</td>\n",
       "    </tr>\n",
       "    <tr>\n",
       "      <th>4</th>\n",
       "      <td>ফিলিস্তিনের পশ্চিমতীরে ইসরায়েলী পুলিশের সঙ্গে ...</td>\n",
       "      <td>international</td>\n",
       "      <td>https://www.jagonews24.com/special-reports/new...</td>\n",
       "      <td>পশ্চিমতীরে সংঘর্ষে নিহত ১, আহত দুই শতাধিক</td>\n",
       "      <td>ফিলিস্তিনের পশ্চিমতীরে ইসরায়েলী পুলিশের সংঘর্ষ...</td>\n",
       "    </tr>\n",
       "  </tbody>\n",
       "</table>\n",
       "</div>"
      ],
      "text/plain": [
       "                                                body          label  \\\n",
       "0  ঢাকাচট্টগ্রাম মহাসড়কের সীতাকুন্ড উপজেলার ভাটিয়...       national   \n",
       "1  নীলফামারী সদর উপজেলার টুপামারী ইউনিয়নের কামারপ...       national   \n",
       "2  সিরিজের একমাত্র টেস্টে আগামীকাল মুখোমুখি হবে ব...         sports   \n",
       "3  অনলাইন ডেস্ক পাকিস্তানের বেলুচিস্তান প্রদেশের ...  international   \n",
       "4  ফিলিস্তিনের পশ্চিমতীরে ইসরায়েলী পুলিশের সঙ্গে ...  international   \n",
       "\n",
       "                                              source  \\\n",
       "0  https://www.banglanews24.com/national/news/bd/...   \n",
       "1  https://www.banglanews24.com/national/news/bd/...   \n",
       "2  https://www.jagonews24.com/special-reports/new...   \n",
       "3  https://www.dailyjanakantha.com/details/articl...   \n",
       "4  https://www.jagonews24.com/special-reports/new...   \n",
       "\n",
       "                                               title  \\\n",
       "0  চট্টগ্রামে দুর্ঘটনায় গার্মেন্টস কর্মী নিহত, আহ...   \n",
       "1     নীলফামারীতে স্ত্রীকে পিটিয়ে হত্যার ঘটনায় মামলা   \n",
       "2                       উইকেট দেখে হতাশ টাইগার শিবির   \n",
       "3  \\nপাকিস্তানের কোয়েটায় পুলিশ ট্রেনিং কলেজে সন্ত...   \n",
       "4          পশ্চিমতীরে সংঘর্ষে নিহত ১, আহত দুই শতাধিক   \n",
       "\n",
       "                                                text  \n",
       "0  ঢাকাচট্টগ্রাম মহাসড়কের সীতাকুন্ড উপজেলার ভাটিয়...  \n",
       "1  নীলফামারী সদর উপজেলার টুপামারী ইউনিয়নের কামারপ...  \n",
       "2  সিরিজের একমাত্র টেস্টে আগামীকাল মুখোমুখি বাংলা...  \n",
       "3  অনলাইন ডেস্ক পাকিস্তানের বেলুচিস্তান প্রদেশের ...  \n",
       "4  ফিলিস্তিনের পশ্চিমতীরে ইসরায়েলী পুলিশের সংঘর্ষ...  "
      ]
     },
     "execution_count": 5,
     "metadata": {},
     "output_type": "execute_result"
    }
   ],
   "source": [
    "df1 = df.drop(columns=['Unnamed: 0'])\n",
    "df1.head()"
   ]
  },
  {
   "cell_type": "code",
   "execution_count": 6,
   "metadata": {
    "id": "609xYfkStgxY",
    "outputId": "151734ec-9851-46be-a2a3-f4edf6c00570"
   },
   "outputs": [
    {
     "data": {
      "text/plain": [
       "body      0\n",
       "label     0\n",
       "source    0\n",
       "title     0\n",
       "text      0\n",
       "dtype: int64"
      ]
     },
     "execution_count": 6,
     "metadata": {},
     "output_type": "execute_result"
    }
   ],
   "source": [
    "df1.isna().sum()\n",
    "df2 = df1.dropna()\n",
    "df2.isna().sum()"
   ]
  },
  {
   "cell_type": "code",
   "execution_count": 7,
   "metadata": {
    "id": "wXuvbWJ9tgxZ",
    "outputId": "2dd6dbe8-7666-489d-f532-ca79855feb5a"
   },
   "outputs": [
    {
     "name": "stdout",
     "output_type": "stream",
     "text": [
      "4743\n"
     ]
    },
    {
     "data": {
      "text/plain": [
       "326"
      ]
     },
     "execution_count": 7,
     "metadata": {},
     "output_type": "execute_result"
    }
   ],
   "source": [
    "max_length=df1[\"text\"].str.len().max()\n",
    "print(max_length)\n",
    "min_length=df1[\"text\"].str.len().min()\n",
    "min_length"
   ]
  },
  {
   "cell_type": "code",
   "execution_count": 8,
   "metadata": {
    "id": "RDpiTTgDtgxb",
    "outputId": "7d11bf79-c90a-4005-bbd2-3ec27aa2c4ad"
   },
   "outputs": [
    {
     "name": "stdout",
     "output_type": "stream",
     "text": [
      "7\n",
      "sports                86749\n",
      "international         84742\n",
      "national              84431\n",
      "all_bangladesh        81176\n",
      "politics              66142\n",
      "entertainment         53975\n",
      "economics-business    47051\n",
      "Name: label, dtype: int64\n"
     ]
    }
   ],
   "source": [
    "# Look at classification type counts\n",
    "counts = df2.label.value_counts()\n",
    "print(len(counts))\n",
    "print(counts)"
   ]
  },
  {
   "cell_type": "code",
   "execution_count": 9,
   "metadata": {
    "id": "2HmrNkI0tgxe",
    "outputId": "c8213588-529f-4c1d-c9aa-0e1cc2ef7d2d"
   },
   "outputs": [
    {
     "name": "stdout",
     "output_type": "stream",
     "text": [
      "['national' 'sports' 'international' 'all_bangladesh' 'politics'\n",
      " 'economics-business' 'entertainment']\n"
     ]
    }
   ],
   "source": [
    "data = df2\n",
    "train=data\n",
    "a=train.label.unique()\n",
    "l=len(train.label.unique())\n",
    "print(a)"
   ]
  },
  {
   "cell_type": "code",
   "execution_count": 10,
   "metadata": {
    "id": "BDgVNexYtgxf"
   },
   "outputs": [],
   "source": [
    "for i in range (l):\n",
    "    train.label = train.label.replace(a[i], i)"
   ]
  },
  {
   "cell_type": "code",
   "execution_count": 11,
   "metadata": {
    "id": "WdJ3YDzFtgxf",
    "outputId": "03460766-9aa6-4510-fa01-5cc881f731d2"
   },
   "outputs": [
    {
     "data": {
      "text/html": [
       "<div>\n",
       "<style scoped>\n",
       "    .dataframe tbody tr th:only-of-type {\n",
       "        vertical-align: middle;\n",
       "    }\n",
       "\n",
       "    .dataframe tbody tr th {\n",
       "        vertical-align: top;\n",
       "    }\n",
       "\n",
       "    .dataframe thead th {\n",
       "        text-align: right;\n",
       "    }\n",
       "</style>\n",
       "<table border=\"1\" class=\"dataframe\">\n",
       "  <thead>\n",
       "    <tr style=\"text-align: right;\">\n",
       "      <th></th>\n",
       "      <th>text</th>\n",
       "      <th>label</th>\n",
       "    </tr>\n",
       "  </thead>\n",
       "  <tbody>\n",
       "    <tr>\n",
       "      <th>0</th>\n",
       "      <td>ঢাকাচট্টগ্রাম মহাসড়কের সীতাকুন্ড উপজেলার ভাটিয়...</td>\n",
       "      <td>0</td>\n",
       "    </tr>\n",
       "    <tr>\n",
       "      <th>1</th>\n",
       "      <td>নীলফামারী সদর উপজেলার টুপামারী ইউনিয়নের কামারপ...</td>\n",
       "      <td>0</td>\n",
       "    </tr>\n",
       "    <tr>\n",
       "      <th>2</th>\n",
       "      <td>সিরিজের একমাত্র টেস্টে আগামীকাল মুখোমুখি বাংলা...</td>\n",
       "      <td>1</td>\n",
       "    </tr>\n",
       "    <tr>\n",
       "      <th>3</th>\n",
       "      <td>অনলাইন ডেস্ক পাকিস্তানের বেলুচিস্তান প্রদেশের ...</td>\n",
       "      <td>2</td>\n",
       "    </tr>\n",
       "    <tr>\n",
       "      <th>4</th>\n",
       "      <td>ফিলিস্তিনের পশ্চিমতীরে ইসরায়েলী পুলিশের সংঘর্ষ...</td>\n",
       "      <td>2</td>\n",
       "    </tr>\n",
       "  </tbody>\n",
       "</table>\n",
       "</div>"
      ],
      "text/plain": [
       "                                                text  label\n",
       "0  ঢাকাচট্টগ্রাম মহাসড়কের সীতাকুন্ড উপজেলার ভাটিয়...      0\n",
       "1  নীলফামারী সদর উপজেলার টুপামারী ইউনিয়নের কামারপ...      0\n",
       "2  সিরিজের একমাত্র টেস্টে আগামীকাল মুখোমুখি বাংলা...      1\n",
       "3  অনলাইন ডেস্ক পাকিস্তানের বেলুচিস্তান প্রদেশের ...      2\n",
       "4  ফিলিস্তিনের পশ্চিমতীরে ইসরায়েলী পুলিশের সংঘর্ষ...      2"
      ]
     },
     "execution_count": 11,
     "metadata": {},
     "output_type": "execute_result"
    }
   ],
   "source": [
    "train1 = train.copy()\n",
    "train2 = train1[['text','label']]\n",
    "train2.head()"
   ]
  },
  {
   "cell_type": "code",
   "execution_count": 15,
   "metadata": {
    "id": "SNUuu8P6tgxg",
    "outputId": "db501276-8135-4c59-ddfa-1827aeeeaafe"
   },
   "outputs": [
    {
     "name": "stdout",
     "output_type": "stream",
     "text": [
      "7\n",
      "1    86749\n",
      "2    84742\n",
      "0    84431\n",
      "3    81176\n",
      "4    66142\n",
      "6    53975\n",
      "5    47051\n",
      "Name: label, dtype: int64\n"
     ]
    }
   ],
   "source": [
    "# Look at classification type counts\n",
    "counts = train2.label.value_counts()\n",
    "print(len(counts))\n",
    "print(counts)"
   ]
  },
  {
   "cell_type": "code",
   "execution_count": 16,
   "metadata": {
    "id": "M6WPs3bDtgxg"
   },
   "outputs": [],
   "source": [
    "import numpy as np # linear algebra\n",
    "import pandas as pd # data processing, CSV file I/O (e.g. pd.read_csv)\n",
    "import os\n",
    "import pandas as pd\n",
    "import numpy as np\n",
    "from matplotlib import pyplot as plt\n",
    "import seaborn as sns\n",
    "from sklearn.feature_extraction.text import CountVectorizer\n",
    "from sklearn.model_selection import train_test_split\n",
    "from sklearn.metrics import accuracy_score, confusion_matrix, classification_report"
   ]
  },
  {
   "cell_type": "code",
   "execution_count": 17,
   "metadata": {
    "id": "ugVe5sHHtgxh"
   },
   "outputs": [],
   "source": [
    "X=train2['text']\n",
    "Y=train2['label']"
   ]
  },
  {
   "cell_type": "code",
   "execution_count": 18,
   "metadata": {
    "id": "s-Me67gitgxh"
   },
   "outputs": [],
   "source": [
    "# 3). ----- Train Test Split -----\n",
    "# Split Data\n",
    "X_train, X_test,y_train,y_test = train_test_split(X, Y, test_size = 0.1, random_state = 42)"
   ]
  },
  {
   "cell_type": "code",
   "execution_count": 19,
   "metadata": {
    "id": "ctMfE-yDtgxi"
   },
   "outputs": [],
   "source": [
    "vectorizer = TfidfVectorizer(min_df = 5,max_df = 0.8,sublinear_tf = True,use_idf = True)"
   ]
  },
  {
   "cell_type": "code",
   "execution_count": 20,
   "metadata": {
    "id": "U3126p-Ftgxi"
   },
   "outputs": [],
   "source": [
    "train_vectors = vectorizer.fit_transform(X_train)\n",
    "test_vectors = vectorizer.transform(X_test)"
   ]
  },
  {
   "cell_type": "code",
   "execution_count": 21,
   "metadata": {
    "id": "mNknU3BCtgxi"
   },
   "outputs": [],
   "source": [
    "import time\n",
    "from sklearn import svm\n",
    "from sklearn.metrics import classification_report"
   ]
  },
  {
   "cell_type": "code",
   "execution_count": 22,
   "metadata": {
    "id": "7ZRMx_pbtgxj",
    "outputId": "dc335062-a318-43a6-c882-87b0d22124a0"
   },
   "outputs": [
    {
     "name": "stdout",
     "output_type": "stream",
     "text": [
      "Training time: 41387.946018s; Prediction time: 4607.531344s\n"
     ]
    }
   ],
   "source": [
    "# Perform classification with SVM, kernel=linear\n",
    "classifier_linear = svm.SVC(kernel='linear')\n",
    "t0 = time.time()\n",
    "classifier_linear.fit(train_vectors, y_train)\n",
    "t1 = time.time()\n",
    "prediction_linear = classifier_linear.predict(test_vectors)\n",
    "t2 = time.time()\n",
    "time_linear_train = t1-t0\n",
    "time_linear_predict = t2-t1\n",
    "# results\n",
    "print(\"Training time: %fs; Prediction time: %fs\" % (time_linear_train, time_linear_predict))\n",
    "report = classification_report(y_test, prediction_linear, output_dict=True)"
   ]
  },
  {
   "cell_type": "code",
   "execution_count": 32,
   "metadata": {
    "id": "9G30oxM5tgxk",
    "outputId": "4fb477d4-0985-4756-8c9f-9ccaee1cfb1e"
   },
   "outputs": [
    {
     "name": "stdout",
     "output_type": "stream",
     "text": [
      "SVM Accuracy Score ->  0.9091756400341087\n"
     ]
    }
   ],
   "source": [
    "print(\"SVM Accuracy Score -> \",accuracy_score(prediction_linear, y_test))"
   ]
  },
  {
   "cell_type": "code",
   "execution_count": 39,
   "metadata": {
    "id": "SxItsL4Jtgxn",
    "outputId": "630ba337-891b-4152-daee-1c11295f93fd"
   },
   "outputs": [
    {
     "data": {
      "text/plain": [
       "['svm_updated_model_01.pkl']"
      ]
     },
     "execution_count": 39,
     "metadata": {},
     "output_type": "execute_result"
    }
   ],
   "source": [
    "from sklearn.externals import joblib\n",
    "import joblib as joblib\n",
    "# Save the model as a pickle in a file\n",
    "joblib.dump(classifier_linear, 'svm_updated_model_01.pkl')"
   ]
  },
  {
   "cell_type": "code",
   "execution_count": 41,
   "metadata": {
    "id": "6MfRnyyqtgxo"
   },
   "outputs": [],
   "source": [
    "# Load the model from the file\n",
    "svm = joblib.load('svm_updated_model_.01.pkl') "
   ]
  },
  {
   "cell_type": "code",
   "execution_count": 42,
   "metadata": {
    "id": "k2gibY5ctgxo",
    "outputId": "f3ab320d-578e-4edc-b412-669a5d393f41"
   },
   "outputs": [
    {
     "name": "stdout",
     "output_type": "stream",
     "text": [
      "[4]\n"
     ]
    }
   ],
   "source": [
    "# Use the loaded model to make predictions\n",
    "review = [\"রবীন্দ্রনাথ ঠাকুরকে বাংলা সাহিত্যের অবিসংবাদিত প্রাণপুরুষ উল্লেখ করে বিএনপির মহাসচিব মির্জা ফখরুল ইসলাম আলমগীর বলেছেন, 'আমাদের জাতীয় জীবনের সব ক্ষেত্রে বিশ্বকবির গভীর প্রভাব বিদ্যমান। তার রচিত গান জাতীয় সঙ্গীত হিসেবে পেয়ে আমরা গর্ববোধ করি'। শনিবার (৮ মে) বিশ্বকবি রবীন্দ্রনাথ ঠাকুরের জন্মবার্ষিকী উপলক্ষে গণমাধ্যমে পাঠানো এক বাণীতে তিনি এসব কথা বলেন। জন্মবার্ষিকীতে তাঁর অম্লান স্মৃতির প্রতি গভীর শ্রদ্ধা জ্ঞাপন করেন বিএনপি মহাসচিব। মির্জা ফখরুল বলেন, এশিয়ার প্রথম নোবেল পুরস্কার পাওয়ার বিরল সম্মান অর্জনকারী রবীন্দ্রনাথ তার উপন্যাস, কবিতা ও গানে গভীর জীবনবোধ, প্রকৃতির সঙ্গে সংলগ্নতা ও সৃষ্টিকর্তার প্রতি গভীর আত্মনিবেদন, প্রতিটি মানুষের হৃদয়ে এক অনাবিল শান্তি ও স্বর্গীয় আনন্দের আবহ তৈরি করে। তার সৃষ্টির মধ্যে প্রাণ-প্রকৃতি এক অনন্যরূপ খুঁজে পাওয়া যায়। বিএনপির মহাসচিব বলেন, কবি রবীন্দ্রনাথ ঠাকুর আমাদের বাংলা সাহিত্যের যুগোত্তীর্ণ শ্রেষ্ঠ লেখক ও বিশ্বের শ্রেষ্ঠ মনীষীদের একজন। অবিনাশী সৃষ্টির দ্বারা তিনি কবি, ঔপন্যাসিক, ছোট গল্পকার, নাট্যকার, প্রাবন্ধিক, ভাষাবিজ্ঞানী, দার্শনিক, সঙ্গীত রচয়িতা ও সুরকার হিসেবে এক উচ্চমাত্রায় নিজেকে অধিষ্ঠিত করেন। ভারতের ধ্রুপদি ও লৌকিক সংস্কৃতি এবং পাশ্চাত্য বিজ্ঞান চেতনা ও শিল্পদর্শণ তার রচনায় গভীর প্রভাব বিস্তার করেছিল।\"]\n",
    "review_vector = vectorizer.transform(review) # vectorizing\n",
    "print(svm.predict(review_vector))"
   ]
  },
  {
   "cell_type": "code",
   "execution_count": 43,
   "metadata": {},
   "outputs": [
    {
     "name": "stdout",
     "output_type": "stream",
     "text": [
      "[6]\n"
     ]
    }
   ],
   "source": [
    "review = [\"শাবনূর বাংলাদেশের চলচ্চিত্র ইতিহাসের তুমুল জনপ্রিয় অভিনেত্রী। ৯০ দশক থেকে এ পর্যন্ত আসা চিত্র তারকাদের মধ্যে সবচেয়ে জনপ্রিয় চিত্র তারকা হিসেবে বিবেচনা করা হয় তাকে। প্রখ্যাত চলচ্চিত্রকার এহতেশাম পরিচালিত 'চাঁদনী রাতে' ছবি মাধ্যমে চলচ্চিত্রে আসেন শাবনূর। প্রথম ছবি ব্যর্থ হলেও পরে সালমান শাহের সাথে জুটি গড়ে ব্যাপক জনপ্রিয়তা পান। একে একে এ জুটি সুপারহিট ছবি দিতে থাকেন। সালমানের অকাল মৃত্যুতে সাময়িক ভাবে শাবনূরের ক্যারিয়ার হুমকির মুখে পড়লেও তার চিরায়ত বাঙালি প্রেমিকার ইমেজ এবং অসাধারণ অভিনয় ক্ষমতা তাকে দর্শকদের হৃদয়ে শক্ত আসন গড়তে সাহায্য করে। পরে রিয়াজ, শাকিল খান, ফেরদৌস ও শাকিব খান এর সাথে জনপ্রিয় জুটি গড়ে অসংখ্য ব্যবসাসফল ও জনপ্রিয় ছবি উপহার দেন। একতা সময় ক্যারিয়ারে ভাটা পড়ে। বর্তমানে পর্দায় নেই তিনি। তবে জানালেন ব্যস্ত তিনি। গণমাধ্যমকে শাবনূর বলেন, এখন আমি আগের চেয়েও বেশি। আমার ছেলে ও পরিবার নিয়ে অনেক ব্যস্ত সময় কীভাবে কেটে যায় টেরই পাই না। তাছাড়া সিডনি ইন্টারন্যাশনাল স্কুল নামে একটা স্কুল আছে। সেটা নিয়ে প্রচুর ব্যস্ত থাকতে হয়।\"]\n",
    "review_vector = vectorizer.transform(review) # vectorizing\n",
    "print(classifier_linear.predict(review_vector))"
   ]
  },
  {
   "cell_type": "code",
   "execution_count": 44,
   "metadata": {
    "id": "OerM8mdytgxp",
    "outputId": "f1d361b4-eab8-4342-cdf9-cefc9ce39cd6"
   },
   "outputs": [
    {
     "name": "stdout",
     "output_type": "stream",
     "text": [
      "positive:  {'precision': 0.9789132197891321, 'recall': 0.9683667621776504, 'f1-score': 0.9736114312053468, 'support': 8725}\n",
      "negative:  {'precision': 0.824738755111313, 'recall': 0.8537330981775426, 'f1-score': 0.8389854988734183, 'support': 8505}\n"
     ]
    }
   ],
   "source": [
    "print('positive: ', report['1'])\n",
    "print('negative: ', report['0'])"
   ]
  },
  {
   "cell_type": "code",
   "execution_count": 45,
   "metadata": {
    "id": "bE7lx0rntgxq",
    "outputId": "8546b55b-f990-4781-80e3-b6cbbcd717c4"
   },
   "outputs": [
    {
     "name": "stdout",
     "output_type": "stream",
     "text": [
      "              precision    recall  f1-score   support\n",
      "\n",
      "     Class 0       0.82      0.85      0.84      8505\n",
      "     Class 1       0.98      0.97      0.97      8725\n",
      "     Class 2       0.94      0.96      0.95      8348\n",
      "     Class 3       0.94      0.92      0.93      8116\n",
      "     Class 4       0.84      0.84      0.84      6514\n",
      "     Class 5       0.89      0.87      0.88      4760\n",
      "     Class 6       0.94      0.94      0.94      5459\n",
      "\n",
      "    accuracy                           0.91     50427\n",
      "   macro avg       0.91      0.91      0.91     50427\n",
      "weighted avg       0.91      0.91      0.91     50427\n",
      "\n"
     ]
    }
   ],
   "source": [
    "from sklearn.metrics import classification_report\n",
    "target_names = [\"Class {}\".format(i) for i in range(7)]\n",
    "print(classification_report(y_test, prediction_linear, target_names=target_names))"
   ]
  },
  {
   "cell_type": "code",
   "execution_count": 46,
   "metadata": {
    "id": "yE1kA22Ktgxr"
   },
   "outputs": [],
   "source": [
    "name=[]\n",
    "for i in range(7):\n",
    "  name.append(i)"
   ]
  },
  {
   "cell_type": "code",
   "execution_count": 47,
   "metadata": {
    "id": "Coq3hhb9tgxr",
    "outputId": "9a6935fc-a086-4429-970c-6508f748fb60"
   },
   "outputs": [
    {
     "data": {
      "text/plain": [
       "<matplotlib.axes._subplots.AxesSubplot at 0x26d811c1d00>"
      ]
     },
     "execution_count": 47,
     "metadata": {},
     "output_type": "execute_result"
    },
    {
     "data": {
      "image/png": "[encoded data removed]",
      "text/plain": [
       "<Figure size 936x576 with 2 Axes>"
      ]
     },
     "metadata": {
      "needs_background": "light"
     },
     "output_type": "display_data"
    }
   ],
   "source": [
    "# Plot confusion matrix\n",
    "conf_mat = confusion_matrix(y_test, prediction_linear, labels = name)\n",
    "\n",
    "#Normalize confusion_matrix\n",
    "conf_mat = conf_mat.astype('float')/ conf_mat.sum(axis=1)[:, np.newaxis]\n",
    "\n",
    "# Plot Heat Map\n",
    "fig , ax = plt.subplots()\n",
    "fig.set_size_inches(13, 8)\n",
    "sns.heatmap(conf_mat)"
   ]
  },
  {
   "cell_type": "code",
   "execution_count": 48,
   "metadata": {
    "id": "huyB9WAwtgxr",
    "outputId": "605fe5d9-f3ee-4e00-bfaa-7da72e908449"
   },
   "outputs": [
    {
     "name": "stdout",
     "output_type": "stream",
     "text": [
      "Automatically created module for IPython interactive environment\n",
      "Confusion matrix, without normalization\n",
      "[[7261   18   85   91  755  244   51]\n",
      " [  42 8449   94   45    9   19   67]\n",
      " [  63   55 7981   34   17   78  120]\n",
      " [ 223   30   44 7469  200   99   51]\n",
      " [ 814    5   31  179 5442   31   12]\n",
      " [ 340   18   93  110   30 4136   33]\n",
      " [  61   56  150   48   12   23 5109]]\n",
      "Normalized confusion matrix\n",
      "[[8.54e-01 2.12e-03 9.99e-03 1.07e-02 8.88e-02 2.87e-02 6.00e-03]\n",
      " [4.81e-03 9.68e-01 1.08e-02 5.16e-03 1.03e-03 2.18e-03 7.68e-03]\n",
      " [7.55e-03 6.59e-03 9.56e-01 4.07e-03 2.04e-03 9.34e-03 1.44e-02]\n",
      " [2.75e-02 3.70e-03 5.42e-03 9.20e-01 2.46e-02 1.22e-02 6.28e-03]\n",
      " [1.25e-01 7.68e-04 4.76e-03 2.75e-02 8.35e-01 4.76e-03 1.84e-03]\n",
      " [7.14e-02 3.78e-03 1.95e-02 2.31e-02 6.30e-03 8.69e-01 6.93e-03]\n",
      " [1.12e-02 1.03e-02 2.75e-02 8.79e-03 2.20e-03 4.21e-03 9.36e-01]]\n"
     ]
    },
    {
     "data": {
      "image/png": "[encoded data removed]",
      "text/plain": [
       "<Figure size 432x288 with 2 Axes>"
      ]
     },
     "metadata": {
      "needs_background": "light"
     },
     "output_type": "display_data"
    },
    {
     "data": {
      "image/png": "[encoded data removed]",
      "text/plain": [
       "<Figure size 432x288 with 2 Axes>"
      ]
     },
     "metadata": {
      "needs_background": "light"
     },
     "output_type": "display_data"
    }
   ],
   "source": [
    "print(__doc__)\n",
    "\n",
    "import itertools\n",
    "import numpy as np\n",
    "import matplotlib.pyplot as plt\n",
    "\n",
    "from sklearn import svm, datasets\n",
    "from sklearn.model_selection import train_test_split\n",
    "from sklearn.metrics import confusion_matrix\n",
    "\n",
    "\n",
    "class_names = name\n",
    "\n",
    "def plot_confusion_matrix(cm, classes,\n",
    "                          normalize=False,\n",
    "                          title='Confusion matrix',\n",
    "                          cmap=plt.cm.Blues):\n",
    "    \"\"\"\n",
    "    This function prints and plots the confusion matrix.\n",
    "    Normalization can be applied by setting `normalize=True`.\n",
    "    \"\"\"\n",
    "    if normalize:\n",
    "        cm = cm.astype('float') / cm.sum(axis=1)[:, np.newaxis]\n",
    "        print(\"Normalized confusion matrix\")\n",
    "    else:\n",
    "        print('Confusion matrix, without normalization')\n",
    "\n",
    "    print(cm)\n",
    "\n",
    "    plt.imshow(cm, interpolation='nearest', cmap=cmap)\n",
    "    plt.title(title)\n",
    "    plt.colorbar()\n",
    "    tick_marks = np.arange(len(classes))\n",
    "    plt.xticks(tick_marks, classes, rotation=0)\n",
    "    plt.yticks(tick_marks, classes)\n",
    "\n",
    "    fmt = '.2f' if normalize else 'd'\n",
    "    thresh = cm.max() / 2.\n",
    "    for i, j in itertools.product(range(cm.shape[0]), range(cm.shape[1])):\n",
    "        plt.text(j, i, format(cm[i, j], fmt),\n",
    "                 horizontalalignment=\"center\",\n",
    "                 color=\"white\" if cm[i, j] > thresh else \"black\")\n",
    "\n",
    "    plt.tight_layout()\n",
    "    plt.ylabel('True label')\n",
    "    plt.xlabel('Predicted label')\n",
    "\n",
    "# Compute confusion matrix\n",
    "cnf_matrix = confusion_matrix(y_test,prediction_linear)\n",
    "np.set_printoptions(precision=2)\n",
    "\n",
    "# Plot non-normalized confusion matrix\n",
    "plt.figure()\n",
    "plot_confusion_matrix(cnf_matrix, classes=class_names,\n",
    "                      title='Confusion matrix, without normalization')\n",
    "\n",
    "# Plot normalized confusion matrix\n",
    "plt.figure()\n",
    "plot_confusion_matrix(cnf_matrix, classes=class_names, normalize=True,\n",
    "                      title='Normalized confusion matrix')\n",
    "\n",
    "plt.show()"
   ]
  },
  {
   "cell_type": "code",
   "execution_count": null,
   "metadata": {
    "id": "47HZvwYAtgxs"
   },
   "outputs": [],
   "source": []
  }
 ],
 "metadata": {
  "colab": {
   "collapsed_sections": [],
   "name": "svm-another.ipynb",
   "provenance": []
  },
  "kernelspec": {
   "display_name": "Python 3",
   "language": "python",
   "name": "python3"
  },
  "language_info": {
   "codemirror_mode": {
    "name": "ipython",
    "version": 3
   },
   "file_extension": ".py",
   "mimetype": "text/x-python",
   "name": "python",
   "nbconvert_exporter": "python",
   "pygments_lexer": "ipython3",
   "version": "3.8.3"
  }
 },
 "nbformat": 4,
 "nbformat_minor": 1
}
