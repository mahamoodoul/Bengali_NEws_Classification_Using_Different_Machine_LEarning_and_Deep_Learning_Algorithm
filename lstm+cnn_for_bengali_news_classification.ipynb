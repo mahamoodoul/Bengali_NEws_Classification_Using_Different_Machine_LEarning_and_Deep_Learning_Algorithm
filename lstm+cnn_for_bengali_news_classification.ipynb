{
  "nbformat": 4,
  "nbformat_minor": 0,
  "metadata": {
    "colab": {
      "name": "lstm+cnn for bengali news classification.ipynb",
      "provenance": []
    },
    "kernelspec": {
      "name": "python3",
      "display_name": "Python 3"
    },
    "language_info": {
      "name": "python"
    }
  },
  "cells": [
    {
      "cell_type": "code",
      "metadata": {
        "colab": {
          "base_uri": "https://localhost:8080/"
        },
        "id": "l3OttR868xix",
        "outputId": "233a47f7-ee1b-4d22-acda-244e2c2d6b73"
      },
      "source": [
        "from google.colab import drive\n",
        "drive.mount('/content/gdrive')"
      ],
      "execution_count": null,
      "outputs": [
        {
          "output_type": "stream",
          "text": [
            "Mounted at /content/gdrive\n"
          ],
          "name": "stdout"
        }
      ]
    },
    {
      "cell_type": "code",
      "metadata": {
        "id": "NiJxGydJ86gT"
      },
      "source": [
        "import numpy as np # linear algebra\n",
        "import pandas as pd # data processing, CSV file I/O (e.g. pd.read_csv)\n",
        "import os\n",
        "import pandas as pd\n",
        "import numpy as np\n",
        "from matplotlib import pyplot as plt\n",
        "import seaborn as sns\n",
        "from sklearn.feature_extraction.text import CountVectorizer\n",
        "from sklearn.model_selection import train_test_split\n",
        "from sklearn.metrics import accuracy_score, confusion_matrix, classification_report"
      ],
      "execution_count": null,
      "outputs": []
    },
    {
      "cell_type": "code",
      "metadata": {
        "colab": {
          "base_uri": "https://localhost:8080/",
          "height": 387
        },
        "id": "Fdxq4AiS9Oqy",
        "outputId": "2870dfee-1460-4c62-b975-7b35c7219a0b"
      },
      "source": [
        "df = pd.read_csv('/content/gdrive/My Drive/Dataset-thesis/newsdata504266with7labels.csv')\n",
        "df"
      ],
      "execution_count": null,
      "outputs": [
        {
          "output_type": "error",
          "ename": "FileNotFoundError",
          "evalue": "ignored",
          "traceback": [
            "\u001b[0;31m---------------------------------------------------------------------------\u001b[0m",
            "\u001b[0;31mFileNotFoundError\u001b[0m                         Traceback (most recent call last)",
            "\u001b[0;32m<ipython-input-3-2abd17d116b1>\u001b[0m in \u001b[0;36m<module>\u001b[0;34m()\u001b[0m\n\u001b[0;32m----> 1\u001b[0;31m \u001b[0mdf\u001b[0m \u001b[0;34m=\u001b[0m \u001b[0mpd\u001b[0m\u001b[0;34m.\u001b[0m\u001b[0mread_csv\u001b[0m\u001b[0;34m(\u001b[0m\u001b[0;34m'/content/gdrive/My Drive/Dataset-thesis/newsdata504266with7labels.csv'\u001b[0m\u001b[0;34m)\u001b[0m\u001b[0;34m\u001b[0m\u001b[0;34m\u001b[0m\u001b[0m\n\u001b[0m\u001b[1;32m      2\u001b[0m \u001b[0mdf\u001b[0m\u001b[0;34m\u001b[0m\u001b[0;34m\u001b[0m\u001b[0m\n",
            "\u001b[0;32m/usr/local/lib/python3.7/dist-packages/pandas/io/parsers.py\u001b[0m in \u001b[0;36mread_csv\u001b[0;34m(filepath_or_buffer, sep, delimiter, header, names, index_col, usecols, squeeze, prefix, mangle_dupe_cols, dtype, engine, converters, true_values, false_values, skipinitialspace, skiprows, skipfooter, nrows, na_values, keep_default_na, na_filter, verbose, skip_blank_lines, parse_dates, infer_datetime_format, keep_date_col, date_parser, dayfirst, cache_dates, iterator, chunksize, compression, thousands, decimal, lineterminator, quotechar, quoting, doublequote, escapechar, comment, encoding, dialect, error_bad_lines, warn_bad_lines, delim_whitespace, low_memory, memory_map, float_precision)\u001b[0m\n\u001b[1;32m    686\u001b[0m     )\n\u001b[1;32m    687\u001b[0m \u001b[0;34m\u001b[0m\u001b[0m\n\u001b[0;32m--> 688\u001b[0;31m     \u001b[0;32mreturn\u001b[0m \u001b[0m_read\u001b[0m\u001b[0;34m(\u001b[0m\u001b[0mfilepath_or_buffer\u001b[0m\u001b[0;34m,\u001b[0m \u001b[0mkwds\u001b[0m\u001b[0;34m)\u001b[0m\u001b[0;34m\u001b[0m\u001b[0;34m\u001b[0m\u001b[0m\n\u001b[0m\u001b[1;32m    689\u001b[0m \u001b[0;34m\u001b[0m\u001b[0m\n\u001b[1;32m    690\u001b[0m \u001b[0;34m\u001b[0m\u001b[0m\n",
            "\u001b[0;32m/usr/local/lib/python3.7/dist-packages/pandas/io/parsers.py\u001b[0m in \u001b[0;36m_read\u001b[0;34m(filepath_or_buffer, kwds)\u001b[0m\n\u001b[1;32m    452\u001b[0m \u001b[0;34m\u001b[0m\u001b[0m\n\u001b[1;32m    453\u001b[0m     \u001b[0;31m# Create the parser.\u001b[0m\u001b[0;34m\u001b[0m\u001b[0;34m\u001b[0m\u001b[0;34m\u001b[0m\u001b[0m\n\u001b[0;32m--> 454\u001b[0;31m     \u001b[0mparser\u001b[0m \u001b[0;34m=\u001b[0m \u001b[0mTextFileReader\u001b[0m\u001b[0;34m(\u001b[0m\u001b[0mfp_or_buf\u001b[0m\u001b[0;34m,\u001b[0m \u001b[0;34m**\u001b[0m\u001b[0mkwds\u001b[0m\u001b[0;34m)\u001b[0m\u001b[0;34m\u001b[0m\u001b[0;34m\u001b[0m\u001b[0m\n\u001b[0m\u001b[1;32m    455\u001b[0m \u001b[0;34m\u001b[0m\u001b[0m\n\u001b[1;32m    456\u001b[0m     \u001b[0;32mif\u001b[0m \u001b[0mchunksize\u001b[0m \u001b[0;32mor\u001b[0m \u001b[0miterator\u001b[0m\u001b[0;34m:\u001b[0m\u001b[0;34m\u001b[0m\u001b[0;34m\u001b[0m\u001b[0m\n",
            "\u001b[0;32m/usr/local/lib/python3.7/dist-packages/pandas/io/parsers.py\u001b[0m in \u001b[0;36m__init__\u001b[0;34m(self, f, engine, **kwds)\u001b[0m\n\u001b[1;32m    946\u001b[0m             \u001b[0mself\u001b[0m\u001b[0;34m.\u001b[0m\u001b[0moptions\u001b[0m\u001b[0;34m[\u001b[0m\u001b[0;34m\"has_index_names\"\u001b[0m\u001b[0;34m]\u001b[0m \u001b[0;34m=\u001b[0m \u001b[0mkwds\u001b[0m\u001b[0;34m[\u001b[0m\u001b[0;34m\"has_index_names\"\u001b[0m\u001b[0;34m]\u001b[0m\u001b[0;34m\u001b[0m\u001b[0;34m\u001b[0m\u001b[0m\n\u001b[1;32m    947\u001b[0m \u001b[0;34m\u001b[0m\u001b[0m\n\u001b[0;32m--> 948\u001b[0;31m         \u001b[0mself\u001b[0m\u001b[0;34m.\u001b[0m\u001b[0m_make_engine\u001b[0m\u001b[0;34m(\u001b[0m\u001b[0mself\u001b[0m\u001b[0;34m.\u001b[0m\u001b[0mengine\u001b[0m\u001b[0;34m)\u001b[0m\u001b[0;34m\u001b[0m\u001b[0;34m\u001b[0m\u001b[0m\n\u001b[0m\u001b[1;32m    949\u001b[0m \u001b[0;34m\u001b[0m\u001b[0m\n\u001b[1;32m    950\u001b[0m     \u001b[0;32mdef\u001b[0m \u001b[0mclose\u001b[0m\u001b[0;34m(\u001b[0m\u001b[0mself\u001b[0m\u001b[0;34m)\u001b[0m\u001b[0;34m:\u001b[0m\u001b[0;34m\u001b[0m\u001b[0;34m\u001b[0m\u001b[0m\n",
            "\u001b[0;32m/usr/local/lib/python3.7/dist-packages/pandas/io/parsers.py\u001b[0m in \u001b[0;36m_make_engine\u001b[0;34m(self, engine)\u001b[0m\n\u001b[1;32m   1178\u001b[0m     \u001b[0;32mdef\u001b[0m \u001b[0m_make_engine\u001b[0m\u001b[0;34m(\u001b[0m\u001b[0mself\u001b[0m\u001b[0;34m,\u001b[0m \u001b[0mengine\u001b[0m\u001b[0;34m=\u001b[0m\u001b[0;34m\"c\"\u001b[0m\u001b[0;34m)\u001b[0m\u001b[0;34m:\u001b[0m\u001b[0;34m\u001b[0m\u001b[0;34m\u001b[0m\u001b[0m\n\u001b[1;32m   1179\u001b[0m         \u001b[0;32mif\u001b[0m \u001b[0mengine\u001b[0m \u001b[0;34m==\u001b[0m \u001b[0;34m\"c\"\u001b[0m\u001b[0;34m:\u001b[0m\u001b[0;34m\u001b[0m\u001b[0;34m\u001b[0m\u001b[0m\n\u001b[0;32m-> 1180\u001b[0;31m             \u001b[0mself\u001b[0m\u001b[0;34m.\u001b[0m\u001b[0m_engine\u001b[0m \u001b[0;34m=\u001b[0m \u001b[0mCParserWrapper\u001b[0m\u001b[0;34m(\u001b[0m\u001b[0mself\u001b[0m\u001b[0;34m.\u001b[0m\u001b[0mf\u001b[0m\u001b[0;34m,\u001b[0m \u001b[0;34m**\u001b[0m\u001b[0mself\u001b[0m\u001b[0;34m.\u001b[0m\u001b[0moptions\u001b[0m\u001b[0;34m)\u001b[0m\u001b[0;34m\u001b[0m\u001b[0;34m\u001b[0m\u001b[0m\n\u001b[0m\u001b[1;32m   1181\u001b[0m         \u001b[0;32melse\u001b[0m\u001b[0;34m:\u001b[0m\u001b[0;34m\u001b[0m\u001b[0;34m\u001b[0m\u001b[0m\n\u001b[1;32m   1182\u001b[0m             \u001b[0;32mif\u001b[0m \u001b[0mengine\u001b[0m \u001b[0;34m==\u001b[0m \u001b[0;34m\"python\"\u001b[0m\u001b[0;34m:\u001b[0m\u001b[0;34m\u001b[0m\u001b[0;34m\u001b[0m\u001b[0m\n",
            "\u001b[0;32m/usr/local/lib/python3.7/dist-packages/pandas/io/parsers.py\u001b[0m in \u001b[0;36m__init__\u001b[0;34m(self, src, **kwds)\u001b[0m\n\u001b[1;32m   2008\u001b[0m         \u001b[0mkwds\u001b[0m\u001b[0;34m[\u001b[0m\u001b[0;34m\"usecols\"\u001b[0m\u001b[0;34m]\u001b[0m \u001b[0;34m=\u001b[0m \u001b[0mself\u001b[0m\u001b[0;34m.\u001b[0m\u001b[0musecols\u001b[0m\u001b[0;34m\u001b[0m\u001b[0;34m\u001b[0m\u001b[0m\n\u001b[1;32m   2009\u001b[0m \u001b[0;34m\u001b[0m\u001b[0m\n\u001b[0;32m-> 2010\u001b[0;31m         \u001b[0mself\u001b[0m\u001b[0;34m.\u001b[0m\u001b[0m_reader\u001b[0m \u001b[0;34m=\u001b[0m \u001b[0mparsers\u001b[0m\u001b[0;34m.\u001b[0m\u001b[0mTextReader\u001b[0m\u001b[0;34m(\u001b[0m\u001b[0msrc\u001b[0m\u001b[0;34m,\u001b[0m \u001b[0;34m**\u001b[0m\u001b[0mkwds\u001b[0m\u001b[0;34m)\u001b[0m\u001b[0;34m\u001b[0m\u001b[0;34m\u001b[0m\u001b[0m\n\u001b[0m\u001b[1;32m   2011\u001b[0m         \u001b[0mself\u001b[0m\u001b[0;34m.\u001b[0m\u001b[0munnamed_cols\u001b[0m \u001b[0;34m=\u001b[0m \u001b[0mself\u001b[0m\u001b[0;34m.\u001b[0m\u001b[0m_reader\u001b[0m\u001b[0;34m.\u001b[0m\u001b[0munnamed_cols\u001b[0m\u001b[0;34m\u001b[0m\u001b[0;34m\u001b[0m\u001b[0m\n\u001b[1;32m   2012\u001b[0m \u001b[0;34m\u001b[0m\u001b[0m\n",
            "\u001b[0;32mpandas/_libs/parsers.pyx\u001b[0m in \u001b[0;36mpandas._libs.parsers.TextReader.__cinit__\u001b[0;34m()\u001b[0m\n",
            "\u001b[0;32mpandas/_libs/parsers.pyx\u001b[0m in \u001b[0;36mpandas._libs.parsers.TextReader._setup_parser_source\u001b[0;34m()\u001b[0m\n",
            "\u001b[0;31mFileNotFoundError\u001b[0m: [Errno 2] No such file or directory: '/content/gdrive/My Drive/Dataset-thesis/newsdata504266with7labels.csv'"
          ]
        }
      ]
    },
    {
      "cell_type": "code",
      "metadata": {
        "colab": {
          "base_uri": "https://localhost:8080/",
          "height": 198
        },
        "id": "dwg1-Ck89RyB",
        "outputId": "236b748a-a6ff-4058-d771-a64a4f0079b3"
      },
      "source": [
        "df1 = df.drop(columns=['Unnamed: 0'])\n",
        "df1.head()"
      ],
      "execution_count": null,
      "outputs": [
        {
          "output_type": "execute_result",
          "data": {
            "text/html": [
              "<div>\n",
              "<style scoped>\n",
              "    .dataframe tbody tr th:only-of-type {\n",
              "        vertical-align: middle;\n",
              "    }\n",
              "\n",
              "    .dataframe tbody tr th {\n",
              "        vertical-align: top;\n",
              "    }\n",
              "\n",
              "    .dataframe thead th {\n",
              "        text-align: right;\n",
              "    }\n",
              "</style>\n",
              "<table border=\"1\" class=\"dataframe\">\n",
              "  <thead>\n",
              "    <tr style=\"text-align: right;\">\n",
              "      <th></th>\n",
              "      <th>body</th>\n",
              "      <th>label</th>\n",
              "      <th>source</th>\n",
              "      <th>title</th>\n",
              "      <th>text</th>\n",
              "    </tr>\n",
              "  </thead>\n",
              "  <tbody>\n",
              "    <tr>\n",
              "      <th>0</th>\n",
              "      <td>ঢাকাচট্টগ্রাম মহাসড়কের সীতাকুন্ড উপজেলার ভাটিয়...</td>\n",
              "      <td>national</td>\n",
              "      <td>https://www.banglanews24.com/national/news/bd/...</td>\n",
              "      <td>চট্টগ্রামে দুর্ঘটনায় গার্মেন্টস কর্মী নিহত, আহ...</td>\n",
              "      <td>ঢাকাচট্টগ্রাম মহাসড়কের সীতাকুন্ড উপজেলার ভাটিয়...</td>\n",
              "    </tr>\n",
              "    <tr>\n",
              "      <th>1</th>\n",
              "      <td>নীলফামারী সদর উপজেলার টুপামারী ইউনিয়নের কামারপ...</td>\n",
              "      <td>national</td>\n",
              "      <td>https://www.banglanews24.com/national/news/bd/...</td>\n",
              "      <td>নীলফামারীতে স্ত্রীকে পিটিয়ে হত্যার ঘটনায় মামলা</td>\n",
              "      <td>নীলফামারী সদর উপজেলার টুপামারী ইউনিয়নের কামারপ...</td>\n",
              "    </tr>\n",
              "    <tr>\n",
              "      <th>2</th>\n",
              "      <td>সিরিজের একমাত্র টেস্টে আগামীকাল মুখোমুখি হবে ব...</td>\n",
              "      <td>sports</td>\n",
              "      <td>https://www.jagonews24.com/special-reports/new...</td>\n",
              "      <td>উইকেট দেখে হতাশ টাইগার শিবির</td>\n",
              "      <td>সিরিজের একমাত্র টেস্টে আগামীকাল মুখোমুখি বাংলা...</td>\n",
              "    </tr>\n",
              "    <tr>\n",
              "      <th>3</th>\n",
              "      <td>অনলাইন ডেস্ক পাকিস্তানের বেলুচিস্তান প্রদেশের ...</td>\n",
              "      <td>international</td>\n",
              "      <td>https://www.dailyjanakantha.com/details/articl...</td>\n",
              "      <td>\\nপাকিস্তানের কোয়েটায় পুলিশ ট্রেনিং কলেজে সন্ত...</td>\n",
              "      <td>অনলাইন ডেস্ক পাকিস্তানের বেলুচিস্তান প্রদেশের ...</td>\n",
              "    </tr>\n",
              "    <tr>\n",
              "      <th>4</th>\n",
              "      <td>ফিলিস্তিনের পশ্চিমতীরে ইসরায়েলী পুলিশের সঙ্গে ...</td>\n",
              "      <td>international</td>\n",
              "      <td>https://www.jagonews24.com/special-reports/new...</td>\n",
              "      <td>পশ্চিমতীরে সংঘর্ষে নিহত ১, আহত দুই শতাধিক</td>\n",
              "      <td>ফিলিস্তিনের পশ্চিমতীরে ইসরায়েলী পুলিশের সংঘর্ষ...</td>\n",
              "    </tr>\n",
              "  </tbody>\n",
              "</table>\n",
              "</div>"
            ],
            "text/plain": [
              "                                                body  ...                                               text\n",
              "0  ঢাকাচট্টগ্রাম মহাসড়কের সীতাকুন্ড উপজেলার ভাটিয়...  ...  ঢাকাচট্টগ্রাম মহাসড়কের সীতাকুন্ড উপজেলার ভাটিয়...\n",
              "1  নীলফামারী সদর উপজেলার টুপামারী ইউনিয়নের কামারপ...  ...  নীলফামারী সদর উপজেলার টুপামারী ইউনিয়নের কামারপ...\n",
              "2  সিরিজের একমাত্র টেস্টে আগামীকাল মুখোমুখি হবে ব...  ...  সিরিজের একমাত্র টেস্টে আগামীকাল মুখোমুখি বাংলা...\n",
              "3  অনলাইন ডেস্ক পাকিস্তানের বেলুচিস্তান প্রদেশের ...  ...  অনলাইন ডেস্ক পাকিস্তানের বেলুচিস্তান প্রদেশের ...\n",
              "4  ফিলিস্তিনের পশ্চিমতীরে ইসরায়েলী পুলিশের সঙ্গে ...  ...  ফিলিস্তিনের পশ্চিমতীরে ইসরায়েলী পুলিশের সংঘর্ষ...\n",
              "\n",
              "[5 rows x 5 columns]"
            ]
          },
          "metadata": {
            "tags": []
          },
          "execution_count": 4
        }
      ]
    },
    {
      "cell_type": "code",
      "metadata": {
        "colab": {
          "base_uri": "https://localhost:8080/"
        },
        "id": "03t2Foff9V5B",
        "outputId": "e8f9db4e-8ab9-4d1c-d498-cd5d5fa69c80"
      },
      "source": [
        "df1.isna().sum()\n",
        "df2 = df1.dropna()\n",
        "df1.isna().sum()"
      ],
      "execution_count": null,
      "outputs": [
        {
          "output_type": "execute_result",
          "data": {
            "text/plain": [
              "body      0\n",
              "label     0\n",
              "source    0\n",
              "title     0\n",
              "text      0\n",
              "dtype: int64"
            ]
          },
          "metadata": {
            "tags": []
          },
          "execution_count": 5
        }
      ]
    },
    {
      "cell_type": "code",
      "metadata": {
        "colab": {
          "base_uri": "https://localhost:8080/"
        },
        "id": "2fkOIc7T9ZKB",
        "outputId": "2c358b6c-bdae-4017-c8e7-d2e29c34a8fb"
      },
      "source": [
        "df1.shape"
      ],
      "execution_count": null,
      "outputs": [
        {
          "output_type": "execute_result",
          "data": {
            "text/plain": [
              "(504266, 5)"
            ]
          },
          "metadata": {
            "tags": []
          },
          "execution_count": 6
        }
      ]
    },
    {
      "cell_type": "code",
      "metadata": {
        "colab": {
          "base_uri": "https://localhost:8080/"
        },
        "id": "BVTw1gMz9lCZ",
        "outputId": "2b1ff826-4d08-4334-ad01-570e8ae1b667"
      },
      "source": [
        "max_length=df1[\"text\"].str.len().max()\n",
        "print(max_length)\n",
        "min_length=df1[\"text\"].str.len().min()\n",
        "min_length"
      ],
      "execution_count": null,
      "outputs": [
        {
          "output_type": "stream",
          "text": [
            "4743\n"
          ],
          "name": "stdout"
        },
        {
          "output_type": "execute_result",
          "data": {
            "text/plain": [
              "326"
            ]
          },
          "metadata": {
            "tags": []
          },
          "execution_count": 7
        }
      ]
    },
    {
      "cell_type": "code",
      "metadata": {
        "id": "b9FMoItD9oZp"
      },
      "source": [
        "df1.drop(df1[df1['text'].str.len() > 5000].index, inplace = True)\n",
        "df1.drop(df1[df1['text'].str.len() < 490].index, inplace = True)"
      ],
      "execution_count": null,
      "outputs": []
    },
    {
      "cell_type": "code",
      "metadata": {
        "colab": {
          "base_uri": "https://localhost:8080/"
        },
        "id": "Rd_Fj4nO9r1p",
        "outputId": "07141edd-9a0c-4d54-d48c-298e542d7164"
      },
      "source": [
        "max_length=df1[\"text\"].str.len().max()\n",
        "print(max_length)\n",
        "min_length=df1[\"text\"].str.len().min()\n",
        "min_length"
      ],
      "execution_count": null,
      "outputs": [
        {
          "output_type": "stream",
          "text": [
            "4743\n"
          ],
          "name": "stdout"
        },
        {
          "output_type": "execute_result",
          "data": {
            "text/plain": [
              "490"
            ]
          },
          "metadata": {
            "tags": []
          },
          "execution_count": 9
        }
      ]
    },
    {
      "cell_type": "code",
      "metadata": {
        "colab": {
          "base_uri": "https://localhost:8080/"
        },
        "id": "_dmqYXjf9wlh",
        "outputId": "1e003e42-d596-48b7-8b27-e69da1a893d3"
      },
      "source": [
        "df1.shape"
      ],
      "execution_count": null,
      "outputs": [
        {
          "output_type": "execute_result",
          "data": {
            "text/plain": [
              "(500620, 5)"
            ]
          },
          "metadata": {
            "tags": []
          },
          "execution_count": 49
        }
      ]
    },
    {
      "cell_type": "code",
      "metadata": {
        "id": "ZQifaRDh9zOR"
      },
      "source": [
        "df2 = df1.reset_index(drop=True)"
      ],
      "execution_count": null,
      "outputs": []
    },
    {
      "cell_type": "code",
      "metadata": {
        "colab": {
          "base_uri": "https://localhost:8080/"
        },
        "id": "L1e16ufs92Nx",
        "outputId": "8edd64d7-e1b2-4170-b5d0-b3726a9e3cad"
      },
      "source": [
        "# Look at classification type counts\n",
        "counts = df2.label.value_counts()\n",
        "print(len(counts))\n",
        "print(counts)"
      ],
      "execution_count": null,
      "outputs": [
        {
          "output_type": "stream",
          "text": [
            "7\n",
            "sports                86243\n",
            "international         83946\n",
            "national              83939\n",
            "all_bangladesh        80840\n",
            "politics              65799\n",
            "entertainment         52969\n",
            "economics-business    46884\n",
            "Name: label, dtype: int64\n"
          ],
          "name": "stdout"
        }
      ]
    },
    {
      "cell_type": "code",
      "metadata": {
        "id": "YvQE1HyQnA50",
        "colab": {
          "base_uri": "https://localhost:8080/"
        },
        "outputId": "1429e281-dd6a-4630-aad4-50eee384ddf6"
      },
      "source": [
        "top_6 = df2[df2['label'].isin(['sports','international','politics','entertainment','economics-business','national'])]\n",
        "top_6.shape"
      ],
      "execution_count": null,
      "outputs": [
        {
          "output_type": "execute_result",
          "data": {
            "text/plain": [
              "(419780, 5)"
            ]
          },
          "metadata": {
            "tags": []
          },
          "execution_count": 48
        }
      ]
    },
    {
      "cell_type": "code",
      "metadata": {
        "id": "VGQTUVv_xesc"
      },
      "source": [
        "df2 = top_6"
      ],
      "execution_count": null,
      "outputs": []
    },
    {
      "cell_type": "code",
      "metadata": {
        "colab": {
          "base_uri": "https://localhost:8080/"
        },
        "id": "mdo4hThSxh26",
        "outputId": "8b38591d-7e14-4fdb-b9d9-050b2a9fdf74"
      },
      "source": [
        "df2.shape"
      ],
      "execution_count": null,
      "outputs": [
        {
          "output_type": "execute_result",
          "data": {
            "text/plain": [
              "(419780, 5)"
            ]
          },
          "metadata": {
            "tags": []
          },
          "execution_count": 52
        }
      ]
    },
    {
      "cell_type": "code",
      "metadata": {
        "colab": {
          "base_uri": "https://localhost:8080/"
        },
        "id": "1AhLf1cr95Gx",
        "outputId": "762dcbe5-9ab7-4cc0-f091-38afd8f4f743"
      },
      "source": [
        "len(df2.body[20])"
      ],
      "execution_count": null,
      "outputs": [
        {
          "output_type": "execute_result",
          "data": {
            "text/plain": [
              "1894"
            ]
          },
          "metadata": {
            "tags": []
          },
          "execution_count": 53
        }
      ]
    },
    {
      "cell_type": "code",
      "metadata": {
        "colab": {
          "base_uri": "https://localhost:8080/"
        },
        "id": "n2T48qzF9-Vh",
        "outputId": "5987bbb3-2eae-4541-e2a2-a9d4e581a432"
      },
      "source": [
        "len(df2.text[20])"
      ],
      "execution_count": null,
      "outputs": [
        {
          "output_type": "execute_result",
          "data": {
            "text/plain": [
              "1577"
            ]
          },
          "metadata": {
            "tags": []
          },
          "execution_count": 54
        }
      ]
    },
    {
      "cell_type": "code",
      "metadata": {
        "colab": {
          "base_uri": "https://localhost:8080/",
          "height": 108
        },
        "id": "B2eSUWD2-AOR",
        "outputId": "3026402d-08dc-4c7f-b390-158892a0a3b5"
      },
      "source": [
        "df2.body[0]"
      ],
      "execution_count": null,
      "outputs": [
        {
          "output_type": "execute_result",
          "data": {
            "application/vnd.google.colaboratory.intrinsic+json": {
              "type": "string"
            },
            "text/plain": [
              "'ঢাকাচট্টগ্রাম মহাসড়কের সীতাকুন্ড উপজেলার ভাটিয়ারি এলাকায় শনিবার রাতে কাভার্ড ভ্যান ও বাসের মুখোমুখি সংঘর্ষে উত্তম পুরোহিত নামের এক গার্মেন্টস কর্মী নিহত হয়েছেন। একই দুর্ঘটনায় কমপক্ষে আরও জন আহত হয়েছেন। এদের মধ্যে জনকে চট্টগ্রাম মেডিক্যাল কলেজ হাসপাতালে ভর্তি করা হয়েছে। দুর্ঘটনার পর ভাটিয়ারি এলাকা দিয়ে মহাসড়কে যানবাহন চলাচলে ব্যাঘাত ঘটছে। ঘটনাস্থলে থাকা সীতাকুন্ড হাইওয়ে পুলিশের সার্জেন্ট মোহাম্মদ হাসান বাংলানিউজকে জানান শনিবার রাত পৌনে টার দিকে সীতাকুন্ড ছেড়ে আসা নম্বর রুটের একটি বাস ও নগরী ছেড়ে যাওয়া একটি দ্রুতগামী কাভার্ড ভ্যানের মধ্যে মুখোমুখি সংঘর্ষ হয়। এতে গুরুতর আহত জন বাস যাত্রীকে স্থানীয়রা উদ্ধার করে চমেক হাসপাতালে নিয়ে যান। এছাড়া আরও কমপক্ষে জন বাস যাত্রীকে প্রাথমিক চিকিৎসা দেওয়া হয়েছে বলে সার্জেন্ট হাসান জানান। চমেক হাসপাতালের পুলিশ ফাঁড়ির কনস্টেবল মোহাম্মদ হারুন বাংলানিউজকে জানান গুরুতর আহত জনকে আনার পর কর্তব্যরত চিকিৎসক উত্তম পুরোহিতকে মৃত ঘোষণা করেন। উত্তম নগরীর বাকলিয়া এলাকার জনৈক গোপাল পুরোহিতের ছেলে এবং তাদের গ্রামের বাড়ি সীতাকুন্ডের বার আউলিয়া এলাকায় বলে হারুন জানান। এছাড়া উত্তম পুরোহিত নগরীর একটি গার্মেন্টসে চাকরি করতেন বলে কনস্টেবল হারুন আহতদের বরাত দিয়ে জানালেও প্রতিষ্ঠানের নাম তিনি জানাতে পারেননি। বাংলাদেশ সময় ঘণ্টা জুন'"
            ]
          },
          "metadata": {
            "tags": []
          },
          "execution_count": 55
        }
      ]
    },
    {
      "cell_type": "code",
      "metadata": {
        "colab": {
          "base_uri": "https://localhost:8080/",
          "height": 108
        },
        "id": "Tv9QSVoi-ESR",
        "outputId": "63e6ad04-1ba3-47ec-dfc8-5245d8d09a9e"
      },
      "source": [
        "df2.text[0]"
      ],
      "execution_count": null,
      "outputs": [
        {
          "output_type": "execute_result",
          "data": {
            "application/vnd.google.colaboratory.intrinsic+json": {
              "type": "string"
            },
            "text/plain": [
              "'ঢাকাচট্টগ্রাম মহাসড়কের সীতাকুন্ড উপজেলার ভাটিয়ারি এলাকায় শনিবার রাতে কাভার্ড ভ্যান বাসের মুখোমুখি সংঘর্ষে উত্তম পুরোহিত নামের এক গার্মেন্টস কর্মী নিহত হয়েছেন । দুর্ঘটনায় কমপক্ষে আহত হয়েছেন । চট্টগ্রাম মেডিক্যাল কলেজ হাসপাতালে ভর্তি হয়েছে । দুর্ঘটনার ভাটিয়ারি এলাকা দিয়ে মহাসড়কে যানবাহন চলাচলে ব্যাঘাত ঘটছে । ঘটনাস্থলে সীতাকুন্ড হাইওয়ে পুলিশের সার্জেন্ট মোহাম্মদ হাসান বাংলানিউজকে জানান শনিবার রাত পৌনে টার সীতাকুন্ড ছেড়ে আসা নম্বর রুটের বাস নগরী ছেড়ে দ্রুতগামী কাভার্ড ভ্যানের মুখোমুখি সংঘর্ষ । গুরুতর আহত বাস যাত্রীকে স্থানীয়রা উদ্ধার চমেক হাসপাতালে । এছাড়া কমপক্ষে বাস যাত্রীকে চিকিৎসা হয়েছে সার্জেন্ট হাসান জানান । চমেক হাসপাতালের পুলিশ ফাঁড়ির কনস্টেবল মোহাম্মদ হারুন বাংলানিউজকে জানান গুরুতর আহত আনার কর্তব্যরত চিকিৎসক উত্তম পুরোহিতকে মৃত ঘোষণা । উত্তম নগরীর বাকলিয়া এলাকার জনৈক গোপাল পুরোহিতের ছেলে গ্রামের বাড়ি সীতাকুন্ডের আউলিয়া এলাকায় হারুন জানান । এছাড়া উত্তম পুরোহিত নগরীর গার্মেন্টসে চাকরি করতেন কনস্টেবল হারুন আহতদের বরাত দিয়ে জানালেও প্রতিষ্ঠানের নাম জানাতে পারেননি । বাংলাদেশ সময় ঘণ্টা জুন'"
            ]
          },
          "metadata": {
            "tags": []
          },
          "execution_count": 57
        }
      ]
    },
    {
      "cell_type": "code",
      "metadata": {
        "colab": {
          "base_uri": "https://localhost:8080/"
        },
        "id": "OXNU2yuG-JsJ",
        "outputId": "50236441-5d71-4b1f-e5ff-d2ad5aa0a0cd"
      },
      "source": [
        "# Get classification types where counts are over 1000\n",
        "#types = np.asarray(counts[(counts > 1000)].index)\n",
        "types=['sports'\n",
        ",'international'\n",
        ",'national'\n",
        ",'politics'\n",
        ",'entertainment'\n",
        ",'economics-business'\n",
        "]\n",
        "# Filter dataset's records for classification types > 1000\n",
        "data = df2[df2.label.isin(types)]\n",
        "\n",
        "#data_m = data[(data['classification'] =='HYDROLASE' )  (data['classification'] =='LIGASE' ) or (data['classification'] =='TRANSFERASE' ) or (data['classification'] =='OXIDOREDUCTASE' ) or (data['classification'] =='ISOMERASE' ) or (data['classification'] =='LYASE' )]\n",
        "\n",
        "print(types)\n",
        "print(len(types))\n",
        "print('%d is the number of records in the final filtered dataset' %data.shape[0])"
      ],
      "execution_count": null,
      "outputs": [
        {
          "output_type": "stream",
          "text": [
            "['sports', 'international', 'national', 'politics', 'entertainment', 'economics-business']\n",
            "6\n",
            "419780 is the number of records in the final filtered dataset\n"
          ],
          "name": "stdout"
        }
      ]
    },
    {
      "cell_type": "code",
      "metadata": {
        "colab": {
          "base_uri": "https://localhost:8080/"
        },
        "id": "ooKt8B_m-ZHZ",
        "outputId": "6e41a7e2-589f-4446-8cd7-b149abff2806"
      },
      "source": [
        "train=data\n",
        "a=train.label.unique()\n",
        "l=len(train.label.unique())\n",
        "print(a)\n",
        "print(len(a))"
      ],
      "execution_count": null,
      "outputs": [
        {
          "output_type": "stream",
          "text": [
            "['national' 'sports' 'international' 'politics' 'economics-business'\n",
            " 'entertainment']\n",
            "6\n"
          ],
          "name": "stdout"
        }
      ]
    },
    {
      "cell_type": "code",
      "metadata": {
        "id": "NhlxEU4E-m4p"
      },
      "source": [
        "for i in range (l):\n",
        "    train.label = train.label.replace(a[i], i)"
      ],
      "execution_count": null,
      "outputs": []
    },
    {
      "cell_type": "code",
      "metadata": {
        "colab": {
          "base_uri": "https://localhost:8080/",
          "height": 407
        },
        "id": "qmm6K6dn-q4B",
        "outputId": "fa688bd2-e867-4bd9-ea27-4e974677437f"
      },
      "source": [
        "train1 = train\n",
        "train2 = train1[['text','label']]                                                                                                                                                                           \n",
        "train2"
      ],
      "execution_count": null,
      "outputs": [
        {
          "output_type": "execute_result",
          "data": {
            "text/html": [
              "<div>\n",
              "<style scoped>\n",
              "    .dataframe tbody tr th:only-of-type {\n",
              "        vertical-align: middle;\n",
              "    }\n",
              "\n",
              "    .dataframe tbody tr th {\n",
              "        vertical-align: top;\n",
              "    }\n",
              "\n",
              "    .dataframe thead th {\n",
              "        text-align: right;\n",
              "    }\n",
              "</style>\n",
              "<table border=\"1\" class=\"dataframe\">\n",
              "  <thead>\n",
              "    <tr style=\"text-align: right;\">\n",
              "      <th></th>\n",
              "      <th>text</th>\n",
              "      <th>label</th>\n",
              "    </tr>\n",
              "  </thead>\n",
              "  <tbody>\n",
              "    <tr>\n",
              "      <th>0</th>\n",
              "      <td>ঢাকাচট্টগ্রাম মহাসড়কের সীতাকুন্ড উপজেলার ভাটিয়...</td>\n",
              "      <td>0</td>\n",
              "    </tr>\n",
              "    <tr>\n",
              "      <th>1</th>\n",
              "      <td>নীলফামারী সদর উপজেলার টুপামারী ইউনিয়নের কামারপ...</td>\n",
              "      <td>0</td>\n",
              "    </tr>\n",
              "    <tr>\n",
              "      <th>2</th>\n",
              "      <td>সিরিজের একমাত্র টেস্টে আগামীকাল মুখোমুখি বাংলা...</td>\n",
              "      <td>1</td>\n",
              "    </tr>\n",
              "    <tr>\n",
              "      <th>3</th>\n",
              "      <td>অনলাইন ডেস্ক পাকিস্তানের বেলুচিস্তান প্রদেশের ...</td>\n",
              "      <td>2</td>\n",
              "    </tr>\n",
              "    <tr>\n",
              "      <th>4</th>\n",
              "      <td>ফিলিস্তিনের পশ্চিমতীরে ইসরায়েলী পুলিশের সংঘর্ষ...</td>\n",
              "      <td>2</td>\n",
              "    </tr>\n",
              "    <tr>\n",
              "      <th>...</th>\n",
              "      <td>...</td>\n",
              "      <td>...</td>\n",
              "    </tr>\n",
              "    <tr>\n",
              "      <th>500615</th>\n",
              "      <td>মাধুর ভান্ডাকারের সমালোচিত ছবি হিরোইনএর জুনিয়র...</td>\n",
              "      <td>5</td>\n",
              "    </tr>\n",
              "    <tr>\n",
              "      <th>500616</th>\n",
              "      <td>ছয় মাসের প্রস্তুতিতে এসএ গেমস খেলতে নেপালে এসে...</td>\n",
              "      <td>1</td>\n",
              "    </tr>\n",
              "    <tr>\n",
              "      <th>500617</th>\n",
              "      <td>বছরের শেষে দহন সিনেমা দিয়ে দর্শক মাতিয়েছেন পূজ...</td>\n",
              "      <td>5</td>\n",
              "    </tr>\n",
              "    <tr>\n",
              "      <th>500618</th>\n",
              "      <td>করোনায় আক্রান্ত শেষ রোগী সুস্থ হয়ে হাসপাতাল ছা...</td>\n",
              "      <td>2</td>\n",
              "    </tr>\n",
              "    <tr>\n",
              "      <th>500619</th>\n",
              "      <td>ব্রাহ্মণবাড়িয়া পৌর শহরের কলেজ পাড়ায় একাধিক ককট...</td>\n",
              "      <td>0</td>\n",
              "    </tr>\n",
              "  </tbody>\n",
              "</table>\n",
              "<p>419780 rows × 2 columns</p>\n",
              "</div>"
            ],
            "text/plain": [
              "                                                     text  label\n",
              "0       ঢাকাচট্টগ্রাম মহাসড়কের সীতাকুন্ড উপজেলার ভাটিয়...      0\n",
              "1       নীলফামারী সদর উপজেলার টুপামারী ইউনিয়নের কামারপ...      0\n",
              "2       সিরিজের একমাত্র টেস্টে আগামীকাল মুখোমুখি বাংলা...      1\n",
              "3       অনলাইন ডেস্ক পাকিস্তানের বেলুচিস্তান প্রদেশের ...      2\n",
              "4       ফিলিস্তিনের পশ্চিমতীরে ইসরায়েলী পুলিশের সংঘর্ষ...      2\n",
              "...                                                   ...    ...\n",
              "500615  মাধুর ভান্ডাকারের সমালোচিত ছবি হিরোইনএর জুনিয়র...      5\n",
              "500616  ছয় মাসের প্রস্তুতিতে এসএ গেমস খেলতে নেপালে এসে...      1\n",
              "500617  বছরের শেষে দহন সিনেমা দিয়ে দর্শক মাতিয়েছেন পূজ...      5\n",
              "500618  করোনায় আক্রান্ত শেষ রোগী সুস্থ হয়ে হাসপাতাল ছা...      2\n",
              "500619  ব্রাহ্মণবাড়িয়া পৌর শহরের কলেজ পাড়ায় একাধিক ককট...      0\n",
              "\n",
              "[419780 rows x 2 columns]"
            ]
          },
          "metadata": {
            "tags": []
          },
          "execution_count": 62
        }
      ]
    },
    {
      "cell_type": "code",
      "metadata": {
        "colab": {
          "base_uri": "https://localhost:8080/"
        },
        "id": "phx0vcn3-rdB",
        "outputId": "80ea0c60-1da6-41b0-ede7-39d2671a5123"
      },
      "source": [
        "# Look at classification type counts\n",
        "counts = df2.label.value_counts()\n",
        "print(len(counts))\n",
        "print(counts)"
      ],
      "execution_count": null,
      "outputs": [
        {
          "output_type": "stream",
          "text": [
            "6\n",
            "sports                86243\n",
            "international         83946\n",
            "national              83939\n",
            "politics              65799\n",
            "entertainment         52969\n",
            "economics-business    46884\n",
            "Name: label, dtype: int64\n"
          ],
          "name": "stdout"
        }
      ]
    },
    {
      "cell_type": "code",
      "metadata": {
        "colab": {
          "base_uri": "https://localhost:8080/"
        },
        "id": "OCplvUCE-uPy",
        "outputId": "d82c14d8-172b-41a4-ff85-78364b98da9d"
      },
      "source": [
        "train2.label.value_counts()"
      ],
      "execution_count": null,
      "outputs": [
        {
          "output_type": "execute_result",
          "data": {
            "text/plain": [
              "1    86243\n",
              "2    83946\n",
              "0    83939\n",
              "3    65799\n",
              "5    52969\n",
              "4    46884\n",
              "Name: label, dtype: int64"
            ]
          },
          "metadata": {
            "tags": []
          },
          "execution_count": 64
        }
      ]
    },
    {
      "cell_type": "code",
      "metadata": {
        "colab": {
          "base_uri": "https://localhost:8080/"
        },
        "id": "ixDX9l66-w8J",
        "outputId": "91160f3a-4c3a-4fc8-e4df-4b506d60c53b"
      },
      "source": [
        "train3 = train2\n",
        "train3.label = train3.label.astype(int)"
      ],
      "execution_count": null,
      "outputs": [
        {
          "output_type": "stream",
          "text": [
            "/usr/local/lib/python3.7/dist-packages/pandas/core/generic.py:5170: SettingWithCopyWarning: \n",
            "A value is trying to be set on a copy of a slice from a DataFrame.\n",
            "Try using .loc[row_indexer,col_indexer] = value instead\n",
            "\n",
            "See the caveats in the documentation: https://pandas.pydata.org/pandas-docs/stable/user_guide/indexing.html#returning-a-view-versus-a-copy\n",
            "  self[name] = value\n"
          ],
          "name": "stderr"
        }
      ]
    },
    {
      "cell_type": "code",
      "metadata": {
        "id": "ti5xp8zy-z-B"
      },
      "source": [
        "from sklearn.model_selection import train_test_split\n",
        "from sklearn.preprocessing import LabelBinarizer\n",
        "from keras.preprocessing.text import Tokenizer\n",
        "from keras.preprocessing.sequence import pad_sequences\n",
        "from sklearn.feature_extraction.text import TfidfVectorizer\n",
        "from keras.layers import SpatialDropout1D\n",
        "from keras.utils import to_categorical\n",
        "from sklearn.metrics import classification_report\n",
        "from sklearn.metrics import roc_auc_score\n",
        "from sklearn.metrics import roc_curve\n",
        "from sklearn.metrics import precision_recall_curve\n",
        "from sklearn.model_selection import GridSearchCV\n",
        "from keras.models import Sequential\n",
        "from keras.layers import Dense\n",
        "from keras.layers import LSTM\n",
        "from keras.layers import Dropout\n",
        "from keras.layers import Bidirectional\n",
        "from keras.layers import TimeDistributed\n",
        "from keras.layers import GlobalMaxPool1D\n",
        "from keras.utils import plot_model\n",
        "from keras.layers import Conv1D\n",
        "from keras.layers import MaxPooling1D\n",
        "from keras.layers import Flatten\n",
        "from keras.layers import Input\n",
        "from keras.layers import Reshape\n",
        "from keras.layers import Conv2D\n",
        "from keras.layers import MaxPool2D\n",
        "from keras.layers import Concatenate\n",
        "from keras.models import Model\n",
        "from keras.callbacks import ModelCheckpoint\n",
        "from keras.optimizers import Adam\n",
        "from keras.layers.embeddings import Embedding\n",
        "from keras.preprocessing import sequence\n",
        "from keras.callbacks import EarlyStopping\n",
        "from sklearn.feature_selection import RFE\n",
        "import re\n",
        "import tensorflow as tf"
      ],
      "execution_count": null,
      "outputs": []
    },
    {
      "cell_type": "code",
      "metadata": {
        "colab": {
          "base_uri": "https://localhost:8080/"
        },
        "id": "610303MS-4B5",
        "outputId": "e82134e3-4999-4f50-fec8-d7b851399336"
      },
      "source": [
        "# The maximum number of words to be used. (most frequent)\n",
        "MAX_NB_WORDS = 50000\n",
        "# Max number of words in each complaint.\n",
        "MAX_SEQUENCE_LENGTH = 250\n",
        "# This is fixed.\n",
        "EMBEDDING_DIM = 100\n",
        "tokenizer = Tokenizer(num_words=MAX_NB_WORDS, filters='!\"#$%&()*+,-./:;<=>?@[\\]^_`{|}~।', lower=False)\n",
        "tokenizer.fit_on_texts(train3.text.values)\n",
        "word_index = tokenizer.word_index\n",
        "print('Found %s unique tokens.' % len(word_index))"
      ],
      "execution_count": null,
      "outputs": [
        {
          "output_type": "stream",
          "text": [
            "Found 981660 unique tokens.\n"
          ],
          "name": "stdout"
        }
      ]
    },
    {
      "cell_type": "code",
      "metadata": {
        "colab": {
          "base_uri": "https://localhost:8080/"
        },
        "id": "hBuAcNWI_jTh",
        "outputId": "437f15f8-c2d7-4e94-f2a4-d3125b05357c"
      },
      "source": [
        "X = tokenizer.texts_to_sequences(train3.text.values)\n",
        "X = pad_sequences(X, maxlen=MAX_SEQUENCE_LENGTH)\n",
        "print('Shape of data tensor:', X.shape)"
      ],
      "execution_count": null,
      "outputs": [
        {
          "output_type": "stream",
          "text": [
            "Shape of data tensor: (419780, 250)\n"
          ],
          "name": "stdout"
        }
      ]
    },
    {
      "cell_type": "code",
      "metadata": {
        "colab": {
          "base_uri": "https://localhost:8080/"
        },
        "id": "YtNpix0w_oiM",
        "outputId": "fa3943c4-bb41-457a-e8d5-1946814e1656"
      },
      "source": [
        "Y = pd.get_dummies(train3.label).values\n",
        "print('Shape of label tensor:', Y.shape)"
      ],
      "execution_count": null,
      "outputs": [
        {
          "output_type": "stream",
          "text": [
            "Shape of label tensor: (419780, 6)\n"
          ],
          "name": "stdout"
        }
      ]
    },
    {
      "cell_type": "code",
      "metadata": {
        "id": "OZn09BbL_olk"
      },
      "source": [
        "train_features, test_features, train_labels, test_labels = train_test_split(X, Y, test_size=.10)"
      ],
      "execution_count": null,
      "outputs": []
    },
    {
      "cell_type": "code",
      "metadata": {
        "colab": {
          "base_uri": "https://localhost:8080/",
          "height": 1000
        },
        "id": "AwFNkim7_opE",
        "outputId": "0cae490c-a8e6-433c-9598-169528b26d55"
      },
      "source": [
        "model = Sequential()\n",
        "model.add(Embedding(MAX_NB_WORDS, EMBEDDING_DIM, input_length=MAX_SEQUENCE_LENGTH))\n",
        "model.add(Conv1D(32, 1, activation= 'relu'))\n",
        "model.add(MaxPooling1D(2))\n",
        "model.add(LSTM(64, activation='relu',return_sequences=True))\n",
        "model.add(Flatten())\n",
        "model.add(Dense(128, activation='relu'))\n",
        "\n",
        "model.add(Dense(l, activation='softmax'))\n",
        "\n",
        "\n",
        "model.compile(loss='categorical_crossentropy', optimizer='adam', metrics=['accuracy'])\n",
        "print(model.summary())\n",
        "\n",
        "plot_model(model,'model.png',show_shapes=True)\n"
      ],
      "execution_count": null,
      "outputs": [
        {
          "output_type": "stream",
          "text": [
            "Model: \"sequential_2\"\n",
            "_________________________________________________________________\n",
            "Layer (type)                 Output Shape              Param #   \n",
            "=================================================================\n",
            "embedding_2 (Embedding)      (None, 250, 100)          5000000   \n",
            "_________________________________________________________________\n",
            "conv1d_1 (Conv1D)            (None, 250, 32)           3232      \n",
            "_________________________________________________________________\n",
            "max_pooling1d_1 (MaxPooling1 (None, 125, 32)           0         \n",
            "_________________________________________________________________\n",
            "lstm_1 (LSTM)                (None, 125, 64)           24832     \n",
            "_________________________________________________________________\n",
            "flatten_1 (Flatten)          (None, 8000)              0         \n",
            "_________________________________________________________________\n",
            "dense_2 (Dense)              (None, 128)               1024128   \n",
            "_________________________________________________________________\n",
            "dense_3 (Dense)              (None, 6)                 774       \n",
            "=================================================================\n",
            "Total params: 6,052,966\n",
            "Trainable params: 6,052,966\n",
            "Non-trainable params: 0\n",
            "_________________________________________________________________\n",
            "None\n"
          ],
          "name": "stdout"
        },
        {
          "output_type": "execute_result",
          "data": {
            "image/png": "[encoded data removed]",
            "text/plain": [
              "<IPython.core.display.Image object>"
            ]
          },
          "metadata": {
            "tags": []
          },
          "execution_count": 71
        }
      ]
    },
    {
      "cell_type": "code",
      "metadata": {
        "id": "tOYkSfqK_osc"
      },
      "source": [
        "epochs = 10 \n",
        "batch_size = 64"
      ],
      "execution_count": null,
      "outputs": []
    },
    {
      "cell_type": "code",
      "metadata": {
        "colab": {
          "base_uri": "https://localhost:8080/"
        },
        "id": "ltug5s-H_ovS",
        "outputId": "8700a110-035f-4078-ff23-92eade55fb04"
      },
      "source": [
        "history = model.fit(train_features, train_labels, epochs=epochs, batch_size=batch_size,validation_split=0.1,callbacks=[EarlyStopping(monitor='val_loss', patience=3, min_delta=0.0001)])"
      ],
      "execution_count": null,
      "outputs": [
        {
          "output_type": "stream",
          "text": [
            "Epoch 1/10\n",
            "5313/5313 [==============================] - 1062s 199ms/step - loss: 49567438.8221 - accuracy: 0.8765 - val_loss: 0.1871 - val_accuracy: 0.9323\n",
            "Epoch 2/10\n",
            "5313/5313 [==============================] - 1108s 209ms/step - loss: 0.1355 - accuracy: 0.9510 - val_loss: 0.1936 - val_accuracy: 0.9324\n",
            "Epoch 3/10\n",
            "5313/5313 [==============================] - 1133s 213ms/step - loss: 0.0989 - accuracy: 0.9630 - val_loss: 0.2138 - val_accuracy: 0.9309\n",
            "Epoch 4/10\n",
            "5313/5313 [==============================] - 1017s 191ms/step - loss: 0.0738 - accuracy: 0.9718 - val_loss: 0.2438 - val_accuracy: 0.9264\n"
          ],
          "name": "stdout"
        }
      ]
    },
    {
      "cell_type": "code",
      "metadata": {
        "colab": {
          "base_uri": "https://localhost:8080/"
        },
        "id": "GXQKK3BdD1pE",
        "outputId": "37f6f960-e27a-4c7e-af57-ede7f67a0a17"
      },
      "source": [
        "accr = model.evaluate(test_features,test_labels)\n",
        "print('Test set\\n  Loss: {:0.3f}\\n  Accuracy: {:0.3f}'.format(accr[0],accr[1]))"
      ],
      "execution_count": null,
      "outputs": [
        {
          "output_type": "stream",
          "text": [
            "1312/1312 [==============================] - 37s 28ms/step - loss: 0.2363 - accuracy: 0.9291\n",
            "Test set\n",
            "  Loss: 0.236\n",
            "  Accuracy: 0.929\n"
          ],
          "name": "stdout"
        }
      ]
    },
    {
      "cell_type": "code",
      "metadata": {
        "colab": {
          "base_uri": "https://localhost:8080/",
          "height": 545
        },
        "id": "9rTeYnbKlSgu",
        "outputId": "1ffa1153-dbe1-4437-83d3-acd9ba4b90fd"
      },
      "source": [
        "from matplotlib import pyplot as plt\n",
        "plt.title('Loss')\n",
        "plt.plot(history.history['loss'],'r', label='train')\n",
        "plt.plot(history.history['val_loss'],'b', label='test')\n",
        "plt.legend()\n",
        "plt.show()\n",
        "plt.title('Accuracy')\n",
        "plt.plot(history.history['accuracy'],'r', label='train')\n",
        "plt.plot(history.history['val_accuracy'],'b', label='test')\n",
        "plt.legend()\n",
        "plt.show()"
      ],
      "execution_count": null,
      "outputs": [
        {
          "output_type": "display_data",
          "data": {
            "image/png": "[encoded data removed]",
            "text/plain": [
              "<Figure size 432x288 with 1 Axes>"
            ]
          },
          "metadata": {
            "tags": [],
            "needs_background": "light"
          }
        },
        {
          "output_type": "display_data",
          "data": {
            "image/png": "[encoded data removed]",
            "text/plain": [
              "<Figure size 432x288 with 1 Axes>"
            ]
          },
          "metadata": {
            "tags": [],
            "needs_background": "light"
          }
        }
      ]
    },
    {
      "cell_type": "code",
      "metadata": {
        "id": "uWp8b4ailfC2"
      },
      "source": [
        "predicted_classes = model.predict(test_features)\n",
        "predicted_classes = np.argmax(np.round(predicted_classes),axis=1)"
      ],
      "execution_count": null,
      "outputs": []
    },
    {
      "cell_type": "code",
      "metadata": {
        "colab": {
          "base_uri": "https://localhost:8080/"
        },
        "id": "Ct49I-rsloxW",
        "outputId": "81e93f0e-a4b8-4b96-d8f9-017a5c707d67"
      },
      "source": [
        "predicted_classes.shape, test_labels.shape\n",
        "print(test_labels.shape)"
      ],
      "execution_count": null,
      "outputs": [
        {
          "output_type": "stream",
          "text": [
            "(50062, 7)\n"
          ],
          "name": "stdout"
        }
      ]
    },
    {
      "cell_type": "code",
      "metadata": {
        "id": "OndcZsFalrcK"
      },
      "source": [
        "test_Y = np.argmax(np.round(test_labels),axis=1)"
      ],
      "execution_count": null,
      "outputs": []
    },
    {
      "cell_type": "code",
      "metadata": {
        "colab": {
          "base_uri": "https://localhost:8080/"
        },
        "id": "fbPQxDC-lrfZ",
        "outputId": "c8f0f4fb-5691-403b-95ee-d7333de6e0ef"
      },
      "source": [
        "from sklearn.metrics import classification_report\n",
        "target_names = [\"Class {}\".format(i) for i in range(7)]\n",
        "print(classification_report(test_Y, predicted_classes, target_names=target_names))"
      ],
      "execution_count": null,
      "outputs": [
        {
          "output_type": "stream",
          "text": [
            "              precision    recall  f1-score   support\n",
            "\n",
            "     Class 0       0.86      0.84      0.85      8316\n",
            "     Class 1       0.98      0.98      0.98      8767\n",
            "     Class 2       0.95      0.96      0.96      8387\n",
            "     Class 3       0.96      0.93      0.95      8196\n",
            "     Class 4       0.84      0.89      0.86      6496\n",
            "     Class 5       0.89      0.89      0.89      4670\n",
            "     Class 6       0.96      0.94      0.95      5230\n",
            "\n",
            "    accuracy                           0.92     50062\n",
            "   macro avg       0.92      0.92      0.92     50062\n",
            "weighted avg       0.92      0.92      0.92     50062\n",
            "\n"
          ],
          "name": "stdout"
        }
      ]
    },
    {
      "cell_type": "code",
      "metadata": {
        "id": "miYxkruelrjE"
      },
      "source": [
        "name=[]\n",
        "for i in range(7):\n",
        "  name.append(i)\n"
      ],
      "execution_count": null,
      "outputs": []
    },
    {
      "cell_type": "code",
      "metadata": {
        "colab": {
          "base_uri": "https://localhost:8080/",
          "height": 501
        },
        "id": "N_Kp20F6lrmY",
        "outputId": "b69fc43f-c521-40a0-c671-0f8e15e1d0ee"
      },
      "source": [
        "# Plot confusion matrix\n",
        "conf_mat = confusion_matrix(test_Y, predicted_classes, labels = name)\n",
        "\n",
        "#Normalize confusion_matrix\n",
        "conf_mat = conf_mat.astype('float')/ conf_mat.sum(axis=1)[:, np.newaxis]\n",
        "\n",
        "# Plot Heat Map\n",
        "fig , ax = plt.subplots()\n",
        "fig.set_size_inches(13, 8)\n",
        "sns.heatmap(conf_mat)"
      ],
      "execution_count": null,
      "outputs": [
        {
          "output_type": "execute_result",
          "data": {
            "text/plain": [
              "<matplotlib.axes._subplots.AxesSubplot at 0x7f44f67169d0>"
            ]
          },
          "metadata": {
            "tags": []
          },
          "execution_count": 46
        },
        {
          "output_type": "display_data",
          "data": {
            "image/png": "[encoded data removed]",
            "text/plain": [
              "<Figure size 936x576 with 2 Axes>"
            ]
          },
          "metadata": {
            "tags": [],
            "needs_background": "light"
          }
        }
      ]
    },
    {
      "cell_type": "code",
      "metadata": {
        "id": "pBG6Qz30l6yl",
        "colab": {
          "base_uri": "https://localhost:8080/",
          "height": 914
        },
        "outputId": "075c4e7d-d7d0-428b-fe7e-7b2074b8848b"
      },
      "source": [
        "print(__doc__)\n",
        "\n",
        "import itertools\n",
        "import numpy as np\n",
        "import matplotlib.pyplot as plt\n",
        "\n",
        "from sklearn import svm, datasets\n",
        "from sklearn.model_selection import train_test_split\n",
        "from sklearn.metrics import confusion_matrix\n",
        "\n",
        "\n",
        "class_names = name\n",
        "\n",
        "def plot_confusion_matrix(cm, classes,\n",
        "                          normalize=False,\n",
        "                          title='Confusion matrix',\n",
        "                          cmap=plt.cm.Blues):\n",
        "    \"\"\"\n",
        "    This function prints and plots the confusion matrix.\n",
        "    Normalization can be applied by setting `normalize=True`.\n",
        "    \"\"\"\n",
        "    if normalize:\n",
        "        cm = cm.astype('float') / cm.sum(axis=1)[:, np.newaxis]\n",
        "        print(\"Normalized confusion matrix\")\n",
        "    else:\n",
        "        print('Confusion matrix, without normalization')\n",
        "\n",
        "    print(cm)\n",
        "\n",
        "    plt.imshow(cm, interpolation='nearest', cmap=cmap)\n",
        "    plt.title(title)\n",
        "    plt.colorbar()\n",
        "    tick_marks = np.arange(len(classes))\n",
        "    plt.xticks(tick_marks, classes, rotation=0)\n",
        "    plt.yticks(tick_marks, classes)\n",
        "\n",
        "    fmt = '.2f' if normalize else 'd'\n",
        "    thresh = cm.max() / 2.\n",
        "    for i, j in itertools.product(range(cm.shape[0]), range(cm.shape[1])):\n",
        "        plt.text(j, i, format(cm[i, j], fmt),\n",
        "                 horizontalalignment=\"center\",\n",
        "                 color=\"white\" if cm[i, j] > thresh else \"black\")\n",
        "\n",
        "    plt.tight_layout()\n",
        "    plt.ylabel('True label')\n",
        "    plt.xlabel('Predicted label')\n",
        "\n",
        "# Compute confusion matrix\n",
        "cnf_matrix = confusion_matrix(test_Y, predicted_classes)\n",
        "np.set_printoptions(precision=2)\n",
        "\n",
        "# Plot non-normalized confusion matrix\n",
        "plt.figure()\n",
        "plot_confusion_matrix(cnf_matrix, classes=class_names,\n",
        "                      title='Confusion matrix, without normalization')\n",
        "\n",
        "# Plot normalized confusion matrix\n",
        "plt.figure()\n",
        "plot_confusion_matrix(cnf_matrix, classes=class_names, normalize=True,\n",
        "                      title='Normalized confusion matrix')\n",
        "\n",
        "plt.show()"
      ],
      "execution_count": null,
      "outputs": [
        {
          "output_type": "stream",
          "text": [
            "Automatically created module for IPython interactive environment\n",
            "Confusion matrix, without normalization\n",
            "[[6976   25   71   84  863  258   39]\n",
            " [  39 8618   56   17    7   13   17]\n",
            " [  82   44 8081   38    9   56   77]\n",
            " [ 124   21   27 7659  204  121   40]\n",
            " [ 548    8   14  102 5781   34    9]\n",
            " [ 284   11   79   81   30 4153   32]\n",
            " [  77   40  147   30   13   18 4905]]\n",
            "Normalized confusion matrix\n",
            "[[8.39e-01 3.01e-03 8.54e-03 1.01e-02 1.04e-01 3.10e-02 4.69e-03]\n",
            " [4.45e-03 9.83e-01 6.39e-03 1.94e-03 7.98e-04 1.48e-03 1.94e-03]\n",
            " [9.78e-03 5.25e-03 9.64e-01 4.53e-03 1.07e-03 6.68e-03 9.18e-03]\n",
            " [1.51e-02 2.56e-03 3.29e-03 9.34e-01 2.49e-02 1.48e-02 4.88e-03]\n",
            " [8.44e-02 1.23e-03 2.16e-03 1.57e-02 8.90e-01 5.23e-03 1.39e-03]\n",
            " [6.08e-02 2.36e-03 1.69e-02 1.73e-02 6.42e-03 8.89e-01 6.85e-03]\n",
            " [1.47e-02 7.65e-03 2.81e-02 5.74e-03 2.49e-03 3.44e-03 9.38e-01]]\n"
          ],
          "name": "stdout"
        },
        {
          "output_type": "display_data",
          "data": {
            "image/png": "[encoded data removed]",
            "text/plain": [
              "<Figure size 432x288 with 2 Axes>"
            ]
          },
          "metadata": {
            "tags": [],
            "needs_background": "light"
          }
        },
        {
          "output_type": "display_data",
          "data": {
            "image/png": "[encoded data removed]",
            "text/plain": [
              "<Figure size 432x288 with 2 Axes>"
            ]
          },
          "metadata": {
            "tags": [],
            "needs_background": "light"
          }
        }
      ]
    },
    {
      "cell_type": "code",
      "metadata": {
        "id": "NuehoQC5l-Ad"
      },
      "source": [
        ""
      ],
      "execution_count": null,
      "outputs": []
    }
  ]
}