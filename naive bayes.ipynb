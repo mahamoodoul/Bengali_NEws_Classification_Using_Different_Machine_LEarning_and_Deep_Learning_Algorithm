{
 "cells": [
  {
   "cell_type": "code",
   "execution_count": 1,
   "metadata": {},
   "outputs": [],
   "source": [
    "import numpy as np # linear algebra\n",
    "import pandas as pd # data processing, CSV file I/O (e.g. pd.read_csv)\n",
    "import os\n",
    "from matplotlib import pyplot as plt\n",
    "import seaborn as sns\n",
    "from sklearn.feature_extraction.text import CountVectorizer\n",
    "from sklearn.model_selection import train_test_split\n",
    "from sklearn.metrics import accuracy_score, confusion_matrix, classification_report"
   ]
  },
  {
   "cell_type": "code",
   "execution_count": null,
   "metadata": {},
   "outputs": [],
   "source": []
  },
  {
   "cell_type": "code",
   "execution_count": 2,
   "metadata": {},
   "outputs": [
    {
     "data": {
      "text/html": [
       "<div>\n",
       "<style scoped>\n",
       "    .dataframe tbody tr th:only-of-type {\n",
       "        vertical-align: middle;\n",
       "    }\n",
       "\n",
       "    .dataframe tbody tr th {\n",
       "        vertical-align: top;\n",
       "    }\n",
       "\n",
       "    .dataframe thead th {\n",
       "        text-align: right;\n",
       "    }\n",
       "</style>\n",
       "<table border=\"1\" class=\"dataframe\">\n",
       "  <thead>\n",
       "    <tr style=\"text-align: right;\">\n",
       "      <th></th>\n",
       "      <th>Unnamed: 0</th>\n",
       "      <th>body</th>\n",
       "      <th>label</th>\n",
       "      <th>source</th>\n",
       "      <th>title</th>\n",
       "      <th>text</th>\n",
       "    </tr>\n",
       "  </thead>\n",
       "  <tbody>\n",
       "    <tr>\n",
       "      <th>0</th>\n",
       "      <td>0</td>\n",
       "      <td>ঢাকাচট্টগ্রাম মহাসড়কের সীতাকুন্ড উপজেলার ভাটিয়...</td>\n",
       "      <td>national</td>\n",
       "      <td>https://www.banglanews24.com/national/news/bd/...</td>\n",
       "      <td>চট্টগ্রামে দুর্ঘটনায় গার্মেন্টস কর্মী নিহত, আহ...</td>\n",
       "      <td>ঢাকাচট্টগ্রাম মহাসড়কের সীতাকুন্ড উপজেলার ভাটিয়...</td>\n",
       "    </tr>\n",
       "    <tr>\n",
       "      <th>1</th>\n",
       "      <td>1</td>\n",
       "      <td>নীলফামারী সদর উপজেলার টুপামারী ইউনিয়নের কামারপ...</td>\n",
       "      <td>national</td>\n",
       "      <td>https://www.banglanews24.com/national/news/bd/...</td>\n",
       "      <td>নীলফামারীতে স্ত্রীকে পিটিয়ে হত্যার ঘটনায় মামলা</td>\n",
       "      <td>নীলফামারী সদর উপজেলার টুপামারী ইউনিয়নের কামারপ...</td>\n",
       "    </tr>\n",
       "    <tr>\n",
       "      <th>2</th>\n",
       "      <td>2</td>\n",
       "      <td>সিরিজের একমাত্র টেস্টে আগামীকাল মুখোমুখি হবে ব...</td>\n",
       "      <td>sports</td>\n",
       "      <td>https://www.jagonews24.com/special-reports/new...</td>\n",
       "      <td>উইকেট দেখে হতাশ টাইগার শিবির</td>\n",
       "      <td>সিরিজের একমাত্র টেস্টে আগামীকাল মুখোমুখি বাংলা...</td>\n",
       "    </tr>\n",
       "    <tr>\n",
       "      <th>3</th>\n",
       "      <td>3</td>\n",
       "      <td>অনলাইন ডেস্ক পাকিস্তানের বেলুচিস্তান প্রদেশের ...</td>\n",
       "      <td>international</td>\n",
       "      <td>https://www.dailyjanakantha.com/details/articl...</td>\n",
       "      <td>\\nপাকিস্তানের কোয়েটায় পুলিশ ট্রেনিং কলেজে সন্ত...</td>\n",
       "      <td>অনলাইন ডেস্ক পাকিস্তানের বেলুচিস্তান প্রদেশের ...</td>\n",
       "    </tr>\n",
       "    <tr>\n",
       "      <th>4</th>\n",
       "      <td>4</td>\n",
       "      <td>ফিলিস্তিনের পশ্চিমতীরে ইসরায়েলী পুলিশের সঙ্গে ...</td>\n",
       "      <td>international</td>\n",
       "      <td>https://www.jagonews24.com/special-reports/new...</td>\n",
       "      <td>পশ্চিমতীরে সংঘর্ষে নিহত ১, আহত দুই শতাধিক</td>\n",
       "      <td>ফিলিস্তিনের পশ্চিমতীরে ইসরায়েলী পুলিশের সংঘর্ষ...</td>\n",
       "    </tr>\n",
       "    <tr>\n",
       "      <th>...</th>\n",
       "      <td>...</td>\n",
       "      <td>...</td>\n",
       "      <td>...</td>\n",
       "      <td>...</td>\n",
       "      <td>...</td>\n",
       "      <td>...</td>\n",
       "    </tr>\n",
       "    <tr>\n",
       "      <th>504261</th>\n",
       "      <td>504261</td>\n",
       "      <td>মাধুর ভান্ডাকারের সমালোচিত ছবি হিরোইনএর জুনিয়র...</td>\n",
       "      <td>entertainment</td>\n",
       "      <td>https://www.banglanews24.com/national/news/bd/...</td>\n",
       "      <td>নৃশংস হত্যার শিকার ‘হিরোইন’ ছবির অভিনেত্রী মিন...</td>\n",
       "      <td>মাধুর ভান্ডাকারের সমালোচিত ছবি হিরোইনএর জুনিয়র...</td>\n",
       "    </tr>\n",
       "    <tr>\n",
       "      <th>504262</th>\n",
       "      <td>504262</td>\n",
       "      <td>ছয় মাসের প্রস্তুতিতে এসএ গেমস খেলতে নেপালে এসে...</td>\n",
       "      <td>sports</td>\n",
       "      <td>https://www.dailyinqilab.com/article/252218/</td>\n",
       "      <td>খো খো’র ছেলেদের রৌপ্য</td>\n",
       "      <td>ছয় মাসের প্রস্তুতিতে এসএ গেমস খেলতে নেপালে এসে...</td>\n",
       "    </tr>\n",
       "    <tr>\n",
       "      <th>504263</th>\n",
       "      <td>504263</td>\n",
       "      <td>গেল বছরের শেষে দহন সিনেমা দিয়ে দর্শক মাতিয়েছেন...</td>\n",
       "      <td>entertainment</td>\n",
       "      <td>https://www.jagonews24.com/special-reports/new...</td>\n",
       "      <td>কলকাতার দুই নায়কের সঙ্গে ট্রেলারেই পূজার চমক</td>\n",
       "      <td>বছরের শেষে দহন সিনেমা দিয়ে দর্শক মাতিয়েছেন পূজ...</td>\n",
       "    </tr>\n",
       "    <tr>\n",
       "      <th>504264</th>\n",
       "      <td>504264</td>\n",
       "      <td>করোনায় আক্রান্ত শেষ রোগী সুস্থ হয়ে হাসপাতাল ছা...</td>\n",
       "      <td>international</td>\n",
       "      <td>https://www.jagonews24.com/special-reports/new...</td>\n",
       "      <td>করোনামুক্ত হলো ফিজি, মারা যাননি একজনও</td>\n",
       "      <td>করোনায় আক্রান্ত শেষ রোগী সুস্থ হয়ে হাসপাতাল ছা...</td>\n",
       "    </tr>\n",
       "    <tr>\n",
       "      <th>504265</th>\n",
       "      <td>504265</td>\n",
       "      <td>ব্রাহ্মণবাড়িয়া পৌর শহরের কলেজ পাড়ায় একাধিক ককট...</td>\n",
       "      <td>national</td>\n",
       "      <td>https://www.banglanews24.com/national/news/bd/...</td>\n",
       "      <td>ব্রাহ্মণবাড়িয়া শহরে ককটেল বিস্ফোরণ, এলাকায় আতঙ্ক</td>\n",
       "      <td>ব্রাহ্মণবাড়িয়া পৌর শহরের কলেজ পাড়ায় একাধিক ককট...</td>\n",
       "    </tr>\n",
       "  </tbody>\n",
       "</table>\n",
       "<p>504266 rows × 6 columns</p>\n",
       "</div>"
      ],
      "text/plain": [
       "        Unnamed: 0                                               body  \\\n",
       "0                0  ঢাকাচট্টগ্রাম মহাসড়কের সীতাকুন্ড উপজেলার ভাটিয়...   \n",
       "1                1  নীলফামারী সদর উপজেলার টুপামারী ইউনিয়নের কামারপ...   \n",
       "2                2  সিরিজের একমাত্র টেস্টে আগামীকাল মুখোমুখি হবে ব...   \n",
       "3                3  অনলাইন ডেস্ক পাকিস্তানের বেলুচিস্তান প্রদেশের ...   \n",
       "4                4  ফিলিস্তিনের পশ্চিমতীরে ইসরায়েলী পুলিশের সঙ্গে ...   \n",
       "...            ...                                                ...   \n",
       "504261      504261  মাধুর ভান্ডাকারের সমালোচিত ছবি হিরোইনএর জুনিয়র...   \n",
       "504262      504262  ছয় মাসের প্রস্তুতিতে এসএ গেমস খেলতে নেপালে এসে...   \n",
       "504263      504263  গেল বছরের শেষে দহন সিনেমা দিয়ে দর্শক মাতিয়েছেন...   \n",
       "504264      504264  করোনায় আক্রান্ত শেষ রোগী সুস্থ হয়ে হাসপাতাল ছা...   \n",
       "504265      504265  ব্রাহ্মণবাড়িয়া পৌর শহরের কলেজ পাড়ায় একাধিক ককট...   \n",
       "\n",
       "                label                                             source  \\\n",
       "0            national  https://www.banglanews24.com/national/news/bd/...   \n",
       "1            national  https://www.banglanews24.com/national/news/bd/...   \n",
       "2              sports  https://www.jagonews24.com/special-reports/new...   \n",
       "3       international  https://www.dailyjanakantha.com/details/articl...   \n",
       "4       international  https://www.jagonews24.com/special-reports/new...   \n",
       "...               ...                                                ...   \n",
       "504261  entertainment  https://www.banglanews24.com/national/news/bd/...   \n",
       "504262         sports       https://www.dailyinqilab.com/article/252218/   \n",
       "504263  entertainment  https://www.jagonews24.com/special-reports/new...   \n",
       "504264  international  https://www.jagonews24.com/special-reports/new...   \n",
       "504265       national  https://www.banglanews24.com/national/news/bd/...   \n",
       "\n",
       "                                                    title  \\\n",
       "0       চট্টগ্রামে দুর্ঘটনায় গার্মেন্টস কর্মী নিহত, আহ...   \n",
       "1          নীলফামারীতে স্ত্রীকে পিটিয়ে হত্যার ঘটনায় মামলা   \n",
       "2                            উইকেট দেখে হতাশ টাইগার শিবির   \n",
       "3       \\nপাকিস্তানের কোয়েটায় পুলিশ ট্রেনিং কলেজে সন্ত...   \n",
       "4               পশ্চিমতীরে সংঘর্ষে নিহত ১, আহত দুই শতাধিক   \n",
       "...                                                   ...   \n",
       "504261  নৃশংস হত্যার শিকার ‘হিরোইন’ ছবির অভিনেত্রী মিন...   \n",
       "504262                              খো খো’র ছেলেদের রৌপ্য   \n",
       "504263       কলকাতার দুই নায়কের সঙ্গে ট্রেলারেই পূজার চমক   \n",
       "504264              করোনামুক্ত হলো ফিজি, মারা যাননি একজনও   \n",
       "504265   ব্রাহ্মণবাড়িয়া শহরে ককটেল বিস্ফোরণ, এলাকায় আতঙ্ক   \n",
       "\n",
       "                                                     text  \n",
       "0       ঢাকাচট্টগ্রাম মহাসড়কের সীতাকুন্ড উপজেলার ভাটিয়...  \n",
       "1       নীলফামারী সদর উপজেলার টুপামারী ইউনিয়নের কামারপ...  \n",
       "2       সিরিজের একমাত্র টেস্টে আগামীকাল মুখোমুখি বাংলা...  \n",
       "3       অনলাইন ডেস্ক পাকিস্তানের বেলুচিস্তান প্রদেশের ...  \n",
       "4       ফিলিস্তিনের পশ্চিমতীরে ইসরায়েলী পুলিশের সংঘর্ষ...  \n",
       "...                                                   ...  \n",
       "504261  মাধুর ভান্ডাকারের সমালোচিত ছবি হিরোইনএর জুনিয়র...  \n",
       "504262  ছয় মাসের প্রস্তুতিতে এসএ গেমস খেলতে নেপালে এসে...  \n",
       "504263  বছরের শেষে দহন সিনেমা দিয়ে দর্শক মাতিয়েছেন পূজ...  \n",
       "504264  করোনায় আক্রান্ত শেষ রোগী সুস্থ হয়ে হাসপাতাল ছা...  \n",
       "504265  ব্রাহ্মণবাড়িয়া পৌর শহরের কলেজ পাড়ায় একাধিক ককট...  \n",
       "\n",
       "[504266 rows x 6 columns]"
      ]
     },
     "execution_count": 2,
     "metadata": {},
     "output_type": "execute_result"
    }
   ],
   "source": [
    "# Import Datasets\n",
    "df = pd.read_csv('data/newsdata504266with7labels.csv')\n",
    "df"
   ]
  },
  {
   "cell_type": "code",
   "execution_count": 3,
   "metadata": {},
   "outputs": [
    {
     "data": {
      "text/html": [
       "<div>\n",
       "<style scoped>\n",
       "    .dataframe tbody tr th:only-of-type {\n",
       "        vertical-align: middle;\n",
       "    }\n",
       "\n",
       "    .dataframe tbody tr th {\n",
       "        vertical-align: top;\n",
       "    }\n",
       "\n",
       "    .dataframe thead th {\n",
       "        text-align: right;\n",
       "    }\n",
       "</style>\n",
       "<table border=\"1\" class=\"dataframe\">\n",
       "  <thead>\n",
       "    <tr style=\"text-align: right;\">\n",
       "      <th></th>\n",
       "      <th>body</th>\n",
       "      <th>label</th>\n",
       "      <th>source</th>\n",
       "      <th>title</th>\n",
       "      <th>text</th>\n",
       "    </tr>\n",
       "  </thead>\n",
       "  <tbody>\n",
       "    <tr>\n",
       "      <th>0</th>\n",
       "      <td>ঢাকাচট্টগ্রাম মহাসড়কের সীতাকুন্ড উপজেলার ভাটিয়...</td>\n",
       "      <td>national</td>\n",
       "      <td>https://www.banglanews24.com/national/news/bd/...</td>\n",
       "      <td>চট্টগ্রামে দুর্ঘটনায় গার্মেন্টস কর্মী নিহত, আহ...</td>\n",
       "      <td>ঢাকাচট্টগ্রাম মহাসড়কের সীতাকুন্ড উপজেলার ভাটিয়...</td>\n",
       "    </tr>\n",
       "    <tr>\n",
       "      <th>1</th>\n",
       "      <td>নীলফামারী সদর উপজেলার টুপামারী ইউনিয়নের কামারপ...</td>\n",
       "      <td>national</td>\n",
       "      <td>https://www.banglanews24.com/national/news/bd/...</td>\n",
       "      <td>নীলফামারীতে স্ত্রীকে পিটিয়ে হত্যার ঘটনায় মামলা</td>\n",
       "      <td>নীলফামারী সদর উপজেলার টুপামারী ইউনিয়নের কামারপ...</td>\n",
       "    </tr>\n",
       "    <tr>\n",
       "      <th>2</th>\n",
       "      <td>সিরিজের একমাত্র টেস্টে আগামীকাল মুখোমুখি হবে ব...</td>\n",
       "      <td>sports</td>\n",
       "      <td>https://www.jagonews24.com/special-reports/new...</td>\n",
       "      <td>উইকেট দেখে হতাশ টাইগার শিবির</td>\n",
       "      <td>সিরিজের একমাত্র টেস্টে আগামীকাল মুখোমুখি বাংলা...</td>\n",
       "    </tr>\n",
       "    <tr>\n",
       "      <th>3</th>\n",
       "      <td>অনলাইন ডেস্ক পাকিস্তানের বেলুচিস্তান প্রদেশের ...</td>\n",
       "      <td>international</td>\n",
       "      <td>https://www.dailyjanakantha.com/details/articl...</td>\n",
       "      <td>\\nপাকিস্তানের কোয়েটায় পুলিশ ট্রেনিং কলেজে সন্ত...</td>\n",
       "      <td>অনলাইন ডেস্ক পাকিস্তানের বেলুচিস্তান প্রদেশের ...</td>\n",
       "    </tr>\n",
       "    <tr>\n",
       "      <th>4</th>\n",
       "      <td>ফিলিস্তিনের পশ্চিমতীরে ইসরায়েলী পুলিশের সঙ্গে ...</td>\n",
       "      <td>international</td>\n",
       "      <td>https://www.jagonews24.com/special-reports/new...</td>\n",
       "      <td>পশ্চিমতীরে সংঘর্ষে নিহত ১, আহত দুই শতাধিক</td>\n",
       "      <td>ফিলিস্তিনের পশ্চিমতীরে ইসরায়েলী পুলিশের সংঘর্ষ...</td>\n",
       "    </tr>\n",
       "    <tr>\n",
       "      <th>...</th>\n",
       "      <td>...</td>\n",
       "      <td>...</td>\n",
       "      <td>...</td>\n",
       "      <td>...</td>\n",
       "      <td>...</td>\n",
       "    </tr>\n",
       "    <tr>\n",
       "      <th>504261</th>\n",
       "      <td>মাধুর ভান্ডাকারের সমালোচিত ছবি হিরোইনএর জুনিয়র...</td>\n",
       "      <td>entertainment</td>\n",
       "      <td>https://www.banglanews24.com/national/news/bd/...</td>\n",
       "      <td>নৃশংস হত্যার শিকার ‘হিরোইন’ ছবির অভিনেত্রী মিন...</td>\n",
       "      <td>মাধুর ভান্ডাকারের সমালোচিত ছবি হিরোইনএর জুনিয়র...</td>\n",
       "    </tr>\n",
       "    <tr>\n",
       "      <th>504262</th>\n",
       "      <td>ছয় মাসের প্রস্তুতিতে এসএ গেমস খেলতে নেপালে এসে...</td>\n",
       "      <td>sports</td>\n",
       "      <td>https://www.dailyinqilab.com/article/252218/</td>\n",
       "      <td>খো খো’র ছেলেদের রৌপ্য</td>\n",
       "      <td>ছয় মাসের প্রস্তুতিতে এসএ গেমস খেলতে নেপালে এসে...</td>\n",
       "    </tr>\n",
       "    <tr>\n",
       "      <th>504263</th>\n",
       "      <td>গেল বছরের শেষে দহন সিনেমা দিয়ে দর্শক মাতিয়েছেন...</td>\n",
       "      <td>entertainment</td>\n",
       "      <td>https://www.jagonews24.com/special-reports/new...</td>\n",
       "      <td>কলকাতার দুই নায়কের সঙ্গে ট্রেলারেই পূজার চমক</td>\n",
       "      <td>বছরের শেষে দহন সিনেমা দিয়ে দর্শক মাতিয়েছেন পূজ...</td>\n",
       "    </tr>\n",
       "    <tr>\n",
       "      <th>504264</th>\n",
       "      <td>করোনায় আক্রান্ত শেষ রোগী সুস্থ হয়ে হাসপাতাল ছা...</td>\n",
       "      <td>international</td>\n",
       "      <td>https://www.jagonews24.com/special-reports/new...</td>\n",
       "      <td>করোনামুক্ত হলো ফিজি, মারা যাননি একজনও</td>\n",
       "      <td>করোনায় আক্রান্ত শেষ রোগী সুস্থ হয়ে হাসপাতাল ছা...</td>\n",
       "    </tr>\n",
       "    <tr>\n",
       "      <th>504265</th>\n",
       "      <td>ব্রাহ্মণবাড়িয়া পৌর শহরের কলেজ পাড়ায় একাধিক ককট...</td>\n",
       "      <td>national</td>\n",
       "      <td>https://www.banglanews24.com/national/news/bd/...</td>\n",
       "      <td>ব্রাহ্মণবাড়িয়া শহরে ককটেল বিস্ফোরণ, এলাকায় আতঙ্ক</td>\n",
       "      <td>ব্রাহ্মণবাড়িয়া পৌর শহরের কলেজ পাড়ায় একাধিক ককট...</td>\n",
       "    </tr>\n",
       "  </tbody>\n",
       "</table>\n",
       "<p>504266 rows × 5 columns</p>\n",
       "</div>"
      ],
      "text/plain": [
       "                                                     body          label  \\\n",
       "0       ঢাকাচট্টগ্রাম মহাসড়কের সীতাকুন্ড উপজেলার ভাটিয়...       national   \n",
       "1       নীলফামারী সদর উপজেলার টুপামারী ইউনিয়নের কামারপ...       national   \n",
       "2       সিরিজের একমাত্র টেস্টে আগামীকাল মুখোমুখি হবে ব...         sports   \n",
       "3       অনলাইন ডেস্ক পাকিস্তানের বেলুচিস্তান প্রদেশের ...  international   \n",
       "4       ফিলিস্তিনের পশ্চিমতীরে ইসরায়েলী পুলিশের সঙ্গে ...  international   \n",
       "...                                                   ...            ...   \n",
       "504261  মাধুর ভান্ডাকারের সমালোচিত ছবি হিরোইনএর জুনিয়র...  entertainment   \n",
       "504262  ছয় মাসের প্রস্তুতিতে এসএ গেমস খেলতে নেপালে এসে...         sports   \n",
       "504263  গেল বছরের শেষে দহন সিনেমা দিয়ে দর্শক মাতিয়েছেন...  entertainment   \n",
       "504264  করোনায় আক্রান্ত শেষ রোগী সুস্থ হয়ে হাসপাতাল ছা...  international   \n",
       "504265  ব্রাহ্মণবাড়িয়া পৌর শহরের কলেজ পাড়ায় একাধিক ককট...       national   \n",
       "\n",
       "                                                   source  \\\n",
       "0       https://www.banglanews24.com/national/news/bd/...   \n",
       "1       https://www.banglanews24.com/national/news/bd/...   \n",
       "2       https://www.jagonews24.com/special-reports/new...   \n",
       "3       https://www.dailyjanakantha.com/details/articl...   \n",
       "4       https://www.jagonews24.com/special-reports/new...   \n",
       "...                                                   ...   \n",
       "504261  https://www.banglanews24.com/national/news/bd/...   \n",
       "504262       https://www.dailyinqilab.com/article/252218/   \n",
       "504263  https://www.jagonews24.com/special-reports/new...   \n",
       "504264  https://www.jagonews24.com/special-reports/new...   \n",
       "504265  https://www.banglanews24.com/national/news/bd/...   \n",
       "\n",
       "                                                    title  \\\n",
       "0       চট্টগ্রামে দুর্ঘটনায় গার্মেন্টস কর্মী নিহত, আহ...   \n",
       "1          নীলফামারীতে স্ত্রীকে পিটিয়ে হত্যার ঘটনায় মামলা   \n",
       "2                            উইকেট দেখে হতাশ টাইগার শিবির   \n",
       "3       \\nপাকিস্তানের কোয়েটায় পুলিশ ট্রেনিং কলেজে সন্ত...   \n",
       "4               পশ্চিমতীরে সংঘর্ষে নিহত ১, আহত দুই শতাধিক   \n",
       "...                                                   ...   \n",
       "504261  নৃশংস হত্যার শিকার ‘হিরোইন’ ছবির অভিনেত্রী মিন...   \n",
       "504262                              খো খো’র ছেলেদের রৌপ্য   \n",
       "504263       কলকাতার দুই নায়কের সঙ্গে ট্রেলারেই পূজার চমক   \n",
       "504264              করোনামুক্ত হলো ফিজি, মারা যাননি একজনও   \n",
       "504265   ব্রাহ্মণবাড়িয়া শহরে ককটেল বিস্ফোরণ, এলাকায় আতঙ্ক   \n",
       "\n",
       "                                                     text  \n",
       "0       ঢাকাচট্টগ্রাম মহাসড়কের সীতাকুন্ড উপজেলার ভাটিয়...  \n",
       "1       নীলফামারী সদর উপজেলার টুপামারী ইউনিয়নের কামারপ...  \n",
       "2       সিরিজের একমাত্র টেস্টে আগামীকাল মুখোমুখি বাংলা...  \n",
       "3       অনলাইন ডেস্ক পাকিস্তানের বেলুচিস্তান প্রদেশের ...  \n",
       "4       ফিলিস্তিনের পশ্চিমতীরে ইসরায়েলী পুলিশের সংঘর্ষ...  \n",
       "...                                                   ...  \n",
       "504261  মাধুর ভান্ডাকারের সমালোচিত ছবি হিরোইনএর জুনিয়র...  \n",
       "504262  ছয় মাসের প্রস্তুতিতে এসএ গেমস খেলতে নেপালে এসে...  \n",
       "504263  বছরের শেষে দহন সিনেমা দিয়ে দর্শক মাতিয়েছেন পূজ...  \n",
       "504264  করোনায় আক্রান্ত শেষ রোগী সুস্থ হয়ে হাসপাতাল ছা...  \n",
       "504265  ব্রাহ্মণবাড়িয়া পৌর শহরের কলেজ পাড়ায় একাধিক ককট...  \n",
       "\n",
       "[504266 rows x 5 columns]"
      ]
     },
     "execution_count": 3,
     "metadata": {},
     "output_type": "execute_result"
    }
   ],
   "source": [
    "df1 = df.drop(columns=['Unnamed: 0'])\n",
    "df1"
   ]
  },
  {
   "cell_type": "code",
   "execution_count": 4,
   "metadata": {},
   "outputs": [
    {
     "data": {
      "text/plain": [
       "array(['national', 'sports', 'international', 'all_bangladesh',\n",
       "       'politics', 'economics-business', 'entertainment'], dtype=object)"
      ]
     },
     "execution_count": 4,
     "metadata": {},
     "output_type": "execute_result"
    }
   ],
   "source": [
    "df1.label.unique()"
   ]
  },
  {
   "cell_type": "code",
   "execution_count": 5,
   "metadata": {},
   "outputs": [
    {
     "data": {
      "text/plain": [
       "body      0\n",
       "label     0\n",
       "source    0\n",
       "title     0\n",
       "text      0\n",
       "dtype: int64"
      ]
     },
     "execution_count": 5,
     "metadata": {},
     "output_type": "execute_result"
    }
   ],
   "source": [
    "# Check NA counts\n",
    "df1.isnull().sum()"
   ]
  },
  {
   "cell_type": "code",
   "execution_count": 6,
   "metadata": {},
   "outputs": [
    {
     "name": "stdout",
     "output_type": "stream",
     "text": [
      "sports                86749\n",
      "international         84742\n",
      "national              84431\n",
      "all_bangladesh        81176\n",
      "politics              66142\n",
      "entertainment         53975\n",
      "economics-business    47051\n",
      "Name: label, dtype: int64\n"
     ]
    }
   ],
   "source": [
    "# Look at classification type counts\n",
    "counts = df1.label.value_counts()\n",
    "print(counts)"
   ]
  },
  {
   "cell_type": "code",
   "execution_count": 7,
   "metadata": {},
   "outputs": [
    {
     "name": "stdout",
     "output_type": "stream",
     "text": [
      "504266 is the number of data that have a news body\n"
     ]
    }
   ],
   "source": [
    "# Drop rows with missing values\n",
    "model_f = df1.dropna()\n",
    "print('%d is the number of data that have a news body' %model_f.shape[0])"
   ]
  },
  {
   "cell_type": "code",
   "execution_count": 8,
   "metadata": {},
   "outputs": [
    {
     "data": {
      "text/plain": [
       "(504266, 5)"
      ]
     },
     "execution_count": 8,
     "metadata": {},
     "output_type": "execute_result"
    }
   ],
   "source": [
    "model_f.shape"
   ]
  },
  {
   "cell_type": "code",
   "execution_count": 9,
   "metadata": {},
   "outputs": [
    {
     "data": {
      "text/html": [
       "<div>\n",
       "<style scoped>\n",
       "    .dataframe tbody tr th:only-of-type {\n",
       "        vertical-align: middle;\n",
       "    }\n",
       "\n",
       "    .dataframe tbody tr th {\n",
       "        vertical-align: top;\n",
       "    }\n",
       "\n",
       "    .dataframe thead th {\n",
       "        text-align: right;\n",
       "    }\n",
       "</style>\n",
       "<table border=\"1\" class=\"dataframe\">\n",
       "  <thead>\n",
       "    <tr style=\"text-align: right;\">\n",
       "      <th></th>\n",
       "      <th>body</th>\n",
       "      <th>label</th>\n",
       "      <th>source</th>\n",
       "      <th>title</th>\n",
       "      <th>text</th>\n",
       "    </tr>\n",
       "  </thead>\n",
       "  <tbody>\n",
       "    <tr>\n",
       "      <th>0</th>\n",
       "      <td>ঢাকাচট্টগ্রাম মহাসড়কের সীতাকুন্ড উপজেলার ভাটিয়...</td>\n",
       "      <td>national</td>\n",
       "      <td>https://www.banglanews24.com/national/news/bd/...</td>\n",
       "      <td>চট্টগ্রামে দুর্ঘটনায় গার্মেন্টস কর্মী নিহত, আহ...</td>\n",
       "      <td>ঢাকাচট্টগ্রাম মহাসড়কের সীতাকুন্ড উপজেলার ভাটিয়...</td>\n",
       "    </tr>\n",
       "    <tr>\n",
       "      <th>1</th>\n",
       "      <td>নীলফামারী সদর উপজেলার টুপামারী ইউনিয়নের কামারপ...</td>\n",
       "      <td>national</td>\n",
       "      <td>https://www.banglanews24.com/national/news/bd/...</td>\n",
       "      <td>নীলফামারীতে স্ত্রীকে পিটিয়ে হত্যার ঘটনায় মামলা</td>\n",
       "      <td>নীলফামারী সদর উপজেলার টুপামারী ইউনিয়নের কামারপ...</td>\n",
       "    </tr>\n",
       "    <tr>\n",
       "      <th>2</th>\n",
       "      <td>সিরিজের একমাত্র টেস্টে আগামীকাল মুখোমুখি হবে ব...</td>\n",
       "      <td>sports</td>\n",
       "      <td>https://www.jagonews24.com/special-reports/new...</td>\n",
       "      <td>উইকেট দেখে হতাশ টাইগার শিবির</td>\n",
       "      <td>সিরিজের একমাত্র টেস্টে আগামীকাল মুখোমুখি বাংলা...</td>\n",
       "    </tr>\n",
       "    <tr>\n",
       "      <th>3</th>\n",
       "      <td>অনলাইন ডেস্ক পাকিস্তানের বেলুচিস্তান প্রদেশের ...</td>\n",
       "      <td>international</td>\n",
       "      <td>https://www.dailyjanakantha.com/details/articl...</td>\n",
       "      <td>\\nপাকিস্তানের কোয়েটায় পুলিশ ট্রেনিং কলেজে সন্ত...</td>\n",
       "      <td>অনলাইন ডেস্ক পাকিস্তানের বেলুচিস্তান প্রদেশের ...</td>\n",
       "    </tr>\n",
       "    <tr>\n",
       "      <th>4</th>\n",
       "      <td>ফিলিস্তিনের পশ্চিমতীরে ইসরায়েলী পুলিশের সঙ্গে ...</td>\n",
       "      <td>international</td>\n",
       "      <td>https://www.jagonews24.com/special-reports/new...</td>\n",
       "      <td>পশ্চিমতীরে সংঘর্ষে নিহত ১, আহত দুই শতাধিক</td>\n",
       "      <td>ফিলিস্তিনের পশ্চিমতীরে ইসরায়েলী পুলিশের সংঘর্ষ...</td>\n",
       "    </tr>\n",
       "    <tr>\n",
       "      <th>...</th>\n",
       "      <td>...</td>\n",
       "      <td>...</td>\n",
       "      <td>...</td>\n",
       "      <td>...</td>\n",
       "      <td>...</td>\n",
       "    </tr>\n",
       "    <tr>\n",
       "      <th>504261</th>\n",
       "      <td>মাধুর ভান্ডাকারের সমালোচিত ছবি হিরোইনএর জুনিয়র...</td>\n",
       "      <td>entertainment</td>\n",
       "      <td>https://www.banglanews24.com/national/news/bd/...</td>\n",
       "      <td>নৃশংস হত্যার শিকার ‘হিরোইন’ ছবির অভিনেত্রী মিন...</td>\n",
       "      <td>মাধুর ভান্ডাকারের সমালোচিত ছবি হিরোইনএর জুনিয়র...</td>\n",
       "    </tr>\n",
       "    <tr>\n",
       "      <th>504262</th>\n",
       "      <td>ছয় মাসের প্রস্তুতিতে এসএ গেমস খেলতে নেপালে এসে...</td>\n",
       "      <td>sports</td>\n",
       "      <td>https://www.dailyinqilab.com/article/252218/</td>\n",
       "      <td>খো খো’র ছেলেদের রৌপ্য</td>\n",
       "      <td>ছয় মাসের প্রস্তুতিতে এসএ গেমস খেলতে নেপালে এসে...</td>\n",
       "    </tr>\n",
       "    <tr>\n",
       "      <th>504263</th>\n",
       "      <td>গেল বছরের শেষে দহন সিনেমা দিয়ে দর্শক মাতিয়েছেন...</td>\n",
       "      <td>entertainment</td>\n",
       "      <td>https://www.jagonews24.com/special-reports/new...</td>\n",
       "      <td>কলকাতার দুই নায়কের সঙ্গে ট্রেলারেই পূজার চমক</td>\n",
       "      <td>বছরের শেষে দহন সিনেমা দিয়ে দর্শক মাতিয়েছেন পূজ...</td>\n",
       "    </tr>\n",
       "    <tr>\n",
       "      <th>504264</th>\n",
       "      <td>করোনায় আক্রান্ত শেষ রোগী সুস্থ হয়ে হাসপাতাল ছা...</td>\n",
       "      <td>international</td>\n",
       "      <td>https://www.jagonews24.com/special-reports/new...</td>\n",
       "      <td>করোনামুক্ত হলো ফিজি, মারা যাননি একজনও</td>\n",
       "      <td>করোনায় আক্রান্ত শেষ রোগী সুস্থ হয়ে হাসপাতাল ছা...</td>\n",
       "    </tr>\n",
       "    <tr>\n",
       "      <th>504265</th>\n",
       "      <td>ব্রাহ্মণবাড়িয়া পৌর শহরের কলেজ পাড়ায় একাধিক ককট...</td>\n",
       "      <td>national</td>\n",
       "      <td>https://www.banglanews24.com/national/news/bd/...</td>\n",
       "      <td>ব্রাহ্মণবাড়িয়া শহরে ককটেল বিস্ফোরণ, এলাকায় আতঙ্ক</td>\n",
       "      <td>ব্রাহ্মণবাড়িয়া পৌর শহরের কলেজ পাড়ায় একাধিক ককট...</td>\n",
       "    </tr>\n",
       "  </tbody>\n",
       "</table>\n",
       "<p>504266 rows × 5 columns</p>\n",
       "</div>"
      ],
      "text/plain": [
       "                                                     body          label  \\\n",
       "0       ঢাকাচট্টগ্রাম মহাসড়কের সীতাকুন্ড উপজেলার ভাটিয়...       national   \n",
       "1       নীলফামারী সদর উপজেলার টুপামারী ইউনিয়নের কামারপ...       national   \n",
       "2       সিরিজের একমাত্র টেস্টে আগামীকাল মুখোমুখি হবে ব...         sports   \n",
       "3       অনলাইন ডেস্ক পাকিস্তানের বেলুচিস্তান প্রদেশের ...  international   \n",
       "4       ফিলিস্তিনের পশ্চিমতীরে ইসরায়েলী পুলিশের সঙ্গে ...  international   \n",
       "...                                                   ...            ...   \n",
       "504261  মাধুর ভান্ডাকারের সমালোচিত ছবি হিরোইনএর জুনিয়র...  entertainment   \n",
       "504262  ছয় মাসের প্রস্তুতিতে এসএ গেমস খেলতে নেপালে এসে...         sports   \n",
       "504263  গেল বছরের শেষে দহন সিনেমা দিয়ে দর্শক মাতিয়েছেন...  entertainment   \n",
       "504264  করোনায় আক্রান্ত শেষ রোগী সুস্থ হয়ে হাসপাতাল ছা...  international   \n",
       "504265  ব্রাহ্মণবাড়িয়া পৌর শহরের কলেজ পাড়ায় একাধিক ককট...       national   \n",
       "\n",
       "                                                   source  \\\n",
       "0       https://www.banglanews24.com/national/news/bd/...   \n",
       "1       https://www.banglanews24.com/national/news/bd/...   \n",
       "2       https://www.jagonews24.com/special-reports/new...   \n",
       "3       https://www.dailyjanakantha.com/details/articl...   \n",
       "4       https://www.jagonews24.com/special-reports/new...   \n",
       "...                                                   ...   \n",
       "504261  https://www.banglanews24.com/national/news/bd/...   \n",
       "504262       https://www.dailyinqilab.com/article/252218/   \n",
       "504263  https://www.jagonews24.com/special-reports/new...   \n",
       "504264  https://www.jagonews24.com/special-reports/new...   \n",
       "504265  https://www.banglanews24.com/national/news/bd/...   \n",
       "\n",
       "                                                    title  \\\n",
       "0       চট্টগ্রামে দুর্ঘটনায় গার্মেন্টস কর্মী নিহত, আহ...   \n",
       "1          নীলফামারীতে স্ত্রীকে পিটিয়ে হত্যার ঘটনায় মামলা   \n",
       "2                            উইকেট দেখে হতাশ টাইগার শিবির   \n",
       "3       \\nপাকিস্তানের কোয়েটায় পুলিশ ট্রেনিং কলেজে সন্ত...   \n",
       "4               পশ্চিমতীরে সংঘর্ষে নিহত ১, আহত দুই শতাধিক   \n",
       "...                                                   ...   \n",
       "504261  নৃশংস হত্যার শিকার ‘হিরোইন’ ছবির অভিনেত্রী মিন...   \n",
       "504262                              খো খো’র ছেলেদের রৌপ্য   \n",
       "504263       কলকাতার দুই নায়কের সঙ্গে ট্রেলারেই পূজার চমক   \n",
       "504264              করোনামুক্ত হলো ফিজি, মারা যাননি একজনও   \n",
       "504265   ব্রাহ্মণবাড়িয়া শহরে ককটেল বিস্ফোরণ, এলাকায় আতঙ্ক   \n",
       "\n",
       "                                                     text  \n",
       "0       ঢাকাচট্টগ্রাম মহাসড়কের সীতাকুন্ড উপজেলার ভাটিয়...  \n",
       "1       নীলফামারী সদর উপজেলার টুপামারী ইউনিয়নের কামারপ...  \n",
       "2       সিরিজের একমাত্র টেস্টে আগামীকাল মুখোমুখি বাংলা...  \n",
       "3       অনলাইন ডেস্ক পাকিস্তানের বেলুচিস্তান প্রদেশের ...  \n",
       "4       ফিলিস্তিনের পশ্চিমতীরে ইসরায়েলী পুলিশের সংঘর্ষ...  \n",
       "...                                                   ...  \n",
       "504261  মাধুর ভান্ডাকারের সমালোচিত ছবি হিরোইনএর জুনিয়র...  \n",
       "504262  ছয় মাসের প্রস্তুতিতে এসএ গেমস খেলতে নেপালে এসে...  \n",
       "504263  বছরের শেষে দহন সিনেমা দিয়ে দর্শক মাতিয়েছেন পূজ...  \n",
       "504264  করোনায় আক্রান্ত শেষ রোগী সুস্থ হয়ে হাসপাতাল ছা...  \n",
       "504265  ব্রাহ্মণবাড়িয়া পৌর শহরের কলেজ পাড়ায় একাধিক ককট...  \n",
       "\n",
       "[504266 rows x 5 columns]"
      ]
     },
     "execution_count": 9,
     "metadata": {},
     "output_type": "execute_result"
    }
   ],
   "source": [
    "model_f.reset_index(drop=True)"
   ]
  },
  {
   "cell_type": "code",
   "execution_count": 10,
   "metadata": {},
   "outputs": [
    {
     "name": "stdout",
     "output_type": "stream",
     "text": [
      "sports                86749\n",
      "international         84742\n",
      "national              84431\n",
      "all_bangladesh        81176\n",
      "politics              66142\n",
      "entertainment         53975\n",
      "economics-business    47051\n",
      "Name: label, dtype: int64\n"
     ]
    },
    {
     "data": {
      "image/png": "[encoded data removed]",
      "text/plain": [
       "<Figure size 432x288 with 1 Axes>"
      ]
     },
     "metadata": {
      "needs_background": "light"
     },
     "output_type": "display_data"
    }
   ],
   "source": [
    "# Look at classification type counts\n",
    "counts = model_f.label.value_counts()\n",
    "print(counts)\n",
    "\n",
    "#plot counts\n",
    "plt.figure()\n",
    "sns.distplot(counts, hist = False, color = 'purple')\n",
    "plt.title('Count Distribution for label Types')\n",
    "plt.ylabel('% of records')\n",
    "plt.show()"
   ]
  },
  {
   "cell_type": "code",
   "execution_count": 11,
   "metadata": {},
   "outputs": [
    {
     "name": "stdout",
     "output_type": "stream",
     "text": [
      "sports                86749\n",
      "international         84742\n",
      "national              84431\n",
      "all_bangladesh        81176\n",
      "politics              66142\n",
      "entertainment         53975\n",
      "economics-business    47051\n",
      "Name: label, dtype: int64\n",
      "7\n"
     ]
    }
   ],
   "source": [
    "counts = model_f.label.value_counts()\n",
    "print(counts)\n",
    "print(len(counts))"
   ]
  },
  {
   "cell_type": "code",
   "execution_count": 12,
   "metadata": {},
   "outputs": [
    {
     "data": {
      "text/plain": [
       "(504266, 5)"
      ]
     },
     "execution_count": 12,
     "metadata": {},
     "output_type": "execute_result"
    }
   ],
   "source": [
    "model_f.shape"
   ]
  },
  {
   "cell_type": "code",
   "execution_count": 13,
   "metadata": {},
   "outputs": [
    {
     "data": {
      "text/plain": [
       "4959"
      ]
     },
     "execution_count": 13,
     "metadata": {},
     "output_type": "execute_result"
    }
   ],
   "source": [
    "max_length=model_f[\"body\"].str.len().max()\n",
    "max_length"
   ]
  },
  {
   "cell_type": "code",
   "execution_count": 14,
   "metadata": {},
   "outputs": [
    {
     "data": {
      "text/plain": [
       "500"
      ]
     },
     "execution_count": 14,
     "metadata": {},
     "output_type": "execute_result"
    }
   ],
   "source": [
    "min_length=model_f[\"body\"].str.len().min()\n",
    "min_length"
   ]
  },
  {
   "cell_type": "code",
   "execution_count": 15,
   "metadata": {},
   "outputs": [
    {
     "data": {
      "text/plain": [
       "(504266, 5)"
      ]
     },
     "execution_count": 15,
     "metadata": {},
     "output_type": "execute_result"
    }
   ],
   "source": [
    "model_f1 = model_f.copy(deep = True)\n",
    "model_f1.shape"
   ]
  },
  {
   "cell_type": "code",
   "execution_count": 16,
   "metadata": {},
   "outputs": [],
   "source": [
    "model_f1.drop(model_f[model_f1['body'].str.len() < 300].index, inplace = True)"
   ]
  },
  {
   "cell_type": "code",
   "execution_count": 17,
   "metadata": {},
   "outputs": [
    {
     "data": {
      "text/plain": [
       "(504266, 5)"
      ]
     },
     "execution_count": 17,
     "metadata": {},
     "output_type": "execute_result"
    }
   ],
   "source": [
    "model_f1.shape"
   ]
  },
  {
   "cell_type": "code",
   "execution_count": 19,
   "metadata": {},
   "outputs": [
    {
     "data": {
      "text/html": [
       "<div>\n",
       "<style scoped>\n",
       "    .dataframe tbody tr th:only-of-type {\n",
       "        vertical-align: middle;\n",
       "    }\n",
       "\n",
       "    .dataframe tbody tr th {\n",
       "        vertical-align: top;\n",
       "    }\n",
       "\n",
       "    .dataframe thead th {\n",
       "        text-align: right;\n",
       "    }\n",
       "</style>\n",
       "<table border=\"1\" class=\"dataframe\">\n",
       "  <thead>\n",
       "    <tr style=\"text-align: right;\">\n",
       "      <th></th>\n",
       "      <th>body</th>\n",
       "      <th>label</th>\n",
       "      <th>source</th>\n",
       "      <th>title</th>\n",
       "      <th>text</th>\n",
       "    </tr>\n",
       "  </thead>\n",
       "  <tbody>\n",
       "    <tr>\n",
       "      <th>0</th>\n",
       "      <td>ঢাকাচট্টগ্রাম মহাসড়কের সীতাকুন্ড উপজেলার ভাটিয়...</td>\n",
       "      <td>national</td>\n",
       "      <td>https://www.banglanews24.com/national/news/bd/...</td>\n",
       "      <td>চট্টগ্রামে দুর্ঘটনায় গার্মেন্টস কর্মী নিহত, আহ...</td>\n",
       "      <td>ঢাকাচট্টগ্রাম মহাসড়কের সীতাকুন্ড উপজেলার ভাটিয়...</td>\n",
       "    </tr>\n",
       "    <tr>\n",
       "      <th>1</th>\n",
       "      <td>নীলফামারী সদর উপজেলার টুপামারী ইউনিয়নের কামারপ...</td>\n",
       "      <td>national</td>\n",
       "      <td>https://www.banglanews24.com/national/news/bd/...</td>\n",
       "      <td>নীলফামারীতে স্ত্রীকে পিটিয়ে হত্যার ঘটনায় মামলা</td>\n",
       "      <td>নীলফামারী সদর উপজেলার টুপামারী ইউনিয়নের কামারপ...</td>\n",
       "    </tr>\n",
       "    <tr>\n",
       "      <th>2</th>\n",
       "      <td>সিরিজের একমাত্র টেস্টে আগামীকাল মুখোমুখি হবে ব...</td>\n",
       "      <td>sports</td>\n",
       "      <td>https://www.jagonews24.com/special-reports/new...</td>\n",
       "      <td>উইকেট দেখে হতাশ টাইগার শিবির</td>\n",
       "      <td>সিরিজের একমাত্র টেস্টে আগামীকাল মুখোমুখি বাংলা...</td>\n",
       "    </tr>\n",
       "    <tr>\n",
       "      <th>3</th>\n",
       "      <td>অনলাইন ডেস্ক পাকিস্তানের বেলুচিস্তান প্রদেশের ...</td>\n",
       "      <td>international</td>\n",
       "      <td>https://www.dailyjanakantha.com/details/articl...</td>\n",
       "      <td>\\nপাকিস্তানের কোয়েটায় পুলিশ ট্রেনিং কলেজে সন্ত...</td>\n",
       "      <td>অনলাইন ডেস্ক পাকিস্তানের বেলুচিস্তান প্রদেশের ...</td>\n",
       "    </tr>\n",
       "    <tr>\n",
       "      <th>4</th>\n",
       "      <td>ফিলিস্তিনের পশ্চিমতীরে ইসরায়েলী পুলিশের সঙ্গে ...</td>\n",
       "      <td>international</td>\n",
       "      <td>https://www.jagonews24.com/special-reports/new...</td>\n",
       "      <td>পশ্চিমতীরে সংঘর্ষে নিহত ১, আহত দুই শতাধিক</td>\n",
       "      <td>ফিলিস্তিনের পশ্চিমতীরে ইসরায়েলী পুলিশের সংঘর্ষ...</td>\n",
       "    </tr>\n",
       "    <tr>\n",
       "      <th>...</th>\n",
       "      <td>...</td>\n",
       "      <td>...</td>\n",
       "      <td>...</td>\n",
       "      <td>...</td>\n",
       "      <td>...</td>\n",
       "    </tr>\n",
       "    <tr>\n",
       "      <th>504261</th>\n",
       "      <td>মাধুর ভান্ডাকারের সমালোচিত ছবি হিরোইনএর জুনিয়র...</td>\n",
       "      <td>entertainment</td>\n",
       "      <td>https://www.banglanews24.com/national/news/bd/...</td>\n",
       "      <td>নৃশংস হত্যার শিকার ‘হিরোইন’ ছবির অভিনেত্রী মিন...</td>\n",
       "      <td>মাধুর ভান্ডাকারের সমালোচিত ছবি হিরোইনএর জুনিয়র...</td>\n",
       "    </tr>\n",
       "    <tr>\n",
       "      <th>504262</th>\n",
       "      <td>ছয় মাসের প্রস্তুতিতে এসএ গেমস খেলতে নেপালে এসে...</td>\n",
       "      <td>sports</td>\n",
       "      <td>https://www.dailyinqilab.com/article/252218/</td>\n",
       "      <td>খো খো’র ছেলেদের রৌপ্য</td>\n",
       "      <td>ছয় মাসের প্রস্তুতিতে এসএ গেমস খেলতে নেপালে এসে...</td>\n",
       "    </tr>\n",
       "    <tr>\n",
       "      <th>504263</th>\n",
       "      <td>গেল বছরের শেষে দহন সিনেমা দিয়ে দর্শক মাতিয়েছেন...</td>\n",
       "      <td>entertainment</td>\n",
       "      <td>https://www.jagonews24.com/special-reports/new...</td>\n",
       "      <td>কলকাতার দুই নায়কের সঙ্গে ট্রেলারেই পূজার চমক</td>\n",
       "      <td>বছরের শেষে দহন সিনেমা দিয়ে দর্শক মাতিয়েছেন পূজ...</td>\n",
       "    </tr>\n",
       "    <tr>\n",
       "      <th>504264</th>\n",
       "      <td>করোনায় আক্রান্ত শেষ রোগী সুস্থ হয়ে হাসপাতাল ছা...</td>\n",
       "      <td>international</td>\n",
       "      <td>https://www.jagonews24.com/special-reports/new...</td>\n",
       "      <td>করোনামুক্ত হলো ফিজি, মারা যাননি একজনও</td>\n",
       "      <td>করোনায় আক্রান্ত শেষ রোগী সুস্থ হয়ে হাসপাতাল ছা...</td>\n",
       "    </tr>\n",
       "    <tr>\n",
       "      <th>504265</th>\n",
       "      <td>ব্রাহ্মণবাড়িয়া পৌর শহরের কলেজ পাড়ায় একাধিক ককট...</td>\n",
       "      <td>national</td>\n",
       "      <td>https://www.banglanews24.com/national/news/bd/...</td>\n",
       "      <td>ব্রাহ্মণবাড়িয়া শহরে ককটেল বিস্ফোরণ, এলাকায় আতঙ্ক</td>\n",
       "      <td>ব্রাহ্মণবাড়িয়া পৌর শহরের কলেজ পাড়ায় একাধিক ককট...</td>\n",
       "    </tr>\n",
       "  </tbody>\n",
       "</table>\n",
       "<p>504266 rows × 5 columns</p>\n",
       "</div>"
      ],
      "text/plain": [
       "                                                     body          label  \\\n",
       "0       ঢাকাচট্টগ্রাম মহাসড়কের সীতাকুন্ড উপজেলার ভাটিয়...       national   \n",
       "1       নীলফামারী সদর উপজেলার টুপামারী ইউনিয়নের কামারপ...       national   \n",
       "2       সিরিজের একমাত্র টেস্টে আগামীকাল মুখোমুখি হবে ব...         sports   \n",
       "3       অনলাইন ডেস্ক পাকিস্তানের বেলুচিস্তান প্রদেশের ...  international   \n",
       "4       ফিলিস্তিনের পশ্চিমতীরে ইসরায়েলী পুলিশের সঙ্গে ...  international   \n",
       "...                                                   ...            ...   \n",
       "504261  মাধুর ভান্ডাকারের সমালোচিত ছবি হিরোইনএর জুনিয়র...  entertainment   \n",
       "504262  ছয় মাসের প্রস্তুতিতে এসএ গেমস খেলতে নেপালে এসে...         sports   \n",
       "504263  গেল বছরের শেষে দহন সিনেমা দিয়ে দর্শক মাতিয়েছেন...  entertainment   \n",
       "504264  করোনায় আক্রান্ত শেষ রোগী সুস্থ হয়ে হাসপাতাল ছা...  international   \n",
       "504265  ব্রাহ্মণবাড়িয়া পৌর শহরের কলেজ পাড়ায় একাধিক ককট...       national   \n",
       "\n",
       "                                                   source  \\\n",
       "0       https://www.banglanews24.com/national/news/bd/...   \n",
       "1       https://www.banglanews24.com/national/news/bd/...   \n",
       "2       https://www.jagonews24.com/special-reports/new...   \n",
       "3       https://www.dailyjanakantha.com/details/articl...   \n",
       "4       https://www.jagonews24.com/special-reports/new...   \n",
       "...                                                   ...   \n",
       "504261  https://www.banglanews24.com/national/news/bd/...   \n",
       "504262       https://www.dailyinqilab.com/article/252218/   \n",
       "504263  https://www.jagonews24.com/special-reports/new...   \n",
       "504264  https://www.jagonews24.com/special-reports/new...   \n",
       "504265  https://www.banglanews24.com/national/news/bd/...   \n",
       "\n",
       "                                                    title  \\\n",
       "0       চট্টগ্রামে দুর্ঘটনায় গার্মেন্টস কর্মী নিহত, আহ...   \n",
       "1          নীলফামারীতে স্ত্রীকে পিটিয়ে হত্যার ঘটনায় মামলা   \n",
       "2                            উইকেট দেখে হতাশ টাইগার শিবির   \n",
       "3       \\nপাকিস্তানের কোয়েটায় পুলিশ ট্রেনিং কলেজে সন্ত...   \n",
       "4               পশ্চিমতীরে সংঘর্ষে নিহত ১, আহত দুই শতাধিক   \n",
       "...                                                   ...   \n",
       "504261  নৃশংস হত্যার শিকার ‘হিরোইন’ ছবির অভিনেত্রী মিন...   \n",
       "504262                              খো খো’র ছেলেদের রৌপ্য   \n",
       "504263       কলকাতার দুই নায়কের সঙ্গে ট্রেলারেই পূজার চমক   \n",
       "504264              করোনামুক্ত হলো ফিজি, মারা যাননি একজনও   \n",
       "504265   ব্রাহ্মণবাড়িয়া শহরে ককটেল বিস্ফোরণ, এলাকায় আতঙ্ক   \n",
       "\n",
       "                                                     text  \n",
       "0       ঢাকাচট্টগ্রাম মহাসড়কের সীতাকুন্ড উপজেলার ভাটিয়...  \n",
       "1       নীলফামারী সদর উপজেলার টুপামারী ইউনিয়নের কামারপ...  \n",
       "2       সিরিজের একমাত্র টেস্টে আগামীকাল মুখোমুখি বাংলা...  \n",
       "3       অনলাইন ডেস্ক পাকিস্তানের বেলুচিস্তান প্রদেশের ...  \n",
       "4       ফিলিস্তিনের পশ্চিমতীরে ইসরায়েলী পুলিশের সংঘর্ষ...  \n",
       "...                                                   ...  \n",
       "504261  মাধুর ভান্ডাকারের সমালোচিত ছবি হিরোইনএর জুনিয়র...  \n",
       "504262  ছয় মাসের প্রস্তুতিতে এসএ গেমস খেলতে নেপালে এসে...  \n",
       "504263  বছরের শেষে দহন সিনেমা দিয়ে দর্শক মাতিয়েছেন পূজ...  \n",
       "504264  করোনায় আক্রান্ত শেষ রোগী সুস্থ হয়ে হাসপাতাল ছা...  \n",
       "504265  ব্রাহ্মণবাড়িয়া পৌর শহরের কলেজ পাড়ায় একাধিক ককট...  \n",
       "\n",
       "[504266 rows x 5 columns]"
      ]
     },
     "execution_count": 19,
     "metadata": {},
     "output_type": "execute_result"
    }
   ],
   "source": [
    "model_f1.reset_index(drop=True)"
   ]
  },
  {
   "cell_type": "code",
   "execution_count": 18,
   "metadata": {},
   "outputs": [
    {
     "name": "stdout",
     "output_type": "stream",
     "text": [
      "sports                86749\n",
      "international         84742\n",
      "national              84431\n",
      "all_bangladesh        81176\n",
      "politics              66142\n",
      "entertainment         53975\n",
      "economics-business    47051\n",
      "Name: label, dtype: int64\n",
      "7\n"
     ]
    }
   ],
   "source": [
    "# Look at classification type counts\n",
    "counts = model_f1.label.value_counts()\n",
    "print(counts)\n",
    "print(len(counts))"
   ]
  },
  {
   "cell_type": "code",
   "execution_count": 19,
   "metadata": {},
   "outputs": [
    {
     "data": {
      "text/plain": [
       "(504266, 5)"
      ]
     },
     "execution_count": 19,
     "metadata": {},
     "output_type": "execute_result"
    }
   ],
   "source": [
    "model_f1.shape"
   ]
  },
  {
   "cell_type": "code",
   "execution_count": 20,
   "metadata": {},
   "outputs": [
    {
     "name": "stdout",
     "output_type": "stream",
     "text": [
      "['national', 'all_bangladesh', 'sports', 'politics', 'international', 'entertainment', 'economics-business']\n",
      "7\n",
      "504266 is the number of records in the final filtered dataset\n"
     ]
    }
   ],
   "source": [
    "# Get classification types where counts are over 1000\n",
    "#types = np.asarray(counts[(counts > 1000)].index)\n",
    "types=['national'\n",
    ",'all_bangladesh'\n",
    ",'sports'\n",
    ",'politics'\n",
    ",'international'\n",
    ",'entertainment'\n",
    ",'economics-business'\n",
    "]\n",
    "\n",
    "# Filter dataset's records for classification types > 1000\n",
    "data = model_f1[model_f1.label.isin(types)]\n",
    "\n",
    "#data_m = data[(data['classification'] =='HYDROLASE' )  (data['classification'] =='LIGASE' ) or (data['classification'] =='TRANSFERASE' ) or (data['classification'] =='OXIDOREDUCTASE' ) or (data['classification'] =='ISOMERASE' ) or (data['classification'] =='LYASE' )]\n",
    "\n",
    "print(types)\n",
    "print(len(types))\n",
    "print('%d is the number of records in the final filtered dataset' %data.shape[0])"
   ]
  },
  {
   "cell_type": "code",
   "execution_count": 21,
   "metadata": {},
   "outputs": [
    {
     "name": "stdout",
     "output_type": "stream",
     "text": [
      "['national' 'sports' 'international' 'all_bangladesh' 'politics'\n",
      " 'economics-business' 'entertainment']\n",
      "7\n"
     ]
    }
   ],
   "source": [
    "train=data\n",
    "a=train.label.unique()\n",
    "l=len(train.label.unique())\n",
    "print(a)\n",
    "print(len(a))"
   ]
  },
  {
   "cell_type": "code",
   "execution_count": 24,
   "metadata": {},
   "outputs": [],
   "source": [
    "for i in range (l):\n",
    "    train.label = train.label.replace(a[i], i)"
   ]
  },
  {
   "cell_type": "code",
   "execution_count": 25,
   "metadata": {},
   "outputs": [
    {
     "data": {
      "text/html": [
       "<div>\n",
       "<style scoped>\n",
       "    .dataframe tbody tr th:only-of-type {\n",
       "        vertical-align: middle;\n",
       "    }\n",
       "\n",
       "    .dataframe tbody tr th {\n",
       "        vertical-align: top;\n",
       "    }\n",
       "\n",
       "    .dataframe thead th {\n",
       "        text-align: right;\n",
       "    }\n",
       "</style>\n",
       "<table border=\"1\" class=\"dataframe\">\n",
       "  <thead>\n",
       "    <tr style=\"text-align: right;\">\n",
       "      <th></th>\n",
       "      <th>body</th>\n",
       "      <th>label</th>\n",
       "      <th>source</th>\n",
       "      <th>title</th>\n",
       "      <th>text</th>\n",
       "    </tr>\n",
       "  </thead>\n",
       "  <tbody>\n",
       "    <tr>\n",
       "      <th>0</th>\n",
       "      <td>ঢাকাচট্টগ্রাম মহাসড়কের সীতাকুন্ড উপজেলার ভাটিয়...</td>\n",
       "      <td>0</td>\n",
       "      <td>https://www.banglanews24.com/national/news/bd/...</td>\n",
       "      <td>চট্টগ্রামে দুর্ঘটনায় গার্মেন্টস কর্মী নিহত, আহ...</td>\n",
       "      <td>ঢাকাচট্টগ্রাম মহাসড়কের সীতাকুন্ড উপজেলার ভাটিয়...</td>\n",
       "    </tr>\n",
       "    <tr>\n",
       "      <th>1</th>\n",
       "      <td>নীলফামারী সদর উপজেলার টুপামারী ইউনিয়নের কামারপ...</td>\n",
       "      <td>0</td>\n",
       "      <td>https://www.banglanews24.com/national/news/bd/...</td>\n",
       "      <td>নীলফামারীতে স্ত্রীকে পিটিয়ে হত্যার ঘটনায় মামলা</td>\n",
       "      <td>নীলফামারী সদর উপজেলার টুপামারী ইউনিয়নের কামারপ...</td>\n",
       "    </tr>\n",
       "    <tr>\n",
       "      <th>2</th>\n",
       "      <td>সিরিজের একমাত্র টেস্টে আগামীকাল মুখোমুখি হবে ব...</td>\n",
       "      <td>1</td>\n",
       "      <td>https://www.jagonews24.com/special-reports/new...</td>\n",
       "      <td>উইকেট দেখে হতাশ টাইগার শিবির</td>\n",
       "      <td>সিরিজের একমাত্র টেস্টে আগামীকাল মুখোমুখি বাংলা...</td>\n",
       "    </tr>\n",
       "    <tr>\n",
       "      <th>3</th>\n",
       "      <td>অনলাইন ডেস্ক পাকিস্তানের বেলুচিস্তান প্রদেশের ...</td>\n",
       "      <td>2</td>\n",
       "      <td>https://www.dailyjanakantha.com/details/articl...</td>\n",
       "      <td>\\nপাকিস্তানের কোয়েটায় পুলিশ ট্রেনিং কলেজে সন্ত...</td>\n",
       "      <td>অনলাইন ডেস্ক পাকিস্তানের বেলুচিস্তান প্রদেশের ...</td>\n",
       "    </tr>\n",
       "    <tr>\n",
       "      <th>4</th>\n",
       "      <td>ফিলিস্তিনের পশ্চিমতীরে ইসরায়েলী পুলিশের সঙ্গে ...</td>\n",
       "      <td>2</td>\n",
       "      <td>https://www.jagonews24.com/special-reports/new...</td>\n",
       "      <td>পশ্চিমতীরে সংঘর্ষে নিহত ১, আহত দুই শতাধিক</td>\n",
       "      <td>ফিলিস্তিনের পশ্চিমতীরে ইসরায়েলী পুলিশের সংঘর্ষ...</td>\n",
       "    </tr>\n",
       "    <tr>\n",
       "      <th>...</th>\n",
       "      <td>...</td>\n",
       "      <td>...</td>\n",
       "      <td>...</td>\n",
       "      <td>...</td>\n",
       "      <td>...</td>\n",
       "    </tr>\n",
       "    <tr>\n",
       "      <th>504261</th>\n",
       "      <td>মাধুর ভান্ডাকারের সমালোচিত ছবি হিরোইনএর জুনিয়র...</td>\n",
       "      <td>6</td>\n",
       "      <td>https://www.banglanews24.com/national/news/bd/...</td>\n",
       "      <td>নৃশংস হত্যার শিকার ‘হিরোইন’ ছবির অভিনেত্রী মিন...</td>\n",
       "      <td>মাধুর ভান্ডাকারের সমালোচিত ছবি হিরোইনএর জুনিয়র...</td>\n",
       "    </tr>\n",
       "    <tr>\n",
       "      <th>504262</th>\n",
       "      <td>ছয় মাসের প্রস্তুতিতে এসএ গেমস খেলতে নেপালে এসে...</td>\n",
       "      <td>1</td>\n",
       "      <td>https://www.dailyinqilab.com/article/252218/</td>\n",
       "      <td>খো খো’র ছেলেদের রৌপ্য</td>\n",
       "      <td>ছয় মাসের প্রস্তুতিতে এসএ গেমস খেলতে নেপালে এসে...</td>\n",
       "    </tr>\n",
       "    <tr>\n",
       "      <th>504263</th>\n",
       "      <td>গেল বছরের শেষে দহন সিনেমা দিয়ে দর্শক মাতিয়েছেন...</td>\n",
       "      <td>6</td>\n",
       "      <td>https://www.jagonews24.com/special-reports/new...</td>\n",
       "      <td>কলকাতার দুই নায়কের সঙ্গে ট্রেলারেই পূজার চমক</td>\n",
       "      <td>বছরের শেষে দহন সিনেমা দিয়ে দর্শক মাতিয়েছেন পূজ...</td>\n",
       "    </tr>\n",
       "    <tr>\n",
       "      <th>504264</th>\n",
       "      <td>করোনায় আক্রান্ত শেষ রোগী সুস্থ হয়ে হাসপাতাল ছা...</td>\n",
       "      <td>2</td>\n",
       "      <td>https://www.jagonews24.com/special-reports/new...</td>\n",
       "      <td>করোনামুক্ত হলো ফিজি, মারা যাননি একজনও</td>\n",
       "      <td>করোনায় আক্রান্ত শেষ রোগী সুস্থ হয়ে হাসপাতাল ছা...</td>\n",
       "    </tr>\n",
       "    <tr>\n",
       "      <th>504265</th>\n",
       "      <td>ব্রাহ্মণবাড়িয়া পৌর শহরের কলেজ পাড়ায় একাধিক ককট...</td>\n",
       "      <td>0</td>\n",
       "      <td>https://www.banglanews24.com/national/news/bd/...</td>\n",
       "      <td>ব্রাহ্মণবাড়িয়া শহরে ককটেল বিস্ফোরণ, এলাকায় আতঙ্ক</td>\n",
       "      <td>ব্রাহ্মণবাড়িয়া পৌর শহরের কলেজ পাড়ায় একাধিক ককট...</td>\n",
       "    </tr>\n",
       "  </tbody>\n",
       "</table>\n",
       "<p>504266 rows × 5 columns</p>\n",
       "</div>"
      ],
      "text/plain": [
       "                                                     body  label  \\\n",
       "0       ঢাকাচট্টগ্রাম মহাসড়কের সীতাকুন্ড উপজেলার ভাটিয়...      0   \n",
       "1       নীলফামারী সদর উপজেলার টুপামারী ইউনিয়নের কামারপ...      0   \n",
       "2       সিরিজের একমাত্র টেস্টে আগামীকাল মুখোমুখি হবে ব...      1   \n",
       "3       অনলাইন ডেস্ক পাকিস্তানের বেলুচিস্তান প্রদেশের ...      2   \n",
       "4       ফিলিস্তিনের পশ্চিমতীরে ইসরায়েলী পুলিশের সঙ্গে ...      2   \n",
       "...                                                   ...    ...   \n",
       "504261  মাধুর ভান্ডাকারের সমালোচিত ছবি হিরোইনএর জুনিয়র...      6   \n",
       "504262  ছয় মাসের প্রস্তুতিতে এসএ গেমস খেলতে নেপালে এসে...      1   \n",
       "504263  গেল বছরের শেষে দহন সিনেমা দিয়ে দর্শক মাতিয়েছেন...      6   \n",
       "504264  করোনায় আক্রান্ত শেষ রোগী সুস্থ হয়ে হাসপাতাল ছা...      2   \n",
       "504265  ব্রাহ্মণবাড়িয়া পৌর শহরের কলেজ পাড়ায় একাধিক ককট...      0   \n",
       "\n",
       "                                                   source  \\\n",
       "0       https://www.banglanews24.com/national/news/bd/...   \n",
       "1       https://www.banglanews24.com/national/news/bd/...   \n",
       "2       https://www.jagonews24.com/special-reports/new...   \n",
       "3       https://www.dailyjanakantha.com/details/articl...   \n",
       "4       https://www.jagonews24.com/special-reports/new...   \n",
       "...                                                   ...   \n",
       "504261  https://www.banglanews24.com/national/news/bd/...   \n",
       "504262       https://www.dailyinqilab.com/article/252218/   \n",
       "504263  https://www.jagonews24.com/special-reports/new...   \n",
       "504264  https://www.jagonews24.com/special-reports/new...   \n",
       "504265  https://www.banglanews24.com/national/news/bd/...   \n",
       "\n",
       "                                                    title  \\\n",
       "0       চট্টগ্রামে দুর্ঘটনায় গার্মেন্টস কর্মী নিহত, আহ...   \n",
       "1          নীলফামারীতে স্ত্রীকে পিটিয়ে হত্যার ঘটনায় মামলা   \n",
       "2                            উইকেট দেখে হতাশ টাইগার শিবির   \n",
       "3       \\nপাকিস্তানের কোয়েটায় পুলিশ ট্রেনিং কলেজে সন্ত...   \n",
       "4               পশ্চিমতীরে সংঘর্ষে নিহত ১, আহত দুই শতাধিক   \n",
       "...                                                   ...   \n",
       "504261  নৃশংস হত্যার শিকার ‘হিরোইন’ ছবির অভিনেত্রী মিন...   \n",
       "504262                              খো খো’র ছেলেদের রৌপ্য   \n",
       "504263       কলকাতার দুই নায়কের সঙ্গে ট্রেলারেই পূজার চমক   \n",
       "504264              করোনামুক্ত হলো ফিজি, মারা যাননি একজনও   \n",
       "504265   ব্রাহ্মণবাড়িয়া শহরে ককটেল বিস্ফোরণ, এলাকায় আতঙ্ক   \n",
       "\n",
       "                                                     text  \n",
       "0       ঢাকাচট্টগ্রাম মহাসড়কের সীতাকুন্ড উপজেলার ভাটিয়...  \n",
       "1       নীলফামারী সদর উপজেলার টুপামারী ইউনিয়নের কামারপ...  \n",
       "2       সিরিজের একমাত্র টেস্টে আগামীকাল মুখোমুখি বাংলা...  \n",
       "3       অনলাইন ডেস্ক পাকিস্তানের বেলুচিস্তান প্রদেশের ...  \n",
       "4       ফিলিস্তিনের পশ্চিমতীরে ইসরায়েলী পুলিশের সংঘর্ষ...  \n",
       "...                                                   ...  \n",
       "504261  মাধুর ভান্ডাকারের সমালোচিত ছবি হিরোইনএর জুনিয়র...  \n",
       "504262  ছয় মাসের প্রস্তুতিতে এসএ গেমস খেলতে নেপালে এসে...  \n",
       "504263  বছরের শেষে দহন সিনেমা দিয়ে দর্শক মাতিয়েছেন পূজ...  \n",
       "504264  করোনায় আক্রান্ত শেষ রোগী সুস্থ হয়ে হাসপাতাল ছা...  \n",
       "504265  ব্রাহ্মণবাড়িয়া পৌর শহরের কলেজ পাড়ায় একাধিক ককট...  \n",
       "\n",
       "[504266 rows x 5 columns]"
      ]
     },
     "execution_count": 25,
     "metadata": {},
     "output_type": "execute_result"
    }
   ],
   "source": [
    "train.reset_index(drop=True)"
   ]
  },
  {
   "cell_type": "code",
   "execution_count": 26,
   "metadata": {},
   "outputs": [
    {
     "data": {
      "text/plain": [
       "1    86749\n",
       "2    84742\n",
       "0    84431\n",
       "3    81176\n",
       "4    66142\n",
       "6    53975\n",
       "5    47051\n",
       "Name: label, dtype: int64"
      ]
     },
     "execution_count": 26,
     "metadata": {},
     "output_type": "execute_result"
    }
   ],
   "source": [
    "train.label.value_counts()"
   ]
  },
  {
   "cell_type": "code",
   "execution_count": 27,
   "metadata": {},
   "outputs": [
    {
     "data": {
      "text/html": [
       "<div>\n",
       "<style scoped>\n",
       "    .dataframe tbody tr th:only-of-type {\n",
       "        vertical-align: middle;\n",
       "    }\n",
       "\n",
       "    .dataframe tbody tr th {\n",
       "        vertical-align: top;\n",
       "    }\n",
       "\n",
       "    .dataframe thead th {\n",
       "        text-align: right;\n",
       "    }\n",
       "</style>\n",
       "<table border=\"1\" class=\"dataframe\">\n",
       "  <thead>\n",
       "    <tr style=\"text-align: right;\">\n",
       "      <th></th>\n",
       "      <th>text</th>\n",
       "      <th>label</th>\n",
       "    </tr>\n",
       "  </thead>\n",
       "  <tbody>\n",
       "    <tr>\n",
       "      <th>0</th>\n",
       "      <td>ঢাকাচট্টগ্রাম মহাসড়কের সীতাকুন্ড উপজেলার ভাটিয়...</td>\n",
       "      <td>0</td>\n",
       "    </tr>\n",
       "    <tr>\n",
       "      <th>1</th>\n",
       "      <td>নীলফামারী সদর উপজেলার টুপামারী ইউনিয়নের কামারপ...</td>\n",
       "      <td>0</td>\n",
       "    </tr>\n",
       "    <tr>\n",
       "      <th>2</th>\n",
       "      <td>সিরিজের একমাত্র টেস্টে আগামীকাল মুখোমুখি বাংলা...</td>\n",
       "      <td>1</td>\n",
       "    </tr>\n",
       "    <tr>\n",
       "      <th>3</th>\n",
       "      <td>অনলাইন ডেস্ক পাকিস্তানের বেলুচিস্তান প্রদেশের ...</td>\n",
       "      <td>2</td>\n",
       "    </tr>\n",
       "    <tr>\n",
       "      <th>4</th>\n",
       "      <td>ফিলিস্তিনের পশ্চিমতীরে ইসরায়েলী পুলিশের সংঘর্ষ...</td>\n",
       "      <td>2</td>\n",
       "    </tr>\n",
       "    <tr>\n",
       "      <th>...</th>\n",
       "      <td>...</td>\n",
       "      <td>...</td>\n",
       "    </tr>\n",
       "    <tr>\n",
       "      <th>504261</th>\n",
       "      <td>মাধুর ভান্ডাকারের সমালোচিত ছবি হিরোইনএর জুনিয়র...</td>\n",
       "      <td>6</td>\n",
       "    </tr>\n",
       "    <tr>\n",
       "      <th>504262</th>\n",
       "      <td>ছয় মাসের প্রস্তুতিতে এসএ গেমস খেলতে নেপালে এসে...</td>\n",
       "      <td>1</td>\n",
       "    </tr>\n",
       "    <tr>\n",
       "      <th>504263</th>\n",
       "      <td>বছরের শেষে দহন সিনেমা দিয়ে দর্শক মাতিয়েছেন পূজ...</td>\n",
       "      <td>6</td>\n",
       "    </tr>\n",
       "    <tr>\n",
       "      <th>504264</th>\n",
       "      <td>করোনায় আক্রান্ত শেষ রোগী সুস্থ হয়ে হাসপাতাল ছা...</td>\n",
       "      <td>2</td>\n",
       "    </tr>\n",
       "    <tr>\n",
       "      <th>504265</th>\n",
       "      <td>ব্রাহ্মণবাড়িয়া পৌর শহরের কলেজ পাড়ায় একাধিক ককট...</td>\n",
       "      <td>0</td>\n",
       "    </tr>\n",
       "  </tbody>\n",
       "</table>\n",
       "<p>504266 rows × 2 columns</p>\n",
       "</div>"
      ],
      "text/plain": [
       "                                                     text  label\n",
       "0       ঢাকাচট্টগ্রাম মহাসড়কের সীতাকুন্ড উপজেলার ভাটিয়...      0\n",
       "1       নীলফামারী সদর উপজেলার টুপামারী ইউনিয়নের কামারপ...      0\n",
       "2       সিরিজের একমাত্র টেস্টে আগামীকাল মুখোমুখি বাংলা...      1\n",
       "3       অনলাইন ডেস্ক পাকিস্তানের বেলুচিস্তান প্রদেশের ...      2\n",
       "4       ফিলিস্তিনের পশ্চিমতীরে ইসরায়েলী পুলিশের সংঘর্ষ...      2\n",
       "...                                                   ...    ...\n",
       "504261  মাধুর ভান্ডাকারের সমালোচিত ছবি হিরোইনএর জুনিয়র...      6\n",
       "504262  ছয় মাসের প্রস্তুতিতে এসএ গেমস খেলতে নেপালে এসে...      1\n",
       "504263  বছরের শেষে দহন সিনেমা দিয়ে দর্শক মাতিয়েছেন পূজ...      6\n",
       "504264  করোনায় আক্রান্ত শেষ রোগী সুস্থ হয়ে হাসপাতাল ছা...      2\n",
       "504265  ব্রাহ্মণবাড়িয়া পৌর শহরের কলেজ পাড়ায় একাধিক ককট...      0\n",
       "\n",
       "[504266 rows x 2 columns]"
      ]
     },
     "execution_count": 27,
     "metadata": {},
     "output_type": "execute_result"
    }
   ],
   "source": [
    "df = train\n",
    "# df12 = train[['body','label','source','title']]\n",
    "df1 = df[['text','label']]\n",
    "df1.reset_index(drop =True)"
   ]
  },
  {
   "cell_type": "code",
   "execution_count": 28,
   "metadata": {},
   "outputs": [
    {
     "data": {
      "text/html": [
       "<div>\n",
       "<style scoped>\n",
       "    .dataframe tbody tr th:only-of-type {\n",
       "        vertical-align: middle;\n",
       "    }\n",
       "\n",
       "    .dataframe tbody tr th {\n",
       "        vertical-align: top;\n",
       "    }\n",
       "\n",
       "    .dataframe thead th {\n",
       "        text-align: right;\n",
       "    }\n",
       "</style>\n",
       "<table border=\"1\" class=\"dataframe\">\n",
       "  <thead>\n",
       "    <tr style=\"text-align: right;\">\n",
       "      <th></th>\n",
       "      <th>text</th>\n",
       "      <th>label</th>\n",
       "    </tr>\n",
       "  </thead>\n",
       "  <tbody>\n",
       "    <tr>\n",
       "      <th>0</th>\n",
       "      <td>ঢাকাচট্টগ্রাম মহাসড়কের সীতাকুন্ড উপজেলার ভাটিয়...</td>\n",
       "      <td>0</td>\n",
       "    </tr>\n",
       "    <tr>\n",
       "      <th>1</th>\n",
       "      <td>নীলফামারী সদর উপজেলার টুপামারী ইউনিয়নের কামারপ...</td>\n",
       "      <td>0</td>\n",
       "    </tr>\n",
       "    <tr>\n",
       "      <th>2</th>\n",
       "      <td>সিরিজের একমাত্র টেস্টে আগামীকাল মুখোমুখি বাংলা...</td>\n",
       "      <td>1</td>\n",
       "    </tr>\n",
       "    <tr>\n",
       "      <th>3</th>\n",
       "      <td>অনলাইন ডেস্ক পাকিস্তানের বেলুচিস্তান প্রদেশের ...</td>\n",
       "      <td>2</td>\n",
       "    </tr>\n",
       "    <tr>\n",
       "      <th>4</th>\n",
       "      <td>ফিলিস্তিনের পশ্চিমতীরে ইসরায়েলী পুলিশের সংঘর্ষ...</td>\n",
       "      <td>2</td>\n",
       "    </tr>\n",
       "  </tbody>\n",
       "</table>\n",
       "</div>"
      ],
      "text/plain": [
       "                                                text  label\n",
       "0  ঢাকাচট্টগ্রাম মহাসড়কের সীতাকুন্ড উপজেলার ভাটিয়...      0\n",
       "1  নীলফামারী সদর উপজেলার টুপামারী ইউনিয়নের কামারপ...      0\n",
       "2  সিরিজের একমাত্র টেস্টে আগামীকাল মুখোমুখি বাংলা...      1\n",
       "3  অনলাইন ডেস্ক পাকিস্তানের বেলুচিস্তান প্রদেশের ...      2\n",
       "4  ফিলিস্তিনের পশ্চিমতীরে ইসরায়েলী পুলিশের সংঘর্ষ...      2"
      ]
     },
     "execution_count": 28,
     "metadata": {},
     "output_type": "execute_result"
    }
   ],
   "source": [
    "df1.head()"
   ]
  },
  {
   "cell_type": "code",
   "execution_count": 29,
   "metadata": {},
   "outputs": [],
   "source": [
    "X=df1['text']\n",
    "Y=df1['label']"
   ]
  },
  {
   "cell_type": "code",
   "execution_count": 30,
   "metadata": {},
   "outputs": [
    {
     "name": "stdout",
     "output_type": "stream",
     "text": [
      "['৷হায', '৷হাস', '৷হিন', '৷হিম', '৷হিল', '৷হুএ', '৷হুথ', '৷হুম', '৷হেম', '৷হেল', '৷হ্য', '৷ের ', '৻উপস', '৻উৎস', '৻এখন', '৻কর্', '৻টেল', '৻পপ ', '৻প্র', '৻সাল']\n"
     ]
    }
   ],
   "source": [
    "# 3). ----- Train Test Split -----\n",
    "\n",
    "# Split Data\n",
    "X_train, X_test,y_train,y_test = train_test_split(X, Y, test_size = 0.10, random_state = 1)\n",
    "\n",
    "# Create a Count Vectorizer to gather the unique elements in sequence\n",
    "vect = CountVectorizer(analyzer = 'char_wb', ngram_range = (4,4))\n",
    "\n",
    "# Fit and Transform CountVectorizer\n",
    "vect.fit(X_train)\n",
    "X_train_df = vect.transform(X_train)\n",
    "X_test_df = vect.transform(X_test)\n",
    "\n",
    "#Print a few of the features\n",
    "print(vect.get_feature_names()[-20:])"
   ]
  },
  {
   "cell_type": "code",
   "execution_count": 31,
   "metadata": {},
   "outputs": [
    {
     "name": "stdout",
     "output_type": "stream",
     "text": [
      "0.8456382493505463\n"
     ]
    }
   ],
   "source": [
    "# 4). ------ Machine Learning Models ------\n",
    "\n",
    "# Make a prediction dictionary to store accuracys\n",
    "prediction = dict()\n",
    "\n",
    "# Naive Bayes Model\n",
    "from sklearn.naive_bayes import MultinomialNB\n",
    "model = MultinomialNB()\n",
    "model.fit(X_train_df, y_train)\n",
    "predicted_classes = model.predict(X_test_df)\n",
    "prediction[\"MultinomialNB\"] = accuracy_score(predicted_classes, y_test)\n",
    "print( prediction['MultinomialNB'])"
   ]
  },
  {
   "cell_type": "code",
   "execution_count": 32,
   "metadata": {},
   "outputs": [
    {
     "name": "stdout",
     "output_type": "stream",
     "text": [
      "[6]\n"
     ]
    }
   ],
   "source": [
    "review = [\"শাবনূর বাংলাদেশের চলচ্চিত্র ইতিহাসের তুমুল জনপ্রিয় অভিনেত্রী। ৯০ দশক থেকে এ পর্যন্ত আসা চিত্র তারকাদের মধ্যে সবচেয়ে জনপ্রিয় চিত্র তারকা হিসেবে বিবেচনা করা হয় তাকে। প্রখ্যাত চলচ্চিত্রকার এহতেশাম পরিচালিত 'চাঁদনী রাতে' ছবি মাধ্যমে চলচ্চিত্রে আসেন শাবনূর। প্রথম ছবি ব্যর্থ হলেও পরে সালমান শাহের সাথে জুটি গড়ে ব্যাপক জনপ্রিয়তা পান। একে একে এ জুটি সুপারহিট ছবি দিতে থাকেন। সালমানের অকাল মৃত্যুতে সাময়িক ভাবে শাবনূরের ক্যারিয়ার হুমকির মুখে পড়লেও তার চিরায়ত বাঙালি প্রেমিকার ইমেজ এবং অসাধারণ অভিনয় ক্ষমতা তাকে দর্শকদের হৃদয়ে শক্ত আসন গড়তে সাহায্য করে। পরে রিয়াজ, শাকিল খান, ফেরদৌস ও শাকিব খান এর সাথে জনপ্রিয় জুটি গড়ে অসংখ্য ব্যবসাসফল ও জনপ্রিয় ছবি উপহার দেন। একতা সময় ক্যারিয়ারে ভাটা পড়ে। বর্তমানে পর্দায় নেই তিনি। তবে জানালেন ব্যস্ত তিনি। গণমাধ্যমকে শাবনূর বলেন, এখন আমি আগের চেয়েও বেশি। আমার ছেলে ও পরিবার নিয়ে অনেক ব্যস্ত সময় কীভাবে কেটে যায় টেরই পাই না। তাছাড়া সিডনি ইন্টারন্যাশনাল স্কুল নামে একটা স্কুল আছে। সেটা নিয়ে প্রচুর ব্যস্ত থাকতে হয়।\"]\n",
    "review_vector = vect.transform(review) # vectorizing\n",
    "print(model.predict(review_vector))"
   ]
  },
  {
   "cell_type": "code",
   "execution_count": 33,
   "metadata": {},
   "outputs": [
    {
     "data": {
      "text/plain": [
       "['naive_bayes.pkl']"
      ]
     },
     "execution_count": 33,
     "metadata": {},
     "output_type": "execute_result"
    }
   ],
   "source": [
    "# from sklearn.externals import joblib\n",
    "import joblib as joblib\n",
    "# Save the model as a pickle in a file\n",
    "joblib.dump(model, 'naive_bayes.pkl')"
   ]
  },
  {
   "cell_type": "code",
   "execution_count": 34,
   "metadata": {},
   "outputs": [],
   "source": [
    "# Load the model from the file\n",
    "naive = joblib.load('naive_bayes.pkl') \n",
    "# Use the loaded model to make predictions"
   ]
  },
  {
   "cell_type": "code",
   "execution_count": 35,
   "metadata": {},
   "outputs": [
    {
     "name": "stdout",
     "output_type": "stream",
     "text": [
      "[6]\n"
     ]
    }
   ],
   "source": [
    "review = [\"শাবনূর বাংলাদেশের চলচ্চিত্র ইতিহাসের তুমুল জনপ্রিয় অভিনেত্রী। ৯০ দশক থেকে এ পর্যন্ত আসা চিত্র তারকাদের মধ্যে সবচেয়ে জনপ্রিয় চিত্র তারকা হিসেবে বিবেচনা করা হয় তাকে। প্রখ্যাত চলচ্চিত্রকার এহতেশাম পরিচালিত 'চাঁদনী রাতে' ছবি মাধ্যমে চলচ্চিত্রে আসেন শাবনূর। প্রথম ছবি ব্যর্থ হলেও পরে সালমান শাহের সাথে জুটি গড়ে ব্যাপক জনপ্রিয়তা পান। একে একে এ জুটি সুপারহিট ছবি দিতে থাকেন। সালমানের অকাল মৃত্যুতে সাময়িক ভাবে শাবনূরের ক্যারিয়ার হুমকির মুখে পড়লেও তার চিরায়ত বাঙালি প্রেমিকার ইমেজ এবং অসাধারণ অভিনয় ক্ষমতা তাকে দর্শকদের হৃদয়ে শক্ত আসন গড়তে সাহায্য করে। পরে রিয়াজ, শাকিল খান, ফেরদৌস ও শাকিব খান এর সাথে জনপ্রিয় জুটি গড়ে অসংখ্য ব্যবসাসফল ও জনপ্রিয় ছবি উপহার দেন। একতা সময় ক্যারিয়ারে ভাটা পড়ে। বর্তমানে পর্দায় নেই তিনি। তবে জানালেন ব্যস্ত তিনি। গণমাধ্যমকে শাবনূর বলেন, এখন আমি আগের চেয়েও বেশি। আমার ছেলে ও পরিবার নিয়ে অনেক ব্যস্ত সময় কীভাবে কেটে যায় টেরই পাই না। তাছাড়া সিডনি ইন্টারন্যাশনাল স্কুল নামে একটা স্কুল আছে। সেটা নিয়ে প্রচুর ব্যস্ত থাকতে হয়।\"]\n",
    "review_vector = vect.transform(review) # vectorizing\n",
    "print(naive.predict(review_vector))"
   ]
  },
  {
   "cell_type": "code",
   "execution_count": 36,
   "metadata": {},
   "outputs": [
    {
     "name": "stdout",
     "output_type": "stream",
     "text": [
      "              precision    recall  f1-score   support\n",
      "\n",
      "     Class 0       0.71      0.63      0.66      8373\n",
      "     Class 1       0.99      0.95      0.97      8679\n",
      "     Class 2       0.94      0.94      0.94      8635\n",
      "     Class 3       0.79      0.80      0.80      8071\n",
      "     Class 4       0.73      0.81      0.77      6543\n",
      "     Class 5       0.84      0.90      0.87      4705\n",
      "     Class 6       0.89      0.93      0.91      5421\n",
      "\n",
      "    accuracy                           0.85     50427\n",
      "   macro avg       0.84      0.85      0.85     50427\n",
      "weighted avg       0.85      0.85      0.84     50427\n",
      "\n"
     ]
    }
   ],
   "source": [
    "from sklearn.metrics import classification_report\n",
    "target_names = [\"Class {}\".format(i) for i in range(7)]\n",
    "print(classification_report(y_test, predicted_classes, target_names=target_names))"
   ]
  },
  {
   "cell_type": "code",
   "execution_count": 37,
   "metadata": {},
   "outputs": [],
   "source": [
    "name=[]\n",
    "for i in range(7):\n",
    "  name.append(i)"
   ]
  },
  {
   "cell_type": "code",
   "execution_count": 38,
   "metadata": {},
   "outputs": [
    {
     "data": {
      "text/plain": [
       "<matplotlib.axes._subplots.AxesSubplot at 0x25190124d60>"
      ]
     },
     "execution_count": 38,
     "metadata": {},
     "output_type": "execute_result"
    },
    {
     "data": {
      "image/png": "[encoded data removed]",
      "text/plain": [
       "<Figure size 936x576 with 2 Axes>"
      ]
     },
     "metadata": {
      "needs_background": "light"
     },
     "output_type": "display_data"
    }
   ],
   "source": [
    "# Plot confusion matrix\n",
    "conf_mat = confusion_matrix(y_test, predicted_classes, labels = name)\n",
    "#Normalize confusion_matrix\n",
    "conf_mat = conf_mat.astype('float')/ conf_mat.sum(axis=1)[:, np.newaxis]\n",
    "# Plot Heat Map\n",
    "fig , ax = plt.subplots()\n",
    "fig.set_size_inches(13, 8)\n",
    "sns.heatmap(conf_mat)"
   ]
  },
  {
   "cell_type": "code",
   "execution_count": 40,
   "metadata": {},
   "outputs": [
    {
     "name": "stdout",
     "output_type": "stream",
     "text": [
      "Automatically created module for IPython interactive environment\n",
      "Confusion matrix, without normalization\n",
      "[[5240    9  143 1345 1145  349  142]\n",
      " [  96 8253  110   46   38   37   99]\n",
      " [  48    7 8120   73   20  143  224]\n",
      " [ 675    3   33 6493  622  176   69]\n",
      " [1007    1   57  125 5277   58   18]\n",
      " [ 267    2   55   76   49 4216   40]\n",
      " [  88   40  155   27   41   26 5044]]\n",
      "Normalized confusion matrix\n",
      "[[6.26e-01 1.07e-03 1.71e-02 1.61e-01 1.37e-01 4.17e-02 1.70e-02]\n",
      " [1.11e-02 9.51e-01 1.27e-02 5.30e-03 4.38e-03 4.26e-03 1.14e-02]\n",
      " [5.56e-03 8.11e-04 9.40e-01 8.45e-03 2.32e-03 1.66e-02 2.59e-02]\n",
      " [8.36e-02 3.72e-04 4.09e-03 8.04e-01 7.71e-02 2.18e-02 8.55e-03]\n",
      " [1.54e-01 1.53e-04 8.71e-03 1.91e-02 8.07e-01 8.86e-03 2.75e-03]\n",
      " [5.67e-02 4.25e-04 1.17e-02 1.62e-02 1.04e-02 8.96e-01 8.50e-03]\n",
      " [1.62e-02 7.38e-03 2.86e-02 4.98e-03 7.56e-03 4.80e-03 9.30e-01]]\n"
     ]
    },
    {
     "data": {
      "image/png": "[encoded data removed]",
      "text/plain": [
       "<Figure size 432x288 with 2 Axes>"
      ]
     },
     "metadata": {
      "needs_background": "light"
     },
     "output_type": "display_data"
    },
    {
     "data": {
      "image/png": "[encoded data removed]",
      "text/plain": [
       "<Figure size 432x288 with 2 Axes>"
      ]
     },
     "metadata": {
      "needs_background": "light"
     },
     "output_type": "display_data"
    }
   ],
   "source": [
    "print(__doc__)\n",
    "\n",
    "import itertools\n",
    "import numpy as np\n",
    "import matplotlib.pyplot as plt\n",
    "\n",
    "from sklearn import svm, datasets\n",
    "from sklearn.model_selection import train_test_split\n",
    "from sklearn.metrics import confusion_matrix\n",
    "\n",
    "\n",
    "class_names = name\n",
    "\n",
    "def plot_confusion_matrix(cm, classes,\n",
    "                          normalize=False,\n",
    "                          title='Confusion matrix',\n",
    "                          cmap=plt.cm.Blues):\n",
    "    \"\"\"\n",
    "    This function prints and plots the confusion matrix.\n",
    "    Normalization can be applied by setting `normalize=True`.\n",
    "    \"\"\"\n",
    "    if normalize:\n",
    "        cm = cm.astype('float') / cm.sum(axis=1)[:, np.newaxis]\n",
    "        print(\"Normalized confusion matrix\")\n",
    "    else:\n",
    "        print('Confusion matrix, without normalization')\n",
    "\n",
    "    print(cm)\n",
    "\n",
    "    plt.imshow(cm, interpolation='nearest', cmap=cmap)\n",
    "    plt.title(title)\n",
    "    plt.colorbar()\n",
    "    tick_marks = np.arange(len(classes))\n",
    "    plt.xticks(tick_marks, classes, rotation=0)\n",
    "    plt.yticks(tick_marks, classes)\n",
    "\n",
    "    fmt = '.2f' if normalize else 'd'\n",
    "    thresh = cm.max() / 2.\n",
    "    for i, j in itertools.product(range(cm.shape[0]), range(cm.shape[1])):\n",
    "        plt.text(j, i, format(cm[i, j], fmt),\n",
    "                 horizontalalignment=\"center\",\n",
    "                 color=\"white\" if cm[i, j] > thresh else \"black\")\n",
    "\n",
    "    plt.tight_layout()\n",
    "    plt.ylabel('True label')\n",
    "    plt.xlabel('Predicted label')\n",
    "\n",
    "# Compute confusion matrix\n",
    "cnf_matrix = confusion_matrix(y_test, predicted_classes)\n",
    "np.set_printoptions(precision=2)\n",
    "\n",
    "# Plot non-normalized confusion matrix\n",
    "plt.figure()\n",
    "plot_confusion_matrix(cnf_matrix, classes=class_names,\n",
    "                      title='Confusion matrix, without normalization')\n",
    "\n",
    "# Plot normalized confusion matrix\n",
    "plt.figure()\n",
    "plot_confusion_matrix(cnf_matrix, classes=class_names, normalize=True,\n",
    "                      title='Normalized confusion matrix')\n",
    "\n",
    "plt.show()"
   ]
  },
  {
   "cell_type": "code",
   "execution_count": null,
   "metadata": {},
   "outputs": [],
   "source": []
  }
 ],
 "metadata": {
  "kernelspec": {
   "display_name": "Python 3",
   "language": "python",
   "name": "python3"
  },
  "language_info": {
   "codemirror_mode": {
    "name": "ipython",
    "version": 3
   },
   "file_extension": ".py",
   "mimetype": "text/x-python",
   "name": "python",
   "nbconvert_exporter": "python",
   "pygments_lexer": "ipython3",
   "version": "3.8.3"
  }
 },
 "nbformat": 4,
 "nbformat_minor": 4
}
