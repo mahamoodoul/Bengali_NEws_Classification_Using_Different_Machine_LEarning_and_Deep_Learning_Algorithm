{
  "nbformat": 4,
  "nbformat_minor": 0,
  "metadata": {
    "colab": {
      "name": "data cleaning process for bengali nesw dataset.ipynb",
      "provenance": [],
      "collapsed_sections": []
    },
    "kernelspec": {
      "display_name": "Python 3",
      "name": "python3"
    }
  },
  "cells": [
    {
      "cell_type": "code",
      "metadata": {
        "id": "1-AkdLX2_6xJ"
      },
      "source": [
        "from google.colab import drive\n",
        "drive.mount('/content/gdrive')"
      ],
      "execution_count": null,
      "outputs": []
    },
    {
      "cell_type": "code",
      "metadata": {
        "id": "h-A9VMex_8kM"
      },
      "source": [
        "import numpy as np # linear algebra\n",
        "import pandas as pd # data processing, CSV file I/O (e.g. pd.read_csv)\n",
        "import os\n",
        "import pandas as pd\n",
        "import numpy as np\n",
        "from matplotlib import pyplot as plt\n",
        "import seaborn as sns\n",
        "from sklearn.feature_extraction.text import CountVectorizer\n",
        "from sklearn.model_selection import train_test_split\n",
        "from sklearn.metrics import accuracy_score, confusion_matrix, classification_report"
      ],
      "execution_count": null,
      "outputs": []
    },
    {
      "cell_type": "code",
      "metadata": {
        "id": "w3NER67QZ_tG"
      },
      "source": [
        "# Look at classification type counts\n",
        "counts = df4.label.value_counts()\n",
        "print(len(counts))\n",
        "print(counts)"
      ],
      "execution_count": null,
      "outputs": []
    },
    {
      "cell_type": "code",
      "metadata": {
        "id": "Je-AGke5JHAk"
      },
      "source": [
        "# append all coumlns value into a dataframe\n",
        "cat_5 = df4[df4['label'].isin(['international','politics','entertainment','economics-business'])]\n",
        "cat_5.shape"
      ],
      "execution_count": null,
      "outputs": []
    },
    {
      "cell_type": "code",
      "metadata": {
        "id": "T9-das6TpArM"
      },
      "source": [
        "# individual national data sellect only 90k\n",
        "national = df4.loc[(df4['label'] == 'national')]\n",
        "natinal1 = national.iloc[:90000]\n",
        "natinal1.shape"
      ],
      "execution_count": null,
      "outputs": []
    },
    {
      "cell_type": "code",
      "metadata": {
        "id": "M7O9jHNqIZox"
      },
      "source": [
        "# individual all_bangladesh data sellect only 90k\n",
        "all_bangladesh = df4.loc[(df4['label'] == 'all_bangladesh')]\n",
        "all_bangladesh1 = all_bangladesh.iloc[:90000]\n",
        "all_bangladesh1.shape"
      ],
      "execution_count": null,
      "outputs": []
    },
    {
      "cell_type": "code",
      "metadata": {
        "id": "_Vii2i7tIxiR"
      },
      "source": [
        "# individual sports data sellect only 90k\n",
        "sports = df4.loc[(df4['label'] == 'sports')]\n",
        "sports1 = sports.iloc[:90000]\n",
        "sports1.shape"
      ],
      "execution_count": null,
      "outputs": []
    },
    {
      "cell_type": "code",
      "metadata": {
        "id": "NEAfvPvvIxmF"
      },
      "source": [
        "#append natinal1,all_bangladesh1,sports1 with other categorys\n",
        "\n",
        "final_data =cat_5.append([natinal1,all_bangladesh1,sports1])\n",
        "final_data.shape"
      ],
      "execution_count": null,
      "outputs": []
    },
    {
      "cell_type": "code",
      "metadata": {
        "id": "oeeXNrtPIxqR"
      },
      "source": [
        "# Look at classification type counts\n",
        "counts = final_data.label.value_counts()\n",
        "print(len(counts))\n",
        "print(counts)"
      ],
      "execution_count": null,
      "outputs": []
    },
    {
      "cell_type": "code",
      "metadata": {
        "id": "oLyrGUb9pA9o"
      },
      "source": [
        "max_length=final_data[\"body\"].str.len().max()\n",
        "print(max_length)\n",
        "min_length=final_data[\"body\"].str.len().min()\n",
        "print(min_length)"
      ],
      "execution_count": null,
      "outputs": []
    },
    {
      "cell_type": "code",
      "metadata": {
        "id": "D6gKUQpvtQT8"
      },
      "source": [
        "df56 = final_data\n",
        "df56.shape"
      ],
      "execution_count": null,
      "outputs": []
    },
    {
      "cell_type": "code",
      "metadata": {
        "id": "pkmpXErvpBA3"
      },
      "source": [
        "# minimamum length 600 of the body text and maximum 5000\n",
        "df56.drop(df56[df56['body'].str.len() < 600].index, inplace = True)\n",
        "df56.shape"
      ],
      "execution_count": null,
      "outputs": []
    },
    {
      "cell_type": "code",
      "metadata": {
        "id": "G4ZhnKbdtNGB"
      },
      "source": [
        "# Look at classification type counts\n",
        "counts = df56.label.value_counts()\n",
        "print(len(counts))\n",
        "print(counts)"
      ],
      "execution_count": null,
      "outputs": []
    },
    {
      "cell_type": "code",
      "metadata": {
        "id": "UHgNYQ50tNJF"
      },
      "source": [
        "max_length=df56[\"body\"].str.len().max()\n",
        "print(max_length)\n",
        "min_length=df56[\"body\"].str.len().min()\n",
        "print(min_length)"
      ],
      "execution_count": null,
      "outputs": []
    },
    {
      "cell_type": "code",
      "metadata": {
        "id": "YRMdEilYujXi"
      },
      "source": [
        "df3 = df56\n",
        "df3"
      ],
      "execution_count": null,
      "outputs": []
    },
    {
      "cell_type": "code",
      "metadata": {
        "id": "A8GzFMe4BSyn"
      },
      "source": [
        "# //remove any kind of letters like english. \n",
        "# //this code only keep the bengali language another language will be removed\n",
        "import re\n",
        "for index,d in df3.iterrows():\n",
        "    a = d['body']\n",
        "    if a:    \n",
        "        a = \"\".join(i for i in a if i in [\"।\"] or 2432 <= ord(i) <= 2559 or ord(i)== 32)\n",
        "        a =\" \".join(a.split())\n",
        "        df3.loc[index,'body'] = a\n",
        "print(\"done\")"
      ],
      "execution_count": null,
      "outputs": []
    },
    {
      "cell_type": "code",
      "metadata": {
        "id": "Ul_hxWf4NQOI"
      },
      "source": [
        "# double or multiple  white space convert into single white space\n",
        "def remove_extra_space(mystring):\n",
        "    '''\n",
        "   double or multiple  white space convert into single white space\n",
        "    '''\n",
        "    while '  ' in mystring:\n",
        "        mystring = mystring.replace('  ', ' ')\n",
        "    mystring = mystring.strip()\n",
        "    return mystring"
      ],
      "execution_count": null,
      "outputs": []
    },
    {
      "cell_type": "code",
      "metadata": {
        "id": "RxxAOfDbBcHf"
      },
      "source": [
        "# //here removing the bangla digit  from the text\n",
        "df3['body'] = df3['body'].str.replace('১','')\n",
        "df3['body'] = df3['body'].str.replace('২','')\n",
        "df3['body'] = df3['body'].str.replace('৩','')\n",
        "df3['body'] = df3['body'].str.replace('৪','')\n",
        "df3['body'] = df3['body'].str.replace('৫','')\n",
        "df3['body'] = df3['body'].str.replace('৬','')\n",
        "df3['body'] = df3['body'].str.replace('৭','')\n",
        "df3['body'] = df3['body'].str.replace('৮','')\n",
        "df3['body'] = df3['body'].str.replace('৯','')\n",
        "df3['body'] = df3['body'].str.replace('০','')\n",
        "df3['body'] = df3['body'].str.replace('  ',' ')"
      ],
      "execution_count": null,
      "outputs": []
    },
    {
      "cell_type": "code",
      "metadata": {
        "id": "Uzuo5wiGOwrn"
      },
      "source": [
        "# applying the method remove_Extra_space # double or multiple  white space convert into single white space\n",
        "df3['body'] = df3.apply(lambda row : remove_extra_space(row['body']), axis = 1)"
      ],
      "execution_count": null,
      "outputs": []
    },
    {
      "cell_type": "code",
      "metadata": {
        "id": "esTrYnkdBkSd"
      },
      "source": [
        "# sample(frac=1)--> it makes the data shuffling randomly\n",
        "df4 = df3.sample(frac=1).reset_index(drop=True)\n",
        "df4"
      ],
      "execution_count": null,
      "outputs": []
    },
    {
      "cell_type": "code",
      "metadata": {
        "id": "MzvEcRS1WTuP"
      },
      "source": [
        "max_length=df4[\"body\"].str.len().max()\n",
        "print(max_length)\n",
        "min_length=df4[\"body\"].str.len().min()\n",
        "print(min_length)"
      ],
      "execution_count": null,
      "outputs": []
    },
    {
      "cell_type": "code",
      "metadata": {
        "id": "wgVxrcxiWpN-"
      },
      "source": [
        "df4.drop(df4[df4['body'].str.len() > 5000].index, inplace = True)\n",
        "df4.drop(df4[df4['body'].str.len() < 500].index, inplace = True)"
      ],
      "execution_count": null,
      "outputs": []
    },
    {
      "cell_type": "code",
      "metadata": {
        "id": "VWRmaQVUWx49"
      },
      "source": [
        "max_length=df4[\"body\"].str.len().max()\n",
        "print(max_length)\n",
        "min_length=df4[\"body\"].str.len().min()\n",
        "print(min_length)"
      ],
      "execution_count": null,
      "outputs": []
    },
    {
      "cell_type": "code",
      "metadata": {
        "id": "ODWU1yerWbNV"
      },
      "source": [
        "df5 = df4.reset_index(drop=True)\n",
        "df5.shape"
      ],
      "execution_count": null,
      "outputs": []
    },
    {
      "cell_type": "code",
      "metadata": {
        "id": "Fb0lVJ6FzJRH"
      },
      "source": [
        "from google.colab import drive\n",
        "drive.mount('drive')"
      ],
      "execution_count": null,
      "outputs": []
    },
    {
      "cell_type": "code",
      "metadata": {
        "id": "W2l1N8cmyXu3"
      },
      "source": [
        "df5.to_csv(\"newsdata504266with7labels.csv\",encoding='utf-8')\n",
        "!cp newsdata504266with7labels.csv \"drive/My Drive/\""
      ],
      "execution_count": null,
      "outputs": []
    },
    {
      "cell_type": "code",
      "metadata": {
        "id": "xqDksWs71Jlt"
      },
      "source": [
        "data = pd.read_csv('/content/gdrive/My Drive/Dataset-thesis/news-data-504266-with-7-labels.csv')\n",
        "data"
      ],
      "execution_count": null,
      "outputs": []
    },
    {
      "cell_type": "code",
      "metadata": {
        "id": "88DLSXfr1mme"
      },
      "source": [
        "data1 = data.drop(columns=['Unnamed: 0'])"
      ],
      "execution_count": null,
      "outputs": []
    },
    {
      "cell_type": "code",
      "metadata": {
        "id": "uZ-fEYhT1cJf"
      },
      "source": [
        "df5 = data1\n",
        "df5"
      ],
      "execution_count": null,
      "outputs": []
    },
    {
      "cell_type": "code",
      "metadata": {
        "id": "SzNnbsvQfL5c"
      },
      "source": [
        "# Look at classification type counts\n",
        "counts = df5.label.value_counts()\n",
        "print(len(counts))\n",
        "print(counts)"
      ],
      "execution_count": null,
      "outputs": []
    },
    {
      "cell_type": "code",
      "metadata": {
        "id": "5oTnB_Nhe_2k"
      },
      "source": [
        "sports_1 = df5.loc[(df5['label'] == 'sports')]\n",
        "international_1 = df5.loc[(df5['label'] == 'international')]\n",
        "national_1 = df5.loc[(df5['label'] == 'national')]\n",
        "all_bangladesh_1 = df5.loc[(df5['label'] == 'all_bangladesh')]\n",
        "politics_1 = df5.loc[(df5['label'] == 'politics')]\n",
        "entertainment_1 = df5.loc[(df5['label'] == 'entertainment')]\n",
        "economics_1 = df5.loc[(df5['label'] == 'economics-business')]"
      ],
      "execution_count": null,
      "outputs": []
    },
    {
      "cell_type": "code",
      "metadata": {
        "id": "kWIzgJmQe_5y"
      },
      "source": [
        "print(sports_1.shape)\n",
        "print(international_1.shape)\n",
        "print(national_1.shape)\n",
        "print(all_bangladesh_1.shape)\n",
        "print(politics_1.shape)\n",
        "print(entertainment_1.shape)\n",
        "print(economics_1.shape)"
      ],
      "execution_count": null,
      "outputs": []
    },
    {
      "cell_type": "code",
      "metadata": {
        "id": "8XOlrn2JGwmm"
      },
      "source": [
        "!pip install bnlp_toolkit\n",
        "!pip install -U bnlp_toolkit\n",
        "from bnlp.corpus import stopwords\n",
        "from bnlp.corpus.util import remove_stopwords\n",
        "stopwords = stopwords()"
      ],
      "execution_count": null,
      "outputs": []
    },
    {
      "cell_type": "code",
      "metadata": {
        "id": "gk7t5KqZGwqL"
      },
      "source": [
        "def stop_words_remover(text):\n",
        "  result = remove_stopwords(text, stopwords)\n",
        "  return result"
      ],
      "execution_count": null,
      "outputs": []
    },
    {
      "cell_type": "code",
      "metadata": {
        "id": "3VZ4BH6thrgC"
      },
      "source": [
        "def remove_coma(text):\n",
        "  if type(text) != str:\n",
        "    text =' '.join([str(elem) for elem in text])\n",
        "  return text"
      ],
      "execution_count": null,
      "outputs": []
    },
    {
      "cell_type": "code",
      "metadata": {
        "id": "60lRod7-gWDe"
      },
      "source": [
        "sports_1['text'] = sports_1.apply(lambda row : stop_words_remover(row['body']), axis = 1)"
      ],
      "execution_count": null,
      "outputs": []
    },
    {
      "cell_type": "code",
      "metadata": {
        "id": "Mkm4HM91AV5L"
      },
      "source": [
        "international_1['text'] = international_1.apply(lambda row : stop_words_remover(row['body']), axis = 1)"
      ],
      "execution_count": null,
      "outputs": []
    },
    {
      "cell_type": "code",
      "metadata": {
        "id": "Rlhj8UgEAWHE"
      },
      "source": [
        "national_1['text'] = national_1.apply(lambda row : stop_words_remover(row['body']), axis = 1)"
      ],
      "execution_count": null,
      "outputs": []
    },
    {
      "cell_type": "code",
      "metadata": {
        "id": "7u_XRkXVAWQA"
      },
      "source": [
        "all_bangladesh_1['text'] = all_bangladesh_1.apply(lambda row : stop_words_remover(row['body']), axis = 1)"
      ],
      "execution_count": null,
      "outputs": []
    },
    {
      "cell_type": "code",
      "metadata": {
        "id": "uenkzheeAizl"
      },
      "source": [
        "politics_1['text'] = politics_1.apply(lambda row : stop_words_remover(row['body']), axis = 1)"
      ],
      "execution_count": null,
      "outputs": []
    },
    {
      "cell_type": "code",
      "metadata": {
        "id": "gk9PQNFbIAMu"
      },
      "source": [
        ""
      ],
      "execution_count": null,
      "outputs": []
    },
    {
      "cell_type": "code",
      "metadata": {
        "id": "tR1t7_NGA722"
      },
      "source": [
        "sports_1['text'] = sports_1.apply(lambda row : remove_coma(row['text']), axis = 1)\n",
        "sports_1"
      ],
      "execution_count": null,
      "outputs": []
    },
    {
      "cell_type": "code",
      "metadata": {
        "id": "nR7MpS4CA77R"
      },
      "source": [
        "international_1['text'] = international_1.apply(lambda row : remove_coma(row['text']), axis = 1)\n",
        "international_1"
      ],
      "execution_count": null,
      "outputs": []
    },
    {
      "cell_type": "code",
      "metadata": {
        "id": "aIQdyHy0A8BG"
      },
      "source": [
        "national_1['text'] = national_1.apply(lambda row : remove_coma(row['text']), axis = 1)\n",
        "national_1"
      ],
      "execution_count": null,
      "outputs": []
    },
    {
      "cell_type": "code",
      "metadata": {
        "id": "XXyMzwTvhgUr"
      },
      "source": [
        "all_bangladesh_1['text'] = all_bangladesh_1.apply(lambda row : remove_coma(row['text']), axis = 1)\n",
        "all_bangladesh_1"
      ],
      "execution_count": null,
      "outputs": []
    },
    {
      "cell_type": "code",
      "metadata": {
        "id": "onLmv91oAp5l"
      },
      "source": [
        "politics_1['text'] = politics_1.apply(lambda row : remove_coma(row['text']), axis = 1)\n",
        "politics_1"
      ],
      "execution_count": null,
      "outputs": []
    },
    {
      "cell_type": "code",
      "metadata": {
        "id": "9yuk9wSXI3LW"
      },
      "source": [
        "entertainment_1['text'] = entertainment_1.apply(lambda row : stop_words_remover(row['body']), axis = 1)"
      ],
      "execution_count": null,
      "outputs": []
    },
    {
      "cell_type": "code",
      "metadata": {
        "id": "AEGRyQccKhSF"
      },
      "source": [
        "entertainment_1['text'] = entertainment_1.apply(lambda row : remove_coma(row['text']), axis = 1)\n",
        "entertainment_1"
      ],
      "execution_count": null,
      "outputs": []
    },
    {
      "cell_type": "code",
      "metadata": {
        "id": "CIohGtjrI3Os"
      },
      "source": [
        "economics_1['text'] = economics_1.apply(lambda row : stop_words_remover(row['body']), axis = 1)"
      ],
      "execution_count": null,
      "outputs": []
    },
    {
      "cell_type": "code",
      "metadata": {
        "id": "Mfp1DZv-I3R9"
      },
      "source": [
        "economics_1['text'] = economics_1.apply(lambda row : remove_coma(row['text']), axis = 1)\n",
        "economics_1"
      ],
      "execution_count": null,
      "outputs": []
    },
    {
      "cell_type": "code",
      "metadata": {
        "id": "F7pQ7DqiI3VD"
      },
      "source": [
        "merged_df = pd.concat([sports_1, international_1,national_1,all_bangladesh_1, politics_1,entertainment_1,economics_1])\n",
        "merged_df.shape"
      ],
      "execution_count": null,
      "outputs": []
    },
    {
      "cell_type": "code",
      "metadata": {
        "id": "z4TPjxSULnmO"
      },
      "source": [
        "merged_df1 = merged_df.sample(frac=1).reset_index(drop=True)\n",
        "merged_df1.head()"
      ],
      "execution_count": null,
      "outputs": []
    },
    {
      "cell_type": "code",
      "metadata": {
        "id": "sLDteaVxMLE-"
      },
      "source": [
        "def lower_string(mystring):\n",
        "    '''\n",
        "    mystring is the total text of a columns where multiple white space are beeing removed and lower the all charecters\n",
        "    '''\n",
        "    while '  ' in mystring:\n",
        "        mystring = mystring.replace('  ', ' ')\n",
        "    mystring = mystring.strip()\n",
        "    return mystring\n"
      ],
      "execution_count": null,
      "outputs": []
    },
    {
      "cell_type": "code",
      "metadata": {
        "id": "7j4uieOnMLIb"
      },
      "source": [
        "merged_df1['body'] = merged_df1.apply(lambda row : lower_string(row['body']), axis = 1)"
      ],
      "execution_count": null,
      "outputs": []
    },
    {
      "cell_type": "code",
      "metadata": {
        "id": "_Gg2oonGMLMV"
      },
      "source": [
        "merged_df1['text'] = merged_df1.apply(lambda row : lower_string(row['text']), axis = 1)"
      ],
      "execution_count": null,
      "outputs": []
    },
    {
      "cell_type": "code",
      "metadata": {
        "id": "e0-wOjk7I3YD"
      },
      "source": [
        "merged_df1"
      ],
      "execution_count": null,
      "outputs": []
    },
    {
      "cell_type": "code",
      "metadata": {
        "id": "XjbW2j8cN_ZO"
      },
      "source": [
        "from google.colab import drive\n",
        "drive.mount('/content/gdrive')"
      ],
      "execution_count": null,
      "outputs": []
    },
    {
      "cell_type": "code",
      "metadata": {
        "id": "Vd68TU7gI3bm"
      },
      "source": [
        "merged_df1.to_csv(\"newsdata504266with7labels.csv\",encoding='utf-8')\n"
      ],
      "execution_count": null,
      "outputs": []
    }
  ]
}