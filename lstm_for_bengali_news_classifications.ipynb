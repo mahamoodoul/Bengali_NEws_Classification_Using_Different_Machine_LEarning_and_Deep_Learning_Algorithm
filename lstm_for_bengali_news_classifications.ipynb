{
  "nbformat": 4,
  "nbformat_minor": 0,
  "metadata": {
    "colab": {
      "name": "lstm for bengali news classifications.ipynb",
      "provenance": [],
      "collapsed_sections": []
    },
    "kernelspec": {
      "name": "python3",
      "display_name": "Python 3"
    },
    "language_info": {
      "name": "python"
    }
  },
  "cells": [
    {
      "cell_type": "code",
      "metadata": {
        "colab": {
          "base_uri": "https://localhost:8080/"
        },
        "id": "SCHPexDPQ10B",
        "outputId": "df0c0099-deb4-4270-e2a2-c7ac2b0b2eb9"
      },
      "source": [
        "from google.colab import drive\n",
        "drive.mount('/content/gdrive')"
      ],
      "execution_count": null,
      "outputs": [
        {
          "output_type": "stream",
          "text": [
            "Drive already mounted at /content/gdrive; to attempt to forcibly remount, call drive.mount(\"/content/gdrive\", force_remount=True).\n"
          ],
          "name": "stdout"
        }
      ]
    },
    {
      "cell_type": "code",
      "metadata": {
        "id": "_Ml_OOFES1AY"
      },
      "source": [
        "import numpy as np # linear algebra\n",
        "import pandas as pd # data processing, CSV file I/O (e.g. pd.read_csv)\n",
        "import os\n",
        "import pandas as pd\n",
        "import numpy as np\n",
        "from matplotlib import pyplot as plt\n",
        "import seaborn as sns\n",
        "from sklearn.feature_extraction.text import CountVectorizer\n",
        "from sklearn.model_selection import train_test_split\n",
        "from sklearn.metrics import accuracy_score, confusion_matrix, classification_report"
      ],
      "execution_count": null,
      "outputs": []
    },
    {
      "cell_type": "code",
      "metadata": {
        "colab": {
          "base_uri": "https://localhost:8080/",
          "height": 586
        },
        "id": "Q2Lpoe63SrG2",
        "outputId": "e71bf8f3-32a8-40aa-a348-fc0cf2c75d28"
      },
      "source": [
        "df = pd.read_csv('/content/gdrive/My Drive/Dataset-thesis/newsdata504266with7labels.csv')\n",
        "df"
      ],
      "execution_count": null,
      "outputs": [
        {
          "output_type": "execute_result",
          "data": {
            "text/html": [
              "<div>\n",
              "<style scoped>\n",
              "    .dataframe tbody tr th:only-of-type {\n",
              "        vertical-align: middle;\n",
              "    }\n",
              "\n",
              "    .dataframe tbody tr th {\n",
              "        vertical-align: top;\n",
              "    }\n",
              "\n",
              "    .dataframe thead th {\n",
              "        text-align: right;\n",
              "    }\n",
              "</style>\n",
              "<table border=\"1\" class=\"dataframe\">\n",
              "  <thead>\n",
              "    <tr style=\"text-align: right;\">\n",
              "      <th></th>\n",
              "      <th>Unnamed: 0</th>\n",
              "      <th>body</th>\n",
              "      <th>label</th>\n",
              "      <th>source</th>\n",
              "      <th>title</th>\n",
              "      <th>text</th>\n",
              "    </tr>\n",
              "  </thead>\n",
              "  <tbody>\n",
              "    <tr>\n",
              "      <th>0</th>\n",
              "      <td>0</td>\n",
              "      <td>ঢাকাচট্টগ্রাম মহাসড়কের সীতাকুন্ড উপজেলার ভাটিয়...</td>\n",
              "      <td>national</td>\n",
              "      <td>https://www.banglanews24.com/national/news/bd/...</td>\n",
              "      <td>চট্টগ্রামে দুর্ঘটনায় গার্মেন্টস কর্মী নিহত, আহ...</td>\n",
              "      <td>ঢাকাচট্টগ্রাম মহাসড়কের সীতাকুন্ড উপজেলার ভাটিয়...</td>\n",
              "    </tr>\n",
              "    <tr>\n",
              "      <th>1</th>\n",
              "      <td>1</td>\n",
              "      <td>নীলফামারী সদর উপজেলার টুপামারী ইউনিয়নের কামারপ...</td>\n",
              "      <td>national</td>\n",
              "      <td>https://www.banglanews24.com/national/news/bd/...</td>\n",
              "      <td>নীলফামারীতে স্ত্রীকে পিটিয়ে হত্যার ঘটনায় মামলা</td>\n",
              "      <td>নীলফামারী সদর উপজেলার টুপামারী ইউনিয়নের কামারপ...</td>\n",
              "    </tr>\n",
              "    <tr>\n",
              "      <th>2</th>\n",
              "      <td>2</td>\n",
              "      <td>সিরিজের একমাত্র টেস্টে আগামীকাল মুখোমুখি হবে ব...</td>\n",
              "      <td>sports</td>\n",
              "      <td>https://www.jagonews24.com/special-reports/new...</td>\n",
              "      <td>উইকেট দেখে হতাশ টাইগার শিবির</td>\n",
              "      <td>সিরিজের একমাত্র টেস্টে আগামীকাল মুখোমুখি বাংলা...</td>\n",
              "    </tr>\n",
              "    <tr>\n",
              "      <th>3</th>\n",
              "      <td>3</td>\n",
              "      <td>অনলাইন ডেস্ক পাকিস্তানের বেলুচিস্তান প্রদেশের ...</td>\n",
              "      <td>international</td>\n",
              "      <td>https://www.dailyjanakantha.com/details/articl...</td>\n",
              "      <td>\\nপাকিস্তানের কোয়েটায় পুলিশ ট্রেনিং কলেজে সন্ত...</td>\n",
              "      <td>অনলাইন ডেস্ক পাকিস্তানের বেলুচিস্তান প্রদেশের ...</td>\n",
              "    </tr>\n",
              "    <tr>\n",
              "      <th>4</th>\n",
              "      <td>4</td>\n",
              "      <td>ফিলিস্তিনের পশ্চিমতীরে ইসরায়েলী পুলিশের সঙ্গে ...</td>\n",
              "      <td>international</td>\n",
              "      <td>https://www.jagonews24.com/special-reports/new...</td>\n",
              "      <td>পশ্চিমতীরে সংঘর্ষে নিহত ১, আহত দুই শতাধিক</td>\n",
              "      <td>ফিলিস্তিনের পশ্চিমতীরে ইসরায়েলী পুলিশের সংঘর্ষ...</td>\n",
              "    </tr>\n",
              "    <tr>\n",
              "      <th>...</th>\n",
              "      <td>...</td>\n",
              "      <td>...</td>\n",
              "      <td>...</td>\n",
              "      <td>...</td>\n",
              "      <td>...</td>\n",
              "      <td>...</td>\n",
              "    </tr>\n",
              "    <tr>\n",
              "      <th>504261</th>\n",
              "      <td>504261</td>\n",
              "      <td>মাধুর ভান্ডাকারের সমালোচিত ছবি হিরোইনএর জুনিয়র...</td>\n",
              "      <td>entertainment</td>\n",
              "      <td>https://www.banglanews24.com/national/news/bd/...</td>\n",
              "      <td>নৃশংস হত্যার শিকার ‘হিরোইন’ ছবির অভিনেত্রী মিন...</td>\n",
              "      <td>মাধুর ভান্ডাকারের সমালোচিত ছবি হিরোইনএর জুনিয়র...</td>\n",
              "    </tr>\n",
              "    <tr>\n",
              "      <th>504262</th>\n",
              "      <td>504262</td>\n",
              "      <td>ছয় মাসের প্রস্তুতিতে এসএ গেমস খেলতে নেপালে এসে...</td>\n",
              "      <td>sports</td>\n",
              "      <td>https://www.dailyinqilab.com/article/252218/</td>\n",
              "      <td>খো খো’র ছেলেদের রৌপ্য</td>\n",
              "      <td>ছয় মাসের প্রস্তুতিতে এসএ গেমস খেলতে নেপালে এসে...</td>\n",
              "    </tr>\n",
              "    <tr>\n",
              "      <th>504263</th>\n",
              "      <td>504263</td>\n",
              "      <td>গেল বছরের শেষে দহন সিনেমা দিয়ে দর্শক মাতিয়েছেন...</td>\n",
              "      <td>entertainment</td>\n",
              "      <td>https://www.jagonews24.com/special-reports/new...</td>\n",
              "      <td>কলকাতার দুই নায়কের সঙ্গে ট্রেলারেই পূজার চমক</td>\n",
              "      <td>বছরের শেষে দহন সিনেমা দিয়ে দর্শক মাতিয়েছেন পূজ...</td>\n",
              "    </tr>\n",
              "    <tr>\n",
              "      <th>504264</th>\n",
              "      <td>504264</td>\n",
              "      <td>করোনায় আক্রান্ত শেষ রোগী সুস্থ হয়ে হাসপাতাল ছা...</td>\n",
              "      <td>international</td>\n",
              "      <td>https://www.jagonews24.com/special-reports/new...</td>\n",
              "      <td>করোনামুক্ত হলো ফিজি, মারা যাননি একজনও</td>\n",
              "      <td>করোনায় আক্রান্ত শেষ রোগী সুস্থ হয়ে হাসপাতাল ছা...</td>\n",
              "    </tr>\n",
              "    <tr>\n",
              "      <th>504265</th>\n",
              "      <td>504265</td>\n",
              "      <td>ব্রাহ্মণবাড়িয়া পৌর শহরের কলেজ পাড়ায় একাধিক ককট...</td>\n",
              "      <td>national</td>\n",
              "      <td>https://www.banglanews24.com/national/news/bd/...</td>\n",
              "      <td>ব্রাহ্মণবাড়িয়া শহরে ককটেল বিস্ফোরণ, এলাকায় আতঙ্ক</td>\n",
              "      <td>ব্রাহ্মণবাড়িয়া পৌর শহরের কলেজ পাড়ায় একাধিক ককট...</td>\n",
              "    </tr>\n",
              "  </tbody>\n",
              "</table>\n",
              "<p>504266 rows × 6 columns</p>\n",
              "</div>"
            ],
            "text/plain": [
              "        Unnamed: 0  ...                                               text\n",
              "0                0  ...  ঢাকাচট্টগ্রাম মহাসড়কের সীতাকুন্ড উপজেলার ভাটিয়...\n",
              "1                1  ...  নীলফামারী সদর উপজেলার টুপামারী ইউনিয়নের কামারপ...\n",
              "2                2  ...  সিরিজের একমাত্র টেস্টে আগামীকাল মুখোমুখি বাংলা...\n",
              "3                3  ...  অনলাইন ডেস্ক পাকিস্তানের বেলুচিস্তান প্রদেশের ...\n",
              "4                4  ...  ফিলিস্তিনের পশ্চিমতীরে ইসরায়েলী পুলিশের সংঘর্ষ...\n",
              "...            ...  ...                                                ...\n",
              "504261      504261  ...  মাধুর ভান্ডাকারের সমালোচিত ছবি হিরোইনএর জুনিয়র...\n",
              "504262      504262  ...  ছয় মাসের প্রস্তুতিতে এসএ গেমস খেলতে নেপালে এসে...\n",
              "504263      504263  ...  বছরের শেষে দহন সিনেমা দিয়ে দর্শক মাতিয়েছেন পূজ...\n",
              "504264      504264  ...  করোনায় আক্রান্ত শেষ রোগী সুস্থ হয়ে হাসপাতাল ছা...\n",
              "504265      504265  ...  ব্রাহ্মণবাড়িয়া পৌর শহরের কলেজ পাড়ায় একাধিক ককট...\n",
              "\n",
              "[504266 rows x 6 columns]"
            ]
          },
          "metadata": {
            "tags": []
          },
          "execution_count": 5
        }
      ]
    },
    {
      "cell_type": "code",
      "metadata": {
        "colab": {
          "base_uri": "https://localhost:8080/",
          "height": 279
        },
        "id": "wN6Y7JIeSyVG",
        "outputId": "ec0c7192-c8eb-45eb-cc69-774a6f4e9e0c"
      },
      "source": [
        "df1 = df.drop(columns=['Unnamed: 0'])\n",
        "df1.head()"
      ],
      "execution_count": null,
      "outputs": [
        {
          "output_type": "execute_result",
          "data": {
            "text/html": [
              "<div>\n",
              "<style scoped>\n",
              "    .dataframe tbody tr th:only-of-type {\n",
              "        vertical-align: middle;\n",
              "    }\n",
              "\n",
              "    .dataframe tbody tr th {\n",
              "        vertical-align: top;\n",
              "    }\n",
              "\n",
              "    .dataframe thead th {\n",
              "        text-align: right;\n",
              "    }\n",
              "</style>\n",
              "<table border=\"1\" class=\"dataframe\">\n",
              "  <thead>\n",
              "    <tr style=\"text-align: right;\">\n",
              "      <th></th>\n",
              "      <th>body</th>\n",
              "      <th>label</th>\n",
              "      <th>source</th>\n",
              "      <th>title</th>\n",
              "      <th>text</th>\n",
              "    </tr>\n",
              "  </thead>\n",
              "  <tbody>\n",
              "    <tr>\n",
              "      <th>0</th>\n",
              "      <td>ঢাকাচট্টগ্রাম মহাসড়কের সীতাকুন্ড উপজেলার ভাটিয়...</td>\n",
              "      <td>national</td>\n",
              "      <td>https://www.banglanews24.com/national/news/bd/...</td>\n",
              "      <td>চট্টগ্রামে দুর্ঘটনায় গার্মেন্টস কর্মী নিহত, আহ...</td>\n",
              "      <td>ঢাকাচট্টগ্রাম মহাসড়কের সীতাকুন্ড উপজেলার ভাটিয়...</td>\n",
              "    </tr>\n",
              "    <tr>\n",
              "      <th>1</th>\n",
              "      <td>নীলফামারী সদর উপজেলার টুপামারী ইউনিয়নের কামারপ...</td>\n",
              "      <td>national</td>\n",
              "      <td>https://www.banglanews24.com/national/news/bd/...</td>\n",
              "      <td>নীলফামারীতে স্ত্রীকে পিটিয়ে হত্যার ঘটনায় মামলা</td>\n",
              "      <td>নীলফামারী সদর উপজেলার টুপামারী ইউনিয়নের কামারপ...</td>\n",
              "    </tr>\n",
              "    <tr>\n",
              "      <th>2</th>\n",
              "      <td>সিরিজের একমাত্র টেস্টে আগামীকাল মুখোমুখি হবে ব...</td>\n",
              "      <td>sports</td>\n",
              "      <td>https://www.jagonews24.com/special-reports/new...</td>\n",
              "      <td>উইকেট দেখে হতাশ টাইগার শিবির</td>\n",
              "      <td>সিরিজের একমাত্র টেস্টে আগামীকাল মুখোমুখি বাংলা...</td>\n",
              "    </tr>\n",
              "    <tr>\n",
              "      <th>3</th>\n",
              "      <td>অনলাইন ডেস্ক পাকিস্তানের বেলুচিস্তান প্রদেশের ...</td>\n",
              "      <td>international</td>\n",
              "      <td>https://www.dailyjanakantha.com/details/articl...</td>\n",
              "      <td>\\nপাকিস্তানের কোয়েটায় পুলিশ ট্রেনিং কলেজে সন্ত...</td>\n",
              "      <td>অনলাইন ডেস্ক পাকিস্তানের বেলুচিস্তান প্রদেশের ...</td>\n",
              "    </tr>\n",
              "    <tr>\n",
              "      <th>4</th>\n",
              "      <td>ফিলিস্তিনের পশ্চিমতীরে ইসরায়েলী পুলিশের সঙ্গে ...</td>\n",
              "      <td>international</td>\n",
              "      <td>https://www.jagonews24.com/special-reports/new...</td>\n",
              "      <td>পশ্চিমতীরে সংঘর্ষে নিহত ১, আহত দুই শতাধিক</td>\n",
              "      <td>ফিলিস্তিনের পশ্চিমতীরে ইসরায়েলী পুলিশের সংঘর্ষ...</td>\n",
              "    </tr>\n",
              "  </tbody>\n",
              "</table>\n",
              "</div>"
            ],
            "text/plain": [
              "                                                body  ...                                               text\n",
              "0  ঢাকাচট্টগ্রাম মহাসড়কের সীতাকুন্ড উপজেলার ভাটিয়...  ...  ঢাকাচট্টগ্রাম মহাসড়কের সীতাকুন্ড উপজেলার ভাটিয়...\n",
              "1  নীলফামারী সদর উপজেলার টুপামারী ইউনিয়নের কামারপ...  ...  নীলফামারী সদর উপজেলার টুপামারী ইউনিয়নের কামারপ...\n",
              "2  সিরিজের একমাত্র টেস্টে আগামীকাল মুখোমুখি হবে ব...  ...  সিরিজের একমাত্র টেস্টে আগামীকাল মুখোমুখি বাংলা...\n",
              "3  অনলাইন ডেস্ক পাকিস্তানের বেলুচিস্তান প্রদেশের ...  ...  অনলাইন ডেস্ক পাকিস্তানের বেলুচিস্তান প্রদেশের ...\n",
              "4  ফিলিস্তিনের পশ্চিমতীরে ইসরায়েলী পুলিশের সঙ্গে ...  ...  ফিলিস্তিনের পশ্চিমতীরে ইসরায়েলী পুলিশের সংঘর্ষ...\n",
              "\n",
              "[5 rows x 5 columns]"
            ]
          },
          "metadata": {
            "tags": []
          },
          "execution_count": 30
        }
      ]
    },
    {
      "cell_type": "code",
      "metadata": {
        "colab": {
          "base_uri": "https://localhost:8080/"
        },
        "id": "TTBL7cWOTPdM",
        "outputId": "820e8231-689a-45b8-b9bc-f510cdf7799b"
      },
      "source": [
        "df1.isna().sum()\n",
        "df2 = df1.dropna()\n",
        "df1.isna().sum()"
      ],
      "execution_count": null,
      "outputs": [
        {
          "output_type": "execute_result",
          "data": {
            "text/plain": [
              "body      0\n",
              "label     0\n",
              "source    0\n",
              "title     0\n",
              "text      0\n",
              "dtype: int64"
            ]
          },
          "metadata": {
            "tags": []
          },
          "execution_count": 31
        }
      ]
    },
    {
      "cell_type": "code",
      "metadata": {
        "colab": {
          "base_uri": "https://localhost:8080/"
        },
        "id": "3CTWRoTZTTpt",
        "outputId": "9d91ff2d-3230-4dbd-ad79-c695f23d1dc9"
      },
      "source": [
        "df1.shape"
      ],
      "execution_count": null,
      "outputs": [
        {
          "output_type": "execute_result",
          "data": {
            "text/plain": [
              "(504266, 5)"
            ]
          },
          "metadata": {
            "tags": []
          },
          "execution_count": 32
        }
      ]
    },
    {
      "cell_type": "code",
      "metadata": {
        "colab": {
          "base_uri": "https://localhost:8080/"
        },
        "id": "LsPNmbGhTZ8t",
        "outputId": "cc6eef5c-5fba-44fe-f6ce-020c689272ee"
      },
      "source": [
        "max_length=df1[\"text\"].str.len().max()\n",
        "print(max_length)\n",
        "min_length=df1[\"text\"].str.len().min()\n",
        "min_length"
      ],
      "execution_count": null,
      "outputs": [
        {
          "output_type": "stream",
          "text": [
            "4743\n"
          ],
          "name": "stdout"
        },
        {
          "output_type": "execute_result",
          "data": {
            "text/plain": [
              "326"
            ]
          },
          "metadata": {
            "tags": []
          },
          "execution_count": 33
        }
      ]
    },
    {
      "cell_type": "code",
      "metadata": {
        "id": "5Nva6roQTjZN"
      },
      "source": [
        "df1.drop(df1[df1['text'].str.len() > 5000].index, inplace = True)\n",
        "df1.drop(df1[df1['text'].str.len() < 490].index, inplace = True)"
      ],
      "execution_count": null,
      "outputs": []
    },
    {
      "cell_type": "code",
      "metadata": {
        "colab": {
          "base_uri": "https://localhost:8080/"
        },
        "id": "1RU0cu2sTyzf",
        "outputId": "f5869617-5828-4fb9-cbe3-c8de3727733f"
      },
      "source": [
        "max_length=df1[\"text\"].str.len().max()\n",
        "print(max_length)\n",
        "min_length=df1[\"text\"].str.len().min()\n",
        "min_length"
      ],
      "execution_count": null,
      "outputs": [
        {
          "output_type": "stream",
          "text": [
            "4743\n"
          ],
          "name": "stdout"
        },
        {
          "output_type": "execute_result",
          "data": {
            "text/plain": [
              "490"
            ]
          },
          "metadata": {
            "tags": []
          },
          "execution_count": 35
        }
      ]
    },
    {
      "cell_type": "code",
      "metadata": {
        "colab": {
          "base_uri": "https://localhost:8080/"
        },
        "id": "w4viyBLeT3QN",
        "outputId": "a891d777-b983-4cbf-891b-3c1cb962a3a4"
      },
      "source": [
        "df1.shape"
      ],
      "execution_count": null,
      "outputs": [
        {
          "output_type": "execute_result",
          "data": {
            "text/plain": [
              "(500620, 5)"
            ]
          },
          "metadata": {
            "tags": []
          },
          "execution_count": 57
        }
      ]
    },
    {
      "cell_type": "code",
      "metadata": {
        "id": "KsyjrAjLWHLn"
      },
      "source": [
        "df2 = df1.reset_index(drop=True)"
      ],
      "execution_count": null,
      "outputs": []
    },
    {
      "cell_type": "code",
      "metadata": {
        "colab": {
          "base_uri": "https://localhost:8080/"
        },
        "id": "F4nibOJzT5RN",
        "outputId": "25655f6a-f3c2-4248-9c92-6f1a8bb73b96"
      },
      "source": [
        "# Look at classification type counts\n",
        "counts = df2.label.value_counts()\n",
        "print(len(counts))\n",
        "print(counts)"
      ],
      "execution_count": null,
      "outputs": [
        {
          "output_type": "stream",
          "text": [
            "7\n",
            "sports                86243\n",
            "international         83946\n",
            "national              83939\n",
            "all_bangladesh        80840\n",
            "politics              65799\n",
            "entertainment         52969\n",
            "economics-business    46884\n",
            "Name: label, dtype: int64\n"
          ],
          "name": "stdout"
        }
      ]
    },
    {
      "cell_type": "code",
      "metadata": {
        "colab": {
          "base_uri": "https://localhost:8080/"
        },
        "id": "XEkViReZUXD9",
        "outputId": "0d59799f-998e-40b3-cf21-ad8b75f120ed"
      },
      "source": [
        "len(df2.body[20])"
      ],
      "execution_count": null,
      "outputs": [
        {
          "output_type": "execute_result",
          "data": {
            "text/plain": [
              "1894"
            ]
          },
          "metadata": {
            "tags": []
          },
          "execution_count": 45
        }
      ]
    },
    {
      "cell_type": "code",
      "metadata": {
        "colab": {
          "base_uri": "https://localhost:8080/"
        },
        "id": "z82LZJUJUq_9",
        "outputId": "6ed6b952-8c2a-446a-b8b6-4408def2b542"
      },
      "source": [
        "len(df2.text[20])"
      ],
      "execution_count": null,
      "outputs": [
        {
          "output_type": "execute_result",
          "data": {
            "text/plain": [
              "1577"
            ]
          },
          "metadata": {
            "tags": []
          },
          "execution_count": 59
        }
      ]
    },
    {
      "cell_type": "code",
      "metadata": {
        "colab": {
          "base_uri": "https://localhost:8080/"
        },
        "id": "h-5RjAAMUs_d",
        "outputId": "69859a6d-15f4-485c-ccac-958407ee576c"
      },
      "source": [
        "# Get classification types where counts are over 1000\n",
        "#types = np.asarray(counts[(counts > 1000)].index)\n",
        "types=['sports'\n",
        ",'international'\n",
        ",'national'\n",
        ",'all_bangladesh'\n",
        ",'politics'\n",
        ",'entertainment'\n",
        ",'economics-business'\n",
        "]\n",
        "# Filter dataset's records for classification types > 1000\n",
        "data = df2[df2.label.isin(types)]\n",
        "\n",
        "#data_m = data[(data['classification'] =='HYDROLASE' )  (data['classification'] =='LIGASE' ) or (data['classification'] =='TRANSFERASE' ) or (data['classification'] =='OXIDOREDUCTASE' ) or (data['classification'] =='ISOMERASE' ) or (data['classification'] =='LYASE' )]\n",
        "\n",
        "print(types)\n",
        "print(len(types))\n",
        "print('%d is the number of records in the final filtered dataset' %data.shape[0])"
      ],
      "execution_count": null,
      "outputs": [
        {
          "output_type": "stream",
          "text": [
            "['sports', 'international', 'national', 'all_bangladesh', 'politics', 'entertainment', 'economics-business']\n",
            "7\n",
            "500620 is the number of records in the final filtered dataset\n"
          ],
          "name": "stdout"
        }
      ]
    },
    {
      "cell_type": "code",
      "metadata": {
        "colab": {
          "base_uri": "https://localhost:8080/"
        },
        "id": "bPwqhzeHVfnO",
        "outputId": "550ecc3e-f2b0-405d-afb5-4fc3871aedcc"
      },
      "source": [
        "train=data\n",
        "a=train.label.unique()\n",
        "l=len(train.label.unique())\n",
        "print(a)\n",
        "print(len(a))"
      ],
      "execution_count": null,
      "outputs": [
        {
          "output_type": "stream",
          "text": [
            "['national' 'sports' 'international' 'all_bangladesh' 'politics'\n",
            " 'economics-business' 'entertainment']\n",
            "7\n"
          ],
          "name": "stdout"
        }
      ]
    },
    {
      "cell_type": "code",
      "metadata": {
        "id": "95z1Z5TQVkg1"
      },
      "source": [
        "for i in range (l):\n",
        "    train.label = train.label.replace(a[i], i)"
      ],
      "execution_count": null,
      "outputs": []
    },
    {
      "cell_type": "code",
      "metadata": {
        "colab": {
          "base_uri": "https://localhost:8080/",
          "height": 402
        },
        "id": "U6_SbcGUVoOd",
        "outputId": "d73dac37-5e33-48db-de1d-f488a39be0c2"
      },
      "source": [
        "train1 = train\n",
        "train2 = train1[['text','label']]\n",
        "train2"
      ],
      "execution_count": null,
      "outputs": [
        {
          "output_type": "execute_result",
          "data": {
            "text/html": [
              "<div>\n",
              "<style scoped>\n",
              "    .dataframe tbody tr th:only-of-type {\n",
              "        vertical-align: middle;\n",
              "    }\n",
              "\n",
              "    .dataframe tbody tr th {\n",
              "        vertical-align: top;\n",
              "    }\n",
              "\n",
              "    .dataframe thead th {\n",
              "        text-align: right;\n",
              "    }\n",
              "</style>\n",
              "<table border=\"1\" class=\"dataframe\">\n",
              "  <thead>\n",
              "    <tr style=\"text-align: right;\">\n",
              "      <th></th>\n",
              "      <th>text</th>\n",
              "      <th>label</th>\n",
              "    </tr>\n",
              "  </thead>\n",
              "  <tbody>\n",
              "    <tr>\n",
              "      <th>0</th>\n",
              "      <td>ঢাকাচট্টগ্রাম মহাসড়কের সীতাকুন্ড উপজেলার ভাটিয়...</td>\n",
              "      <td>0</td>\n",
              "    </tr>\n",
              "    <tr>\n",
              "      <th>1</th>\n",
              "      <td>নীলফামারী সদর উপজেলার টুপামারী ইউনিয়নের কামারপ...</td>\n",
              "      <td>0</td>\n",
              "    </tr>\n",
              "    <tr>\n",
              "      <th>2</th>\n",
              "      <td>সিরিজের একমাত্র টেস্টে আগামীকাল মুখোমুখি বাংলা...</td>\n",
              "      <td>1</td>\n",
              "    </tr>\n",
              "    <tr>\n",
              "      <th>3</th>\n",
              "      <td>অনলাইন ডেস্ক পাকিস্তানের বেলুচিস্তান প্রদেশের ...</td>\n",
              "      <td>2</td>\n",
              "    </tr>\n",
              "    <tr>\n",
              "      <th>4</th>\n",
              "      <td>ফিলিস্তিনের পশ্চিমতীরে ইসরায়েলী পুলিশের সংঘর্ষ...</td>\n",
              "      <td>2</td>\n",
              "    </tr>\n",
              "    <tr>\n",
              "      <th>...</th>\n",
              "      <td>...</td>\n",
              "      <td>...</td>\n",
              "    </tr>\n",
              "    <tr>\n",
              "      <th>500615</th>\n",
              "      <td>মাধুর ভান্ডাকারের সমালোচিত ছবি হিরোইনএর জুনিয়র...</td>\n",
              "      <td>6</td>\n",
              "    </tr>\n",
              "    <tr>\n",
              "      <th>500616</th>\n",
              "      <td>ছয় মাসের প্রস্তুতিতে এসএ গেমস খেলতে নেপালে এসে...</td>\n",
              "      <td>1</td>\n",
              "    </tr>\n",
              "    <tr>\n",
              "      <th>500617</th>\n",
              "      <td>বছরের শেষে দহন সিনেমা দিয়ে দর্শক মাতিয়েছেন পূজ...</td>\n",
              "      <td>6</td>\n",
              "    </tr>\n",
              "    <tr>\n",
              "      <th>500618</th>\n",
              "      <td>করোনায় আক্রান্ত শেষ রোগী সুস্থ হয়ে হাসপাতাল ছা...</td>\n",
              "      <td>2</td>\n",
              "    </tr>\n",
              "    <tr>\n",
              "      <th>500619</th>\n",
              "      <td>ব্রাহ্মণবাড়িয়া পৌর শহরের কলেজ পাড়ায় একাধিক ককট...</td>\n",
              "      <td>0</td>\n",
              "    </tr>\n",
              "  </tbody>\n",
              "</table>\n",
              "<p>500620 rows × 2 columns</p>\n",
              "</div>"
            ],
            "text/plain": [
              "                                                     text  label\n",
              "0       ঢাকাচট্টগ্রাম মহাসড়কের সীতাকুন্ড উপজেলার ভাটিয়...      0\n",
              "1       নীলফামারী সদর উপজেলার টুপামারী ইউনিয়নের কামারপ...      0\n",
              "2       সিরিজের একমাত্র টেস্টে আগামীকাল মুখোমুখি বাংলা...      1\n",
              "3       অনলাইন ডেস্ক পাকিস্তানের বেলুচিস্তান প্রদেশের ...      2\n",
              "4       ফিলিস্তিনের পশ্চিমতীরে ইসরায়েলী পুলিশের সংঘর্ষ...      2\n",
              "...                                                   ...    ...\n",
              "500615  মাধুর ভান্ডাকারের সমালোচিত ছবি হিরোইনএর জুনিয়র...      6\n",
              "500616  ছয় মাসের প্রস্তুতিতে এসএ গেমস খেলতে নেপালে এসে...      1\n",
              "500617  বছরের শেষে দহন সিনেমা দিয়ে দর্শক মাতিয়েছেন পূজ...      6\n",
              "500618  করোনায় আক্রান্ত শেষ রোগী সুস্থ হয়ে হাসপাতাল ছা...      2\n",
              "500619  ব্রাহ্মণবাড়িয়া পৌর শহরের কলেজ পাড়ায় একাধিক ককট...      0\n",
              "\n",
              "[500620 rows x 2 columns]"
            ]
          },
          "metadata": {
            "tags": []
          },
          "execution_count": 64
        }
      ]
    },
    {
      "cell_type": "code",
      "metadata": {
        "colab": {
          "base_uri": "https://localhost:8080/"
        },
        "id": "w6KVQTz-V3n5",
        "outputId": "57369ccb-0809-4ed1-97b1-140c3020fedd"
      },
      "source": [
        "# Look at classification type counts\n",
        "counts = df2.label.value_counts()\n",
        "print(len(counts))\n",
        "print(counts)"
      ],
      "execution_count": null,
      "outputs": [
        {
          "output_type": "stream",
          "text": [
            "7\n",
            "sports                86243\n",
            "international         83946\n",
            "national              83939\n",
            "all_bangladesh        80840\n",
            "politics              65799\n",
            "entertainment         52969\n",
            "economics-business    46884\n",
            "Name: label, dtype: int64\n"
          ],
          "name": "stdout"
        }
      ]
    },
    {
      "cell_type": "code",
      "metadata": {
        "colab": {
          "base_uri": "https://localhost:8080/"
        },
        "id": "vIoanqKcVuj8",
        "outputId": "c5eed719-da3b-4f53-cfa3-7b527ad54ef1"
      },
      "source": [
        "train2.label.value_counts()"
      ],
      "execution_count": null,
      "outputs": [
        {
          "output_type": "execute_result",
          "data": {
            "text/plain": [
              "1    86243\n",
              "2    83946\n",
              "0    83939\n",
              "3    80840\n",
              "4    65799\n",
              "6    52969\n",
              "5    46884\n",
              "Name: label, dtype: int64"
            ]
          },
          "metadata": {
            "tags": []
          },
          "execution_count": 66
        }
      ]
    },
    {
      "cell_type": "code",
      "metadata": {
        "colab": {
          "base_uri": "https://localhost:8080/"
        },
        "id": "YpEUljdDVzKU",
        "outputId": "b48a84cf-f43e-440b-c1d8-9b5316cb3aba"
      },
      "source": [
        "train3 = train2\n",
        "train3.label = train3.label.astype(int)"
      ],
      "execution_count": null,
      "outputs": [
        {
          "output_type": "stream",
          "text": [
            "/usr/local/lib/python3.7/dist-packages/pandas/core/generic.py:5170: SettingWithCopyWarning: \n",
            "A value is trying to be set on a copy of a slice from a DataFrame.\n",
            "Try using .loc[row_indexer,col_indexer] = value instead\n",
            "\n",
            "See the caveats in the documentation: https://pandas.pydata.org/pandas-docs/stable/user_guide/indexing.html#returning-a-view-versus-a-copy\n",
            "  self[name] = value\n"
          ],
          "name": "stderr"
        }
      ]
    },
    {
      "cell_type": "code",
      "metadata": {
        "id": "23IjzYi0WAJM"
      },
      "source": [
        "from sklearn.model_selection import train_test_split\n",
        "from sklearn.preprocessing import LabelBinarizer\n",
        "from keras.preprocessing.text import Tokenizer\n",
        "from keras.preprocessing.sequence import pad_sequences\n",
        "from sklearn.feature_extraction.text import TfidfVectorizer\n",
        "from keras.layers import SpatialDropout1D\n",
        "from keras.utils import to_categorical\n",
        "from sklearn.metrics import classification_report\n",
        "from sklearn.metrics import roc_auc_score\n",
        "from sklearn.metrics import roc_curve\n",
        "from sklearn.metrics import precision_recall_curve\n",
        "from sklearn.model_selection import GridSearchCV\n",
        "from keras.models import Sequential\n",
        "from keras.layers import Dense\n",
        "from keras.layers import LSTM\n",
        "from keras.layers import Dropout\n",
        "from keras.layers import Bidirectional\n",
        "from keras.layers import GlobalMaxPool1D\n",
        "from keras.utils import plot_model\n",
        "from keras.layers.embeddings import Embedding\n",
        "from keras.preprocessing import sequence\n",
        "from keras.callbacks import EarlyStopping\n",
        "from sklearn.feature_selection import RFE\n",
        "import re"
      ],
      "execution_count": null,
      "outputs": []
    },
    {
      "cell_type": "code",
      "metadata": {
        "colab": {
          "base_uri": "https://localhost:8080/"
        },
        "id": "3OY54T5mWozN",
        "outputId": "b5062c44-a40f-43df-f5f5-4b5528b6ff9a"
      },
      "source": [
        "# The maximum number of words to be used. (most frequent)\n",
        "MAX_NB_WORDS = 50000\n",
        "# Max number of words in each complaint.\n",
        "MAX_SEQUENCE_LENGTH = 250\n",
        "# This is fixed.\n",
        "EMBEDDING_DIM = 100\n",
        "tokenizer = Tokenizer(num_words=MAX_NB_WORDS, filters='!\"#$%&()*+,-./:;<=>?@[\\]^_`{|}~।', lower=False)\n",
        "tokenizer.fit_on_texts(train3.text.values)\n",
        "word_index = tokenizer.word_index\n",
        "print('Found %s unique tokens.' % len(word_index))"
      ],
      "execution_count": null,
      "outputs": [
        {
          "output_type": "stream",
          "text": [
            "Found 1111239 unique tokens.\n"
          ],
          "name": "stdout"
        }
      ]
    },
    {
      "cell_type": "code",
      "metadata": {
        "colab": {
          "base_uri": "https://localhost:8080/"
        },
        "id": "bRX72ClcWzlH",
        "outputId": "e89222c0-c795-4350-ae4d-15e5e269e2ab"
      },
      "source": [
        "X = tokenizer.texts_to_sequences(train3.text.values)\n",
        "X = pad_sequences(X, maxlen=MAX_SEQUENCE_LENGTH)\n",
        "print('Shape of data tensor:', X.shape)"
      ],
      "execution_count": null,
      "outputs": [
        {
          "output_type": "stream",
          "text": [
            "Shape of data tensor: (500620, 500)\n"
          ],
          "name": "stdout"
        }
      ]
    },
    {
      "cell_type": "code",
      "metadata": {
        "colab": {
          "base_uri": "https://localhost:8080/"
        },
        "id": "Dg3ePvd8W2ef",
        "outputId": "8cd0d712-30f0-4711-8f13-b3ae7f7aac50"
      },
      "source": [
        "Y = pd.get_dummies(train3.label).values\n",
        "print('Shape of label tensor:', Y.shape)"
      ],
      "execution_count": null,
      "outputs": [
        {
          "output_type": "stream",
          "text": [
            "Shape of label tensor: (500620, 7)\n"
          ],
          "name": "stdout"
        }
      ]
    },
    {
      "cell_type": "code",
      "metadata": {
        "id": "bRO6f97UW9yX"
      },
      "source": [
        "train_features, test_features, train_labels, test_labels = train_test_split(X, Y, test_size=.10)"
      ],
      "execution_count": null,
      "outputs": []
    },
    {
      "cell_type": "code",
      "metadata": {
        "colab": {
          "base_uri": "https://localhost:8080/",
          "height": 963
        },
        "id": "AxT-PsfeW_XB",
        "outputId": "bace5ac8-6d71-4ae7-8cc1-34604e0d970f"
      },
      "source": [
        "model = Sequential()\n",
        "model.add(Embedding(MAX_NB_WORDS, EMBEDDING_DIM, input_length=X.shape[1]))\n",
        "model.add(LSTM(64))\n",
        "model.add(Dense(256, activation='relu'))\n",
        "model.add(Dropout(0.5))\n",
        "model.add(Dense(l, activation='softmax'))\n",
        "model.compile(loss='categorical_crossentropy', optimizer='adam', metrics=['accuracy'])\n",
        "print(model.summary())\n",
        "plot_model(model,'qw.png',show_shapes=True)"
      ],
      "execution_count": null,
      "outputs": [
        {
          "output_type": "stream",
          "text": [
            "Model: \"sequential\"\n",
            "_________________________________________________________________\n",
            "Layer (type)                 Output Shape              Param #   \n",
            "=================================================================\n",
            "embedding (Embedding)        (None, 500, 100)          5000000   \n",
            "_________________________________________________________________\n",
            "lstm (LSTM)                  (None, 64)                42240     \n",
            "_________________________________________________________________\n",
            "dense (Dense)                (None, 256)               16640     \n",
            "_________________________________________________________________\n",
            "dropout (Dropout)            (None, 256)               0         \n",
            "_________________________________________________________________\n",
            "dense_1 (Dense)              (None, 7)                 1799      \n",
            "=================================================================\n",
            "Total params: 5,060,679\n",
            "Trainable params: 5,060,679\n",
            "Non-trainable params: 0\n",
            "_________________________________________________________________\n",
            "None\n"
          ],
          "name": "stdout"
        },
        {
          "output_type": "execute_result",
          "data": {
            "image/png": "[encoded data removed]",
            "text/plain": [
              "<IPython.core.display.Image object>"
            ]
          },
          "metadata": {
            "tags": []
          },
          "execution_count": 75
        }
      ]
    },
    {
      "cell_type": "code",
      "metadata": {
        "id": "8GuL4_rrX5w5"
      },
      "source": [
        "epochs = 10\n",
        "batch_size = 128"
      ],
      "execution_count": null,
      "outputs": []
    },
    {
      "cell_type": "code",
      "metadata": {
        "colab": {
          "base_uri": "https://localhost:8080/"
        },
        "id": "trg7NMETX7zJ",
        "outputId": "ecdd0dff-d96d-43f2-ce57-82ad5a8bd1aa"
      },
      "source": [
        "history = model.fit(train_features, train_labels, epochs=epochs, batch_size=batch_size,validation_split=0.1,callbacks=[EarlyStopping(monitor='val_loss', patience=3, min_delta=0.0001)])"
      ],
      "execution_count": null,
      "outputs": [
        {
          "output_type": "stream",
          "text": [
            "Epoch 1/10\n",
            "3168/3168 [==============================] - 2765s 872ms/step - loss: 0.5377 - accuracy: 0.8208 - val_loss: 0.5939 - val_accuracy: 0.7951\n",
            "Epoch 2/10\n",
            "3168/3168 [==============================] - 2851s 900ms/step - loss: 0.4149 - accuracy: 0.8649 - val_loss: 0.2663 - val_accuracy: 0.9160\n",
            "Epoch 3/10\n",
            "3168/3168 [==============================] - 2940s 928ms/step - loss: 0.1958 - accuracy: 0.9384 - val_loss: 0.2097 - val_accuracy: 0.9292\n",
            "Epoch 4/10\n",
            "3168/3168 [==============================] - 2750s 868ms/step - loss: 0.1400 - accuracy: 0.9540 - val_loss: 0.2071 - val_accuracy: 0.9317\n",
            "Epoch 5/10\n",
            "3168/3168 [==============================] - 2752s 869ms/step - loss: 0.1085 - accuracy: 0.9641 - val_loss: 0.2300 - val_accuracy: 0.9306\n",
            "Epoch 6/10\n",
            "3168/3168 [==============================] - 2825s 892ms/step - loss: 0.0801 - accuracy: 0.9730 - val_loss: 0.2369 - val_accuracy: 0.9326\n",
            "Epoch 7/10\n",
            "3168/3168 [==============================] - 2858s 902ms/step - loss: 0.0561 - accuracy: 0.9807 - val_loss: 0.2829 - val_accuracy: 0.9306\n"
          ],
          "name": "stdout"
        }
      ]
    },
    {
      "cell_type": "code",
      "metadata": {
        "id": "3sqQUcn_Zn7k",
        "colab": {
          "base_uri": "https://localhost:8080/"
        },
        "outputId": "f26d9861-eef4-4660-dbc7-d8940b214efe"
      },
      "source": [
        "accr = model.evaluate(test_features,test_labels)\n",
        "print('Test set\\n  Loss: {:0.3f}\\n  Accuracy: {:0.3f}'.format(accr[0],accr[1]))"
      ],
      "execution_count": null,
      "outputs": [
        {
          "output_type": "stream",
          "text": [
            "1565/1565 [==============================] - 102s 65ms/step - loss: 0.2805 - accuracy: 0.9329\n",
            "Test set\n",
            "  Loss: 0.280\n",
            "  Accuracy: 0.933\n"
          ],
          "name": "stdout"
        }
      ]
    },
    {
      "cell_type": "code",
      "metadata": {
        "colab": {
          "base_uri": "https://localhost:8080/",
          "height": 545
        },
        "id": "lFULYLxBpifO",
        "outputId": "037abedd-f308-4720-b63b-8eff4f408390"
      },
      "source": [
        "from matplotlib import pyplot as plt\n",
        "plt.title('Loss')\n",
        "plt.plot(history.history['loss'],'r', label='train')\n",
        "plt.plot(history.history['val_loss'],'b', label='test')\n",
        "plt.legend()\n",
        "plt.show()\n",
        "plt.title('Accuracy')\n",
        "plt.plot(history.history['accuracy'],'r', label='train')\n",
        "plt.plot(history.history['val_accuracy'],'b', label='test')\n",
        "plt.legend()\n",
        "plt.show()"
      ],
      "execution_count": null,
      "outputs": [
        {
          "output_type": "display_data",
          "data": {
            "image/png": "[encoded data removed]",
            "text/plain": [
              "<Figure size 432x288 with 1 Axes>"
            ]
          },
          "metadata": {
            "tags": [],
            "needs_background": "light"
          }
        },
        {
          "output_type": "display_data",
          "data": {
            "image/png": "[encoded data removed]",
            "text/plain": [
              "<Figure size 432x288 with 1 Axes>"
            ]
          },
          "metadata": {
            "tags": [],
            "needs_background": "light"
          }
        }
      ]
    },
    {
      "cell_type": "code",
      "metadata": {
        "id": "M9D0IHtop98-"
      },
      "source": [
        "predicted_classes = model.predict(test_features)\n",
        "predicted_classes = np.argmax(np.round(predicted_classes),axis=1)\n",
        "#test_Y = np.argmax(np.round(test_labels),axis=1)"
      ],
      "execution_count": null,
      "outputs": []
    },
    {
      "cell_type": "code",
      "metadata": {
        "colab": {
          "base_uri": "https://localhost:8080/"
        },
        "id": "7issYgjhqDy-",
        "outputId": "bda62ff8-54fa-4e3a-aa41-e033a6c8f782"
      },
      "source": [
        "predicted_classes.shape, test_labels.shape\n",
        "print(test_labels.shape)"
      ],
      "execution_count": null,
      "outputs": [
        {
          "output_type": "stream",
          "text": [
            "(50062, 7)\n"
          ],
          "name": "stdout"
        }
      ]
    },
    {
      "cell_type": "code",
      "metadata": {
        "colab": {
          "base_uri": "https://localhost:8080/"
        },
        "id": "jNoMVxouqGyr",
        "outputId": "16d364e0-641f-4157-f7fd-33345f8a781e"
      },
      "source": [
        "test_Y=[]\n",
        "for i in range (50062):\n",
        "    for j in range (7):\n",
        "        if(test_labels[i][j]==1):\n",
        "            test_Y.append(j)\n",
        "print(len(test_Y))"
      ],
      "execution_count": null,
      "outputs": [
        {
          "output_type": "stream",
          "text": [
            "50062\n"
          ],
          "name": "stdout"
        }
      ]
    },
    {
      "cell_type": "code",
      "metadata": {
        "colab": {
          "base_uri": "https://localhost:8080/"
        },
        "id": "fKZXnsQ2qG2I",
        "outputId": "e274f6e9-81a7-499f-de1f-97994b31103b"
      },
      "source": [
        "from sklearn.metrics import classification_report\n",
        "target_names = [\"Class {}\".format(i) for i in range(7)]\n",
        "print(classification_report(test_Y, predicted_classes, target_names=target_names))"
      ],
      "execution_count": null,
      "outputs": [
        {
          "output_type": "stream",
          "text": [
            "              precision    recall  f1-score   support\n",
            "\n",
            "     Class 0       0.86      0.88      0.87      8435\n",
            "     Class 1       0.98      0.99      0.99      8568\n",
            "     Class 2       0.97      0.97      0.97      8474\n",
            "     Class 3       0.95      0.97      0.96      8116\n",
            "     Class 4       0.88      0.86      0.87      6518\n",
            "     Class 5       0.90      0.89      0.89      4663\n",
            "     Class 6       0.96      0.95      0.96      5288\n",
            "\n",
            "    accuracy                           0.93     50062\n",
            "   macro avg       0.93      0.93      0.93     50062\n",
            "weighted avg       0.93      0.93      0.93     50062\n",
            "\n"
          ],
          "name": "stdout"
        }
      ]
    },
    {
      "cell_type": "code",
      "metadata": {
        "id": "L_xw8cFIqG5a"
      },
      "source": [
        "name=[]\n",
        "for i in range(7):\n",
        "  name.append(i)"
      ],
      "execution_count": null,
      "outputs": []
    },
    {
      "cell_type": "code",
      "metadata": {
        "colab": {
          "base_uri": "https://localhost:8080/",
          "height": 500
        },
        "id": "GyuK9nYBqG86",
        "outputId": "9b4c2d2e-b3ba-4148-fd64-7207e9e869ac"
      },
      "source": [
        "# Plot confusion matrix\n",
        "conf_mat = confusion_matrix(test_Y, predicted_classes, labels = name)\n",
        "\n",
        "#Normalize confusion_matrix\n",
        "conf_mat = conf_mat.astype('float')/ conf_mat.sum(axis=1)[:, np.newaxis]\n",
        "\n",
        "# Plot Heat Map\n",
        "fig , ax = plt.subplots()\n",
        "fig.set_size_inches(13, 8)\n",
        "sns.heatmap(conf_mat)"
      ],
      "execution_count": null,
      "outputs": [
        {
          "output_type": "execute_result",
          "data": {
            "text/plain": [
              "<matplotlib.axes._subplots.AxesSubplot at 0x7f0a72dc61d0>"
            ]
          },
          "metadata": {
            "tags": []
          },
          "execution_count": 87
        },
        {
          "output_type": "display_data",
          "data": {
            "image/png": "[encoded data removed]",
            "text/plain": [
              "<Figure size 936x576 with 2 Axes>"
            ]
          },
          "metadata": {
            "tags": [],
            "needs_background": "light"
          }
        }
      ]
    },
    {
      "cell_type": "code",
      "metadata": {
        "colab": {
          "base_uri": "https://localhost:8080/",
          "height": 890
        },
        "id": "srxhDTedqOkR",
        "outputId": "260cad3b-6682-4b1d-9686-10f1838f7c6f"
      },
      "source": [
        "print(__doc__)\n",
        "\n",
        "import itertools\n",
        "import numpy as np\n",
        "import matplotlib.pyplot as plt\n",
        "\n",
        "from sklearn import svm, datasets\n",
        "from sklearn.model_selection import train_test_split\n",
        "from sklearn.metrics import confusion_matrix\n",
        "\n",
        "\n",
        "class_names = name\n",
        "\n",
        "def plot_confusion_matrix(cm, classes,\n",
        "                          normalize=False,\n",
        "                          title='Confusion matrix',\n",
        "                          cmap=plt.cm.Blues):\n",
        "    \"\"\"\n",
        "    This function prints and plots the confusion matrix.\n",
        "    Normalization can be applied by setting `normalize=True`.\n",
        "    \"\"\"\n",
        "    if normalize:\n",
        "        cm = cm.astype('float') / cm.sum(axis=1)[:, np.newaxis]\n",
        "        print(\"Normalized confusion matrix\")\n",
        "    else:\n",
        "        print('Confusion matrix, without normalization')\n",
        "\n",
        "    print(cm)\n",
        "\n",
        "    plt.imshow(cm, interpolation='nearest', cmap=cmap)\n",
        "    plt.title(title)\n",
        "    plt.colorbar()\n",
        "    tick_marks = np.arange(len(classes))\n",
        "    plt.xticks(tick_marks, classes, rotation=0)\n",
        "    plt.yticks(tick_marks, classes)\n",
        "\n",
        "    fmt = '.2f' if normalize else 'd'\n",
        "    thresh = cm.max() / 2.\n",
        "    for i, j in itertools.product(range(cm.shape[0]), range(cm.shape[1])):\n",
        "        plt.text(j, i, format(cm[i, j], fmt),\n",
        "                 horizontalalignment=\"center\",\n",
        "                 color=\"white\" if cm[i, j] > thresh else \"black\")\n",
        "\n",
        "    plt.tight_layout()\n",
        "    plt.ylabel('True label')\n",
        "    plt.xlabel('Predicted label')\n",
        "\n",
        "# Compute confusion matrix\n",
        "cnf_matrix = confusion_matrix(test_Y, predicted_classes)\n",
        "np.set_printoptions(precision=2)\n",
        "\n",
        "# Plot non-normalized confusion matrix\n",
        "plt.figure()\n",
        "plot_confusion_matrix(cnf_matrix, classes=class_names,\n",
        "                      title='Confusion matrix, without normalization')\n",
        "\n",
        "# Plot normalized confusion matrix\n",
        "plt.figure()\n",
        "plot_confusion_matrix(cnf_matrix, classes=class_names, normalize=True,\n",
        "                      title='Normalized confusion matrix')\n",
        "\n",
        "plt.show()"
      ],
      "execution_count": null,
      "outputs": [
        {
          "output_type": "stream",
          "text": [
            "Automatically created module for IPython interactive environment\n",
            "Confusion matrix, without normalization\n",
            "[[7396   25   57   13  625  263   56]\n",
            " [  38 8452   33   25    1    4   15]\n",
            " [  69   23 8208   35    7   50   82]\n",
            " [  39   29   21 7832   85   79   31]\n",
            " [ 671    5    9  188 5610   29    6]\n",
            " [ 305   12   48  123   21 4133   21]\n",
            " [  57   42   79   51    4   21 5034]]\n",
            "Normalized confusion matrix\n",
            "[[8.77e-01 2.96e-03 6.76e-03 1.54e-03 7.41e-02 3.12e-02 6.64e-03]\n",
            " [4.44e-03 9.86e-01 3.85e-03 2.92e-03 1.17e-04 4.67e-04 1.75e-03]\n",
            " [8.14e-03 2.71e-03 9.69e-01 4.13e-03 8.26e-04 5.90e-03 9.68e-03]\n",
            " [4.81e-03 3.57e-03 2.59e-03 9.65e-01 1.05e-02 9.73e-03 3.82e-03]\n",
            " [1.03e-01 7.67e-04 1.38e-03 2.88e-02 8.61e-01 4.45e-03 9.21e-04]\n",
            " [6.54e-02 2.57e-03 1.03e-02 2.64e-02 4.50e-03 8.86e-01 4.50e-03]\n",
            " [1.08e-02 7.94e-03 1.49e-02 9.64e-03 7.56e-04 3.97e-03 9.52e-01]]\n"
          ],
          "name": "stdout"
        },
        {
          "output_type": "display_data",
          "data": {
            "image/png": "[encoded data removed]",
            "text/plain": [
              "<Figure size 432x288 with 2 Axes>"
            ]
          },
          "metadata": {
            "tags": [],
            "needs_background": "light"
          }
        },
        {
          "output_type": "display_data",
          "data": {
            "image/png": "[encoded data removed]",
            "text/plain": [
              "<Figure size 432x288 with 2 Axes>"
            ]
          },
          "metadata": {
            "tags": [],
            "needs_background": "light"
          }
        }
      ]
    }
  ]
}