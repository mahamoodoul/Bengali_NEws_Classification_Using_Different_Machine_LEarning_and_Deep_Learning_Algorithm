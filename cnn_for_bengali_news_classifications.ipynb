{
  "nbformat": 4,
  "nbformat_minor": 0,
  "metadata": {
    "colab": {
      "name": "cnn for bengali news classifications.ipynb",
      "provenance": [],
      "collapsed_sections": []
    },
    "kernelspec": {
      "name": "python3",
      "display_name": "Python 3"
    },
    "language_info": {
      "name": "python"
    }
  },
  "cells": [
    {
      "cell_type": "code",
      "metadata": {
        "colab": {
          "base_uri": "https://localhost:8080/"
        },
        "id": "l83o9AAcQNAW",
        "outputId": "aadffe30-6801-4f9e-c9ad-aca6df5cd36c"
      },
      "source": [
        "from google.colab import drive\n",
        "drive.mount('/content/gdrive')"
      ],
      "execution_count": null,
      "outputs": [
        {
          "output_type": "stream",
          "text": [
            "Mounted at /content/gdrive\n"
          ],
          "name": "stdout"
        }
      ]
    },
    {
      "cell_type": "code",
      "metadata": {
        "id": "ljvOn7RkRWl5"
      },
      "source": [
        "import numpy as np # linear algebra\n",
        "import pandas as pd # data processing, CSV file I/O (e.g. pd.read_csv)\n",
        "import os\n",
        "import pandas as pd\n",
        "import numpy as np\n",
        "from matplotlib import pyplot as plt\n",
        "import seaborn as sns\n",
        "from sklearn.feature_extraction.text import CountVectorizer\n",
        "from sklearn.model_selection import train_test_split\n",
        "from sklearn.metrics import accuracy_score, confusion_matrix, classification_report"
      ],
      "execution_count": null,
      "outputs": []
    },
    {
      "cell_type": "code",
      "metadata": {
        "colab": {
          "base_uri": "https://localhost:8080/",
          "height": 586
        },
        "id": "ligVbsoGRWpA",
        "outputId": "ae6e77da-88a9-4272-edcb-52ecc9921ba2"
      },
      "source": [
        "df = pd.read_csv('/content/gdrive/My Drive/Dataset-thesis/newsdata504266with7labels.csv')\n",
        "df"
      ],
      "execution_count": null,
      "outputs": [
        {
          "output_type": "execute_result",
          "data": {
            "text/html": [
              "<div>\n",
              "<style scoped>\n",
              "    .dataframe tbody tr th:only-of-type {\n",
              "        vertical-align: middle;\n",
              "    }\n",
              "\n",
              "    .dataframe tbody tr th {\n",
              "        vertical-align: top;\n",
              "    }\n",
              "\n",
              "    .dataframe thead th {\n",
              "        text-align: right;\n",
              "    }\n",
              "</style>\n",
              "<table border=\"1\" class=\"dataframe\">\n",
              "  <thead>\n",
              "    <tr style=\"text-align: right;\">\n",
              "      <th></th>\n",
              "      <th>Unnamed: 0</th>\n",
              "      <th>body</th>\n",
              "      <th>label</th>\n",
              "      <th>source</th>\n",
              "      <th>title</th>\n",
              "      <th>text</th>\n",
              "    </tr>\n",
              "  </thead>\n",
              "  <tbody>\n",
              "    <tr>\n",
              "      <th>0</th>\n",
              "      <td>0</td>\n",
              "      <td>ঢাকাচট্টগ্রাম মহাসড়কের সীতাকুন্ড উপজেলার ভাটিয়...</td>\n",
              "      <td>national</td>\n",
              "      <td>https://www.banglanews24.com/national/news/bd/...</td>\n",
              "      <td>চট্টগ্রামে দুর্ঘটনায় গার্মেন্টস কর্মী নিহত, আহ...</td>\n",
              "      <td>ঢাকাচট্টগ্রাম মহাসড়কের সীতাকুন্ড উপজেলার ভাটিয়...</td>\n",
              "    </tr>\n",
              "    <tr>\n",
              "      <th>1</th>\n",
              "      <td>1</td>\n",
              "      <td>নীলফামারী সদর উপজেলার টুপামারী ইউনিয়নের কামারপ...</td>\n",
              "      <td>national</td>\n",
              "      <td>https://www.banglanews24.com/national/news/bd/...</td>\n",
              "      <td>নীলফামারীতে স্ত্রীকে পিটিয়ে হত্যার ঘটনায় মামলা</td>\n",
              "      <td>নীলফামারী সদর উপজেলার টুপামারী ইউনিয়নের কামারপ...</td>\n",
              "    </tr>\n",
              "    <tr>\n",
              "      <th>2</th>\n",
              "      <td>2</td>\n",
              "      <td>সিরিজের একমাত্র টেস্টে আগামীকাল মুখোমুখি হবে ব...</td>\n",
              "      <td>sports</td>\n",
              "      <td>https://www.jagonews24.com/special-reports/new...</td>\n",
              "      <td>উইকেট দেখে হতাশ টাইগার শিবির</td>\n",
              "      <td>সিরিজের একমাত্র টেস্টে আগামীকাল মুখোমুখি বাংলা...</td>\n",
              "    </tr>\n",
              "    <tr>\n",
              "      <th>3</th>\n",
              "      <td>3</td>\n",
              "      <td>অনলাইন ডেস্ক পাকিস্তানের বেলুচিস্তান প্রদেশের ...</td>\n",
              "      <td>international</td>\n",
              "      <td>https://www.dailyjanakantha.com/details/articl...</td>\n",
              "      <td>\\nপাকিস্তানের কোয়েটায় পুলিশ ট্রেনিং কলেজে সন্ত...</td>\n",
              "      <td>অনলাইন ডেস্ক পাকিস্তানের বেলুচিস্তান প্রদেশের ...</td>\n",
              "    </tr>\n",
              "    <tr>\n",
              "      <th>4</th>\n",
              "      <td>4</td>\n",
              "      <td>ফিলিস্তিনের পশ্চিমতীরে ইসরায়েলী পুলিশের সঙ্গে ...</td>\n",
              "      <td>international</td>\n",
              "      <td>https://www.jagonews24.com/special-reports/new...</td>\n",
              "      <td>পশ্চিমতীরে সংঘর্ষে নিহত ১, আহত দুই শতাধিক</td>\n",
              "      <td>ফিলিস্তিনের পশ্চিমতীরে ইসরায়েলী পুলিশের সংঘর্ষ...</td>\n",
              "    </tr>\n",
              "    <tr>\n",
              "      <th>...</th>\n",
              "      <td>...</td>\n",
              "      <td>...</td>\n",
              "      <td>...</td>\n",
              "      <td>...</td>\n",
              "      <td>...</td>\n",
              "      <td>...</td>\n",
              "    </tr>\n",
              "    <tr>\n",
              "      <th>504261</th>\n",
              "      <td>504261</td>\n",
              "      <td>মাধুর ভান্ডাকারের সমালোচিত ছবি হিরোইনএর জুনিয়র...</td>\n",
              "      <td>entertainment</td>\n",
              "      <td>https://www.banglanews24.com/national/news/bd/...</td>\n",
              "      <td>নৃশংস হত্যার শিকার ‘হিরোইন’ ছবির অভিনেত্রী মিন...</td>\n",
              "      <td>মাধুর ভান্ডাকারের সমালোচিত ছবি হিরোইনএর জুনিয়র...</td>\n",
              "    </tr>\n",
              "    <tr>\n",
              "      <th>504262</th>\n",
              "      <td>504262</td>\n",
              "      <td>ছয় মাসের প্রস্তুতিতে এসএ গেমস খেলতে নেপালে এসে...</td>\n",
              "      <td>sports</td>\n",
              "      <td>https://www.dailyinqilab.com/article/252218/</td>\n",
              "      <td>খো খো’র ছেলেদের রৌপ্য</td>\n",
              "      <td>ছয় মাসের প্রস্তুতিতে এসএ গেমস খেলতে নেপালে এসে...</td>\n",
              "    </tr>\n",
              "    <tr>\n",
              "      <th>504263</th>\n",
              "      <td>504263</td>\n",
              "      <td>গেল বছরের শেষে দহন সিনেমা দিয়ে দর্শক মাতিয়েছেন...</td>\n",
              "      <td>entertainment</td>\n",
              "      <td>https://www.jagonews24.com/special-reports/new...</td>\n",
              "      <td>কলকাতার দুই নায়কের সঙ্গে ট্রেলারেই পূজার চমক</td>\n",
              "      <td>বছরের শেষে দহন সিনেমা দিয়ে দর্শক মাতিয়েছেন পূজ...</td>\n",
              "    </tr>\n",
              "    <tr>\n",
              "      <th>504264</th>\n",
              "      <td>504264</td>\n",
              "      <td>করোনায় আক্রান্ত শেষ রোগী সুস্থ হয়ে হাসপাতাল ছা...</td>\n",
              "      <td>international</td>\n",
              "      <td>https://www.jagonews24.com/special-reports/new...</td>\n",
              "      <td>করোনামুক্ত হলো ফিজি, মারা যাননি একজনও</td>\n",
              "      <td>করোনায় আক্রান্ত শেষ রোগী সুস্থ হয়ে হাসপাতাল ছা...</td>\n",
              "    </tr>\n",
              "    <tr>\n",
              "      <th>504265</th>\n",
              "      <td>504265</td>\n",
              "      <td>ব্রাহ্মণবাড়িয়া পৌর শহরের কলেজ পাড়ায় একাধিক ককট...</td>\n",
              "      <td>national</td>\n",
              "      <td>https://www.banglanews24.com/national/news/bd/...</td>\n",
              "      <td>ব্রাহ্মণবাড়িয়া শহরে ককটেল বিস্ফোরণ, এলাকায় আতঙ্ক</td>\n",
              "      <td>ব্রাহ্মণবাড়িয়া পৌর শহরের কলেজ পাড়ায় একাধিক ককট...</td>\n",
              "    </tr>\n",
              "  </tbody>\n",
              "</table>\n",
              "<p>504266 rows × 6 columns</p>\n",
              "</div>"
            ],
            "text/plain": [
              "        Unnamed: 0  ...                                               text\n",
              "0                0  ...  ঢাকাচট্টগ্রাম মহাসড়কের সীতাকুন্ড উপজেলার ভাটিয়...\n",
              "1                1  ...  নীলফামারী সদর উপজেলার টুপামারী ইউনিয়নের কামারপ...\n",
              "2                2  ...  সিরিজের একমাত্র টেস্টে আগামীকাল মুখোমুখি বাংলা...\n",
              "3                3  ...  অনলাইন ডেস্ক পাকিস্তানের বেলুচিস্তান প্রদেশের ...\n",
              "4                4  ...  ফিলিস্তিনের পশ্চিমতীরে ইসরায়েলী পুলিশের সংঘর্ষ...\n",
              "...            ...  ...                                                ...\n",
              "504261      504261  ...  মাধুর ভান্ডাকারের সমালোচিত ছবি হিরোইনএর জুনিয়র...\n",
              "504262      504262  ...  ছয় মাসের প্রস্তুতিতে এসএ গেমস খেলতে নেপালে এসে...\n",
              "504263      504263  ...  বছরের শেষে দহন সিনেমা দিয়ে দর্শক মাতিয়েছেন পূজ...\n",
              "504264      504264  ...  করোনায় আক্রান্ত শেষ রোগী সুস্থ হয়ে হাসপাতাল ছা...\n",
              "504265      504265  ...  ব্রাহ্মণবাড়িয়া পৌর শহরের কলেজ পাড়ায় একাধিক ককট...\n",
              "\n",
              "[504266 rows x 6 columns]"
            ]
          },
          "metadata": {
            "tags": []
          },
          "execution_count": 3
        }
      ]
    },
    {
      "cell_type": "code",
      "metadata": {
        "colab": {
          "base_uri": "https://localhost:8080/",
          "height": 279
        },
        "id": "XPrbO7RSRWsZ",
        "outputId": "176da18a-e58c-4769-c9d1-40acac52052e"
      },
      "source": [
        "df1 = df.drop(columns=['Unnamed: 0'])\n",
        "df1.head()"
      ],
      "execution_count": null,
      "outputs": [
        {
          "output_type": "execute_result",
          "data": {
            "text/html": [
              "<div>\n",
              "<style scoped>\n",
              "    .dataframe tbody tr th:only-of-type {\n",
              "        vertical-align: middle;\n",
              "    }\n",
              "\n",
              "    .dataframe tbody tr th {\n",
              "        vertical-align: top;\n",
              "    }\n",
              "\n",
              "    .dataframe thead th {\n",
              "        text-align: right;\n",
              "    }\n",
              "</style>\n",
              "<table border=\"1\" class=\"dataframe\">\n",
              "  <thead>\n",
              "    <tr style=\"text-align: right;\">\n",
              "      <th></th>\n",
              "      <th>body</th>\n",
              "      <th>label</th>\n",
              "      <th>source</th>\n",
              "      <th>title</th>\n",
              "      <th>text</th>\n",
              "    </tr>\n",
              "  </thead>\n",
              "  <tbody>\n",
              "    <tr>\n",
              "      <th>0</th>\n",
              "      <td>ঢাকাচট্টগ্রাম মহাসড়কের সীতাকুন্ড উপজেলার ভাটিয়...</td>\n",
              "      <td>national</td>\n",
              "      <td>https://www.banglanews24.com/national/news/bd/...</td>\n",
              "      <td>চট্টগ্রামে দুর্ঘটনায় গার্মেন্টস কর্মী নিহত, আহ...</td>\n",
              "      <td>ঢাকাচট্টগ্রাম মহাসড়কের সীতাকুন্ড উপজেলার ভাটিয়...</td>\n",
              "    </tr>\n",
              "    <tr>\n",
              "      <th>1</th>\n",
              "      <td>নীলফামারী সদর উপজেলার টুপামারী ইউনিয়নের কামারপ...</td>\n",
              "      <td>national</td>\n",
              "      <td>https://www.banglanews24.com/national/news/bd/...</td>\n",
              "      <td>নীলফামারীতে স্ত্রীকে পিটিয়ে হত্যার ঘটনায় মামলা</td>\n",
              "      <td>নীলফামারী সদর উপজেলার টুপামারী ইউনিয়নের কামারপ...</td>\n",
              "    </tr>\n",
              "    <tr>\n",
              "      <th>2</th>\n",
              "      <td>সিরিজের একমাত্র টেস্টে আগামীকাল মুখোমুখি হবে ব...</td>\n",
              "      <td>sports</td>\n",
              "      <td>https://www.jagonews24.com/special-reports/new...</td>\n",
              "      <td>উইকেট দেখে হতাশ টাইগার শিবির</td>\n",
              "      <td>সিরিজের একমাত্র টেস্টে আগামীকাল মুখোমুখি বাংলা...</td>\n",
              "    </tr>\n",
              "    <tr>\n",
              "      <th>3</th>\n",
              "      <td>অনলাইন ডেস্ক পাকিস্তানের বেলুচিস্তান প্রদেশের ...</td>\n",
              "      <td>international</td>\n",
              "      <td>https://www.dailyjanakantha.com/details/articl...</td>\n",
              "      <td>\\nপাকিস্তানের কোয়েটায় পুলিশ ট্রেনিং কলেজে সন্ত...</td>\n",
              "      <td>অনলাইন ডেস্ক পাকিস্তানের বেলুচিস্তান প্রদেশের ...</td>\n",
              "    </tr>\n",
              "    <tr>\n",
              "      <th>4</th>\n",
              "      <td>ফিলিস্তিনের পশ্চিমতীরে ইসরায়েলী পুলিশের সঙ্গে ...</td>\n",
              "      <td>international</td>\n",
              "      <td>https://www.jagonews24.com/special-reports/new...</td>\n",
              "      <td>পশ্চিমতীরে সংঘর্ষে নিহত ১, আহত দুই শতাধিক</td>\n",
              "      <td>ফিলিস্তিনের পশ্চিমতীরে ইসরায়েলী পুলিশের সংঘর্ষ...</td>\n",
              "    </tr>\n",
              "  </tbody>\n",
              "</table>\n",
              "</div>"
            ],
            "text/plain": [
              "                                                body  ...                                               text\n",
              "0  ঢাকাচট্টগ্রাম মহাসড়কের সীতাকুন্ড উপজেলার ভাটিয়...  ...  ঢাকাচট্টগ্রাম মহাসড়কের সীতাকুন্ড উপজেলার ভাটিয়...\n",
              "1  নীলফামারী সদর উপজেলার টুপামারী ইউনিয়নের কামারপ...  ...  নীলফামারী সদর উপজেলার টুপামারী ইউনিয়নের কামারপ...\n",
              "2  সিরিজের একমাত্র টেস্টে আগামীকাল মুখোমুখি হবে ব...  ...  সিরিজের একমাত্র টেস্টে আগামীকাল মুখোমুখি বাংলা...\n",
              "3  অনলাইন ডেস্ক পাকিস্তানের বেলুচিস্তান প্রদেশের ...  ...  অনলাইন ডেস্ক পাকিস্তানের বেলুচিস্তান প্রদেশের ...\n",
              "4  ফিলিস্তিনের পশ্চিমতীরে ইসরায়েলী পুলিশের সঙ্গে ...  ...  ফিলিস্তিনের পশ্চিমতীরে ইসরায়েলী পুলিশের সংঘর্ষ...\n",
              "\n",
              "[5 rows x 5 columns]"
            ]
          },
          "metadata": {
            "tags": []
          },
          "execution_count": 4
        }
      ]
    },
    {
      "cell_type": "code",
      "metadata": {
        "colab": {
          "base_uri": "https://localhost:8080/"
        },
        "id": "62kkDfctRWvo",
        "outputId": "d7798312-a19b-4bc9-f8ad-319607752bef"
      },
      "source": [
        "df1.isna().sum()\n",
        "df2 = df1.dropna()\n",
        "df2.isna().sum()"
      ],
      "execution_count": null,
      "outputs": [
        {
          "output_type": "execute_result",
          "data": {
            "text/plain": [
              "body      0\n",
              "label     0\n",
              "source    0\n",
              "title     0\n",
              "text      0\n",
              "dtype: int64"
            ]
          },
          "metadata": {
            "tags": []
          },
          "execution_count": 5
        }
      ]
    },
    {
      "cell_type": "code",
      "metadata": {
        "colab": {
          "base_uri": "https://localhost:8080/"
        },
        "id": "fjUGsrxKRWy5",
        "outputId": "ad04d735-702b-4c08-8ac9-8e76e796de87"
      },
      "source": [
        "df1.shape"
      ],
      "execution_count": null,
      "outputs": [
        {
          "output_type": "execute_result",
          "data": {
            "text/plain": [
              "(504266, 5)"
            ]
          },
          "metadata": {
            "tags": []
          },
          "execution_count": 6
        }
      ]
    },
    {
      "cell_type": "code",
      "metadata": {
        "colab": {
          "base_uri": "https://localhost:8080/"
        },
        "id": "6eOPb9koRW2J",
        "outputId": "18f680fc-949b-49d0-ebec-d2d676ada29d"
      },
      "source": [
        "max_length=df1[\"text\"].str.len().max()\n",
        "print(max_length)\n",
        "min_length=df1[\"text\"].str.len().min()\n",
        "min_length"
      ],
      "execution_count": null,
      "outputs": [
        {
          "output_type": "stream",
          "text": [
            "4743\n"
          ],
          "name": "stdout"
        },
        {
          "output_type": "execute_result",
          "data": {
            "text/plain": [
              "326"
            ]
          },
          "metadata": {
            "tags": []
          },
          "execution_count": 7
        }
      ]
    },
    {
      "cell_type": "code",
      "metadata": {
        "id": "T95puZkDRW5Z"
      },
      "source": [
        "df1.drop(df1[df1['text'].str.len() > 5000].index, inplace = True)\n",
        "df1.drop(df1[df1['text'].str.len() < 490].index, inplace = True)"
      ],
      "execution_count": null,
      "outputs": []
    },
    {
      "cell_type": "code",
      "metadata": {
        "colab": {
          "base_uri": "https://localhost:8080/"
        },
        "id": "MfmSmHFXRW8x",
        "outputId": "ef730638-cb89-42d4-d14b-5811e273b142"
      },
      "source": [
        "max_length=df1[\"text\"].str.len().max()\n",
        "print(max_length)\n",
        "min_length=df1[\"text\"].str.len().min()\n",
        "min_length"
      ],
      "execution_count": null,
      "outputs": [
        {
          "output_type": "stream",
          "text": [
            "4743\n"
          ],
          "name": "stdout"
        },
        {
          "output_type": "execute_result",
          "data": {
            "text/plain": [
              "490"
            ]
          },
          "metadata": {
            "tags": []
          },
          "execution_count": 9
        }
      ]
    },
    {
      "cell_type": "code",
      "metadata": {
        "id": "KTvPFNrKRXDB"
      },
      "source": [
        "df2 = df1.reset_index(drop=True)"
      ],
      "execution_count": null,
      "outputs": []
    },
    {
      "cell_type": "code",
      "metadata": {
        "colab": {
          "base_uri": "https://localhost:8080/"
        },
        "id": "01yll56mRu-i",
        "outputId": "69684645-696d-4bc7-c04e-68720a010843"
      },
      "source": [
        "# Look at classification type counts\n",
        "counts = df2.label.value_counts()\n",
        "print(len(counts))\n",
        "print(counts)"
      ],
      "execution_count": null,
      "outputs": [
        {
          "output_type": "stream",
          "text": [
            "7\n",
            "sports                86243\n",
            "international         83946\n",
            "national              83939\n",
            "all_bangladesh        80840\n",
            "politics              65799\n",
            "entertainment         52969\n",
            "economics-business    46884\n",
            "Name: label, dtype: int64\n"
          ],
          "name": "stdout"
        }
      ]
    },
    {
      "cell_type": "code",
      "metadata": {
        "colab": {
          "base_uri": "https://localhost:8080/"
        },
        "id": "iPZH5yW2RvB5",
        "outputId": "0533fbb9-358a-41a6-9989-848c8793cee2"
      },
      "source": [
        "# Get classification types where counts are over 1000\n",
        "#types = np.asarray(counts[(counts > 1000)].index)\n",
        "types=['sports'\n",
        ",'international'\n",
        ",'national'\n",
        ",'all_bangladesh'\n",
        ",'politics'\n",
        ",'entertainment'\n",
        ",'economics-business'\n",
        "]\n",
        "# Filter dataset's records for classification types > 1000\n",
        "data = df2[df2.label.isin(types)]\n",
        "\n",
        "#data_m = data[(data['classification'] =='HYDROLASE' )  (data['classification'] =='LIGASE' ) or (data['classification'] =='TRANSFERASE' ) or (data['classification'] =='OXIDOREDUCTASE' ) or (data['classification'] =='ISOMERASE' ) or (data['classification'] =='LYASE' )]\n",
        "\n",
        "print(types)\n",
        "print(len(types))\n",
        "print('%d is the number of records in the final filtered dataset' %data.shape[0])"
      ],
      "execution_count": null,
      "outputs": [
        {
          "output_type": "stream",
          "text": [
            "['sports', 'international', 'national', 'all_bangladesh', 'politics', 'entertainment', 'economics-business']\n",
            "7\n",
            "500620 is the number of records in the final filtered dataset\n"
          ],
          "name": "stdout"
        }
      ]
    },
    {
      "cell_type": "code",
      "metadata": {
        "colab": {
          "base_uri": "https://localhost:8080/"
        },
        "id": "2ELyPtRJRvFC",
        "outputId": "b6c33be9-8009-425b-f9ed-956c954373ab"
      },
      "source": [
        "train=data\n",
        "a=train.label.unique()\n",
        "l=len(train.label.unique())\n",
        "print(a)\n",
        "print(len(a))"
      ],
      "execution_count": null,
      "outputs": [
        {
          "output_type": "stream",
          "text": [
            "['national' 'sports' 'international' 'all_bangladesh' 'politics'\n",
            " 'economics-business' 'entertainment']\n",
            "7\n"
          ],
          "name": "stdout"
        }
      ]
    },
    {
      "cell_type": "code",
      "metadata": {
        "id": "mUXViLiuRvIS"
      },
      "source": [
        "for i in range (l):\n",
        "    train.label = train.label.replace(a[i], i)"
      ],
      "execution_count": null,
      "outputs": []
    },
    {
      "cell_type": "code",
      "metadata": {
        "colab": {
          "base_uri": "https://localhost:8080/",
          "height": 402
        },
        "id": "hSfC3ILTRvLR",
        "outputId": "c18d9210-c93a-428b-cbaa-56956cc6a27a"
      },
      "source": [
        "train1 = train\n",
        "train2 = train1[['text','label']]\n",
        "train2"
      ],
      "execution_count": null,
      "outputs": [
        {
          "output_type": "execute_result",
          "data": {
            "text/html": [
              "<div>\n",
              "<style scoped>\n",
              "    .dataframe tbody tr th:only-of-type {\n",
              "        vertical-align: middle;\n",
              "    }\n",
              "\n",
              "    .dataframe tbody tr th {\n",
              "        vertical-align: top;\n",
              "    }\n",
              "\n",
              "    .dataframe thead th {\n",
              "        text-align: right;\n",
              "    }\n",
              "</style>\n",
              "<table border=\"1\" class=\"dataframe\">\n",
              "  <thead>\n",
              "    <tr style=\"text-align: right;\">\n",
              "      <th></th>\n",
              "      <th>text</th>\n",
              "      <th>label</th>\n",
              "    </tr>\n",
              "  </thead>\n",
              "  <tbody>\n",
              "    <tr>\n",
              "      <th>0</th>\n",
              "      <td>ঢাকাচট্টগ্রাম মহাসড়কের সীতাকুন্ড উপজেলার ভাটিয়...</td>\n",
              "      <td>0</td>\n",
              "    </tr>\n",
              "    <tr>\n",
              "      <th>1</th>\n",
              "      <td>নীলফামারী সদর উপজেলার টুপামারী ইউনিয়নের কামারপ...</td>\n",
              "      <td>0</td>\n",
              "    </tr>\n",
              "    <tr>\n",
              "      <th>2</th>\n",
              "      <td>সিরিজের একমাত্র টেস্টে আগামীকাল মুখোমুখি বাংলা...</td>\n",
              "      <td>1</td>\n",
              "    </tr>\n",
              "    <tr>\n",
              "      <th>3</th>\n",
              "      <td>অনলাইন ডেস্ক পাকিস্তানের বেলুচিস্তান প্রদেশের ...</td>\n",
              "      <td>2</td>\n",
              "    </tr>\n",
              "    <tr>\n",
              "      <th>4</th>\n",
              "      <td>ফিলিস্তিনের পশ্চিমতীরে ইসরায়েলী পুলিশের সংঘর্ষ...</td>\n",
              "      <td>2</td>\n",
              "    </tr>\n",
              "    <tr>\n",
              "      <th>...</th>\n",
              "      <td>...</td>\n",
              "      <td>...</td>\n",
              "    </tr>\n",
              "    <tr>\n",
              "      <th>500615</th>\n",
              "      <td>মাধুর ভান্ডাকারের সমালোচিত ছবি হিরোইনএর জুনিয়র...</td>\n",
              "      <td>6</td>\n",
              "    </tr>\n",
              "    <tr>\n",
              "      <th>500616</th>\n",
              "      <td>ছয় মাসের প্রস্তুতিতে এসএ গেমস খেলতে নেপালে এসে...</td>\n",
              "      <td>1</td>\n",
              "    </tr>\n",
              "    <tr>\n",
              "      <th>500617</th>\n",
              "      <td>বছরের শেষে দহন সিনেমা দিয়ে দর্শক মাতিয়েছেন পূজ...</td>\n",
              "      <td>6</td>\n",
              "    </tr>\n",
              "    <tr>\n",
              "      <th>500618</th>\n",
              "      <td>করোনায় আক্রান্ত শেষ রোগী সুস্থ হয়ে হাসপাতাল ছা...</td>\n",
              "      <td>2</td>\n",
              "    </tr>\n",
              "    <tr>\n",
              "      <th>500619</th>\n",
              "      <td>ব্রাহ্মণবাড়িয়া পৌর শহরের কলেজ পাড়ায় একাধিক ককট...</td>\n",
              "      <td>0</td>\n",
              "    </tr>\n",
              "  </tbody>\n",
              "</table>\n",
              "<p>500620 rows × 2 columns</p>\n",
              "</div>"
            ],
            "text/plain": [
              "                                                     text  label\n",
              "0       ঢাকাচট্টগ্রাম মহাসড়কের সীতাকুন্ড উপজেলার ভাটিয়...      0\n",
              "1       নীলফামারী সদর উপজেলার টুপামারী ইউনিয়নের কামারপ...      0\n",
              "2       সিরিজের একমাত্র টেস্টে আগামীকাল মুখোমুখি বাংলা...      1\n",
              "3       অনলাইন ডেস্ক পাকিস্তানের বেলুচিস্তান প্রদেশের ...      2\n",
              "4       ফিলিস্তিনের পশ্চিমতীরে ইসরায়েলী পুলিশের সংঘর্ষ...      2\n",
              "...                                                   ...    ...\n",
              "500615  মাধুর ভান্ডাকারের সমালোচিত ছবি হিরোইনএর জুনিয়র...      6\n",
              "500616  ছয় মাসের প্রস্তুতিতে এসএ গেমস খেলতে নেপালে এসে...      1\n",
              "500617  বছরের শেষে দহন সিনেমা দিয়ে দর্শক মাতিয়েছেন পূজ...      6\n",
              "500618  করোনায় আক্রান্ত শেষ রোগী সুস্থ হয়ে হাসপাতাল ছা...      2\n",
              "500619  ব্রাহ্মণবাড়িয়া পৌর শহরের কলেজ পাড়ায় একাধিক ককট...      0\n",
              "\n",
              "[500620 rows x 2 columns]"
            ]
          },
          "metadata": {
            "tags": []
          },
          "execution_count": 15
        }
      ]
    },
    {
      "cell_type": "code",
      "metadata": {
        "colab": {
          "base_uri": "https://localhost:8080/"
        },
        "id": "Wp-XBrsFRvOZ",
        "outputId": "4569a6d9-775d-4ac2-ce86-45fe1e4e7da2"
      },
      "source": [
        "# Look at classification type counts\n",
        "counts = df2.label.value_counts()\n",
        "print(len(counts))\n",
        "print(counts)"
      ],
      "execution_count": null,
      "outputs": [
        {
          "output_type": "stream",
          "text": [
            "7\n",
            "sports                86243\n",
            "international         83946\n",
            "national              83939\n",
            "all_bangladesh        80840\n",
            "politics              65799\n",
            "entertainment         52969\n",
            "economics-business    46884\n",
            "Name: label, dtype: int64\n"
          ],
          "name": "stdout"
        }
      ]
    },
    {
      "cell_type": "code",
      "metadata": {
        "colab": {
          "base_uri": "https://localhost:8080/"
        },
        "id": "YzETWrVPRvRb",
        "outputId": "2c871b4b-0996-4a75-f0ad-c8db1ef5fec7"
      },
      "source": [
        "train2.label.value_counts()"
      ],
      "execution_count": null,
      "outputs": [
        {
          "output_type": "execute_result",
          "data": {
            "text/plain": [
              "1    86243\n",
              "2    83946\n",
              "0    83939\n",
              "3    80840\n",
              "4    65799\n",
              "6    52969\n",
              "5    46884\n",
              "Name: label, dtype: int64"
            ]
          },
          "metadata": {
            "tags": []
          },
          "execution_count": 17
        }
      ]
    },
    {
      "cell_type": "code",
      "metadata": {
        "colab": {
          "base_uri": "https://localhost:8080/"
        },
        "id": "HV4g4AnMSdgh",
        "outputId": "3425514a-8ee4-4ad5-c9e8-7af109ee4533"
      },
      "source": [
        "train3 = train2\n",
        "train3.label = train3.label.astype(int)"
      ],
      "execution_count": null,
      "outputs": [
        {
          "output_type": "stream",
          "text": [
            "/usr/local/lib/python3.7/dist-packages/pandas/core/generic.py:5170: SettingWithCopyWarning: \n",
            "A value is trying to be set on a copy of a slice from a DataFrame.\n",
            "Try using .loc[row_indexer,col_indexer] = value instead\n",
            "\n",
            "See the caveats in the documentation: https://pandas.pydata.org/pandas-docs/stable/user_guide/indexing.html#returning-a-view-versus-a-copy\n",
            "  self[name] = value\n"
          ],
          "name": "stderr"
        }
      ]
    },
    {
      "cell_type": "code",
      "metadata": {
        "id": "lj4dyvHfSfPh"
      },
      "source": [
        "from sklearn.model_selection import train_test_split\n",
        "from sklearn.preprocessing import LabelBinarizer\n",
        "from keras.preprocessing.text import Tokenizer\n",
        "from keras.preprocessing.sequence import pad_sequences\n",
        "from sklearn.feature_extraction.text import TfidfVectorizer\n",
        "from keras.layers import SpatialDropout1D\n",
        "from keras.utils import to_categorical\n",
        "from sklearn.metrics import classification_report\n",
        "from sklearn.metrics import roc_auc_score\n",
        "from sklearn.metrics import roc_curve\n",
        "from sklearn.metrics import precision_recall_curve\n",
        "from sklearn.model_selection import GridSearchCV\n",
        "from keras.models import Sequential\n",
        "from keras.layers import Dense\n",
        "from keras.layers import LSTM\n",
        "from keras.layers import Dropout\n",
        "from keras.layers import Bidirectional\n",
        "from keras.layers import GlobalMaxPool1D\n",
        "from keras.utils import plot_model\n",
        "from keras.layers import Conv1D\n",
        "from keras.layers import MaxPooling1D\n",
        "from keras.layers import Flatten\n",
        "from keras.layers import Input\n",
        "from keras.layers import Reshape\n",
        "from keras.layers import Conv2D\n",
        "from keras.layers import MaxPool2D\n",
        "from keras.layers import Concatenate\n",
        "from keras.models import Model\n",
        "from keras.callbacks import ModelCheckpoint\n",
        "from keras.optimizers import Adam\n",
        "from keras.layers.embeddings import Embedding\n",
        "from keras.preprocessing import sequence\n",
        "from keras.callbacks import EarlyStopping\n",
        "from sklearn.feature_selection import RFE\n",
        "import tensorflow as tf\n",
        "import re"
      ],
      "execution_count": null,
      "outputs": []
    },
    {
      "cell_type": "code",
      "metadata": {
        "colab": {
          "base_uri": "https://localhost:8080/",
          "height": 402
        },
        "id": "Kjy8ic0vTOOC",
        "outputId": "da6ad001-399f-4ae7-e6b6-acd073e6188d"
      },
      "source": [
        "train3"
      ],
      "execution_count": null,
      "outputs": [
        {
          "output_type": "execute_result",
          "data": {
            "text/html": [
              "<div>\n",
              "<style scoped>\n",
              "    .dataframe tbody tr th:only-of-type {\n",
              "        vertical-align: middle;\n",
              "    }\n",
              "\n",
              "    .dataframe tbody tr th {\n",
              "        vertical-align: top;\n",
              "    }\n",
              "\n",
              "    .dataframe thead th {\n",
              "        text-align: right;\n",
              "    }\n",
              "</style>\n",
              "<table border=\"1\" class=\"dataframe\">\n",
              "  <thead>\n",
              "    <tr style=\"text-align: right;\">\n",
              "      <th></th>\n",
              "      <th>text</th>\n",
              "      <th>label</th>\n",
              "    </tr>\n",
              "  </thead>\n",
              "  <tbody>\n",
              "    <tr>\n",
              "      <th>0</th>\n",
              "      <td>ঢাকাচট্টগ্রাম মহাসড়কের সীতাকুন্ড উপজেলার ভাটিয়...</td>\n",
              "      <td>0</td>\n",
              "    </tr>\n",
              "    <tr>\n",
              "      <th>1</th>\n",
              "      <td>নীলফামারী সদর উপজেলার টুপামারী ইউনিয়নের কামারপ...</td>\n",
              "      <td>0</td>\n",
              "    </tr>\n",
              "    <tr>\n",
              "      <th>2</th>\n",
              "      <td>সিরিজের একমাত্র টেস্টে আগামীকাল মুখোমুখি বাংলা...</td>\n",
              "      <td>1</td>\n",
              "    </tr>\n",
              "    <tr>\n",
              "      <th>3</th>\n",
              "      <td>অনলাইন ডেস্ক পাকিস্তানের বেলুচিস্তান প্রদেশের ...</td>\n",
              "      <td>2</td>\n",
              "    </tr>\n",
              "    <tr>\n",
              "      <th>4</th>\n",
              "      <td>ফিলিস্তিনের পশ্চিমতীরে ইসরায়েলী পুলিশের সংঘর্ষ...</td>\n",
              "      <td>2</td>\n",
              "    </tr>\n",
              "    <tr>\n",
              "      <th>...</th>\n",
              "      <td>...</td>\n",
              "      <td>...</td>\n",
              "    </tr>\n",
              "    <tr>\n",
              "      <th>500615</th>\n",
              "      <td>মাধুর ভান্ডাকারের সমালোচিত ছবি হিরোইনএর জুনিয়র...</td>\n",
              "      <td>6</td>\n",
              "    </tr>\n",
              "    <tr>\n",
              "      <th>500616</th>\n",
              "      <td>ছয় মাসের প্রস্তুতিতে এসএ গেমস খেলতে নেপালে এসে...</td>\n",
              "      <td>1</td>\n",
              "    </tr>\n",
              "    <tr>\n",
              "      <th>500617</th>\n",
              "      <td>বছরের শেষে দহন সিনেমা দিয়ে দর্শক মাতিয়েছেন পূজ...</td>\n",
              "      <td>6</td>\n",
              "    </tr>\n",
              "    <tr>\n",
              "      <th>500618</th>\n",
              "      <td>করোনায় আক্রান্ত শেষ রোগী সুস্থ হয়ে হাসপাতাল ছা...</td>\n",
              "      <td>2</td>\n",
              "    </tr>\n",
              "    <tr>\n",
              "      <th>500619</th>\n",
              "      <td>ব্রাহ্মণবাড়িয়া পৌর শহরের কলেজ পাড়ায় একাধিক ককট...</td>\n",
              "      <td>0</td>\n",
              "    </tr>\n",
              "  </tbody>\n",
              "</table>\n",
              "<p>500620 rows × 2 columns</p>\n",
              "</div>"
            ],
            "text/plain": [
              "                                                     text  label\n",
              "0       ঢাকাচট্টগ্রাম মহাসড়কের সীতাকুন্ড উপজেলার ভাটিয়...      0\n",
              "1       নীলফামারী সদর উপজেলার টুপামারী ইউনিয়নের কামারপ...      0\n",
              "2       সিরিজের একমাত্র টেস্টে আগামীকাল মুখোমুখি বাংলা...      1\n",
              "3       অনলাইন ডেস্ক পাকিস্তানের বেলুচিস্তান প্রদেশের ...      2\n",
              "4       ফিলিস্তিনের পশ্চিমতীরে ইসরায়েলী পুলিশের সংঘর্ষ...      2\n",
              "...                                                   ...    ...\n",
              "500615  মাধুর ভান্ডাকারের সমালোচিত ছবি হিরোইনএর জুনিয়র...      6\n",
              "500616  ছয় মাসের প্রস্তুতিতে এসএ গেমস খেলতে নেপালে এসে...      1\n",
              "500617  বছরের শেষে দহন সিনেমা দিয়ে দর্শক মাতিয়েছেন পূজ...      6\n",
              "500618  করোনায় আক্রান্ত শেষ রোগী সুস্থ হয়ে হাসপাতাল ছা...      2\n",
              "500619  ব্রাহ্মণবাড়িয়া পৌর শহরের কলেজ পাড়ায় একাধিক ককট...      0\n",
              "\n",
              "[500620 rows x 2 columns]"
            ]
          },
          "metadata": {
            "tags": []
          },
          "execution_count": 20
        }
      ]
    },
    {
      "cell_type": "code",
      "metadata": {
        "colab": {
          "base_uri": "https://localhost:8080/"
        },
        "id": "dmLsQ5IaSi3w",
        "outputId": "ed9828a6-4ed1-455c-ea52-ab2fb548868b"
      },
      "source": [
        "# The maximum number of words to be used. (most frequent)\n",
        "MAX_NB_WORDS = 50000\n",
        "# Max number of words in each complaint.\n",
        "MAX_SEQUENCE_LENGTH = 250\n",
        "# This is fixed.\n",
        "EMBEDDING_DIM = 100\n",
        "tokenizer = Tokenizer(num_words=MAX_NB_WORDS, filters='!\"#$%&()*+,-./:;<=>?@[\\]^_`{|}~।', lower=False)\n",
        "tokenizer.fit_on_texts(train3.text.values)\n",
        "word_index = tokenizer.word_index\n",
        "print('Found %s unique tokens.' % len(word_index))"
      ],
      "execution_count": null,
      "outputs": [
        {
          "output_type": "stream",
          "text": [
            "Found 1111239 unique tokens.\n"
          ],
          "name": "stdout"
        }
      ]
    },
    {
      "cell_type": "code",
      "metadata": {
        "colab": {
          "base_uri": "https://localhost:8080/"
        },
        "id": "Hk96TNHTTbSA",
        "outputId": "b734f566-690f-4f1a-fcf8-ad81fe0356ad"
      },
      "source": [
        "X = tokenizer.texts_to_sequences(train3.text.values)\n",
        "X = pad_sequences(X, maxlen=MAX_SEQUENCE_LENGTH)\n",
        "print('Shape of data tensor:', X.shape)"
      ],
      "execution_count": null,
      "outputs": [
        {
          "output_type": "stream",
          "text": [
            "Shape of data tensor: (500620, 250)\n"
          ],
          "name": "stdout"
        }
      ]
    },
    {
      "cell_type": "code",
      "metadata": {
        "colab": {
          "base_uri": "https://localhost:8080/"
        },
        "id": "4-Kaxt-WTe_b",
        "outputId": "db48010e-2069-49e7-c02c-dd8e46e85323"
      },
      "source": [
        "Y = pd.get_dummies(train3.label).values\n",
        "print('Shape of label tensor:', Y.shape)"
      ],
      "execution_count": null,
      "outputs": [
        {
          "output_type": "stream",
          "text": [
            "Shape of label tensor: (500620, 7)\n"
          ],
          "name": "stdout"
        }
      ]
    },
    {
      "cell_type": "code",
      "metadata": {
        "id": "rjy0mFYHTfCp"
      },
      "source": [
        "train_features, test_features, train_labels, test_labels = train_test_split(X, Y, test_size=.10)"
      ],
      "execution_count": null,
      "outputs": []
    },
    {
      "cell_type": "code",
      "metadata": {
        "colab": {
          "base_uri": "https://localhost:8080/",
          "height": 963
        },
        "id": "6pTQoYd-TfGC",
        "outputId": "342eb037-2f4d-4ac3-e52f-25b0e28bd313"
      },
      "source": [
        "model = Sequential()\n",
        "model.add(Embedding(MAX_NB_WORDS, EMBEDDING_DIM, input_length=MAX_SEQUENCE_LENGTH ))\n",
        "model.add(Conv1D(filters=32, kernel_size=3, padding='same', activation='relu'))\n",
        "model.add(MaxPooling1D(pool_size=2))\n",
        "model.add(LSTM(100))\n",
        "model.add(Dense(l, activation='softmax'))\n",
        "\n",
        "# compile\n",
        "model.compile(loss='binary_crossentropy', optimizer='adam', metrics=['accuracy'])\n",
        "# summarize\n",
        "print(model.summary())\n",
        "plot_model(model, show_shapes=True, to_file='multichannel.png')"
      ],
      "execution_count": null,
      "outputs": [
        {
          "output_type": "stream",
          "text": [
            "Model: \"sequential\"\n",
            "_________________________________________________________________\n",
            "Layer (type)                 Output Shape              Param #   \n",
            "=================================================================\n",
            "embedding (Embedding)        (None, 250, 100)          5000000   \n",
            "_________________________________________________________________\n",
            "conv1d (Conv1D)              (None, 250, 32)           9632      \n",
            "_________________________________________________________________\n",
            "max_pooling1d (MaxPooling1D) (None, 125, 32)           0         \n",
            "_________________________________________________________________\n",
            "lstm (LSTM)                  (None, 100)               53200     \n",
            "_________________________________________________________________\n",
            "dense (Dense)                (None, 7)                 707       \n",
            "=================================================================\n",
            "Total params: 5,063,539\n",
            "Trainable params: 5,063,539\n",
            "Non-trainable params: 0\n",
            "_________________________________________________________________\n",
            "None\n"
          ],
          "name": "stdout"
        },
        {
          "output_type": "execute_result",
          "data": {
            "image/png": "[encoded data removed]",
            "text/plain": [
              "<IPython.core.display.Image object>"
            ]
          },
          "metadata": {
            "tags": []
          },
          "execution_count": 25
        }
      ]
    },
    {
      "cell_type": "code",
      "metadata": {
        "id": "BxGFKXguTfJK"
      },
      "source": [
        "epochs = 10\n",
        "batch_size = 128"
      ],
      "execution_count": null,
      "outputs": []
    },
    {
      "cell_type": "code",
      "metadata": {
        "colab": {
          "base_uri": "https://localhost:8080/"
        },
        "id": "qrLHykVTTrli",
        "outputId": "4fa31b1f-bc43-4172-be40-09002821639b"
      },
      "source": [
        "history = model.fit(train_features, train_labels, epochs=epochs, batch_size=batch_size,validation_split=0.1,callbacks=[EarlyStopping(monitor='val_loss', patience=3, min_delta=0.0001)])"
      ],
      "execution_count": null,
      "outputs": [
        {
          "output_type": "stream",
          "text": [
            "Epoch 1/10\n",
            "3168/3168 [==============================] - 1302s 410ms/step - loss: 0.1560 - accuracy: 0.7599 - val_loss: 0.0505 - val_accuracy: 0.9348\n",
            "Epoch 2/10\n",
            "3168/3168 [==============================] - 1299s 410ms/step - loss: 0.0416 - accuracy: 0.9470 - val_loss: 0.0472 - val_accuracy: 0.9395\n",
            "Epoch 3/10\n",
            "3168/3168 [==============================] - 1406s 444ms/step - loss: 0.0316 - accuracy: 0.9604 - val_loss: 0.0487 - val_accuracy: 0.9377\n",
            "Epoch 4/10\n",
            "3168/3168 [==============================] - 1388s 438ms/step - loss: 0.0240 - accuracy: 0.9709 - val_loss: 0.0527 - val_accuracy: 0.9363\n",
            "Epoch 5/10\n",
            "3168/3168 [==============================] - 1383s 437ms/step - loss: 0.0170 - accuracy: 0.9803 - val_loss: 0.0597 - val_accuracy: 0.9343\n"
          ],
          "name": "stdout"
        }
      ]
    },
    {
      "cell_type": "code",
      "metadata": {
        "colab": {
          "base_uri": "https://localhost:8080/"
        },
        "id": "yK2e-ZGMTrpZ",
        "outputId": "ddc50e05-eb1c-40d2-c669-df7d7e53ef03"
      },
      "source": [
        "accr = model.evaluate(test_features,test_labels)\n",
        "print('Test set\\n  Loss: {:0.3f}\\n  Accuracy: {:0.3f}'.format(accr[0],accr[1]))"
      ],
      "execution_count": null,
      "outputs": [
        {
          "output_type": "stream",
          "text": [
            "1565/1565 [==============================] - 52s 33ms/step - loss: 0.0609 - accuracy: 0.9326\n",
            "Test set\n",
            "  Loss: 0.061\n",
            "  Accuracy: 0.933\n"
          ],
          "name": "stdout"
        }
      ]
    },
    {
      "cell_type": "code",
      "metadata": {
        "colab": {
          "base_uri": "https://localhost:8080/"
        },
        "id": "RvTYEOvgy6j8",
        "outputId": "100c38d3-d7cb-42ce-f2f7-83f38009c279"
      },
      "source": [
        "from google.colab import drive\n",
        "drive.mount('/content/gdrive')"
      ],
      "execution_count": null,
      "outputs": [
        {
          "output_type": "stream",
          "text": [
            "Drive already mounted at /content/gdrive; to attempt to forcibly remount, call drive.mount(\"/content/gdrive\", force_remount=True).\n"
          ],
          "name": "stdout"
        }
      ]
    },
    {
      "cell_type": "code",
      "metadata": {
        "id": "1pX7yW2xHoMD"
      },
      "source": [
        "from keras.models import load_model\n",
        "\n",
        "MODEL_PATH = '/content/gdrive/My Drive/Dataset-thesis/cnn_classification.h5'\n",
        "\n",
        "# Now save model in drive\n",
        "model.save(MODEL_PATH)\n"
      ],
      "execution_count": null,
      "outputs": []
    },
    {
      "cell_type": "code",
      "metadata": {
        "colab": {
          "base_uri": "https://localhost:8080/"
        },
        "id": "eQgByOXYzMVa",
        "outputId": "ae5049fa-a6be-4521-f7ca-730a9b9986dd"
      },
      "source": [
        "# !ls /content/gdrive/My Drive"
      ],
      "execution_count": null,
      "outputs": [
        {
          "output_type": "stream",
          "text": [
            "ls: cannot access '/content/gdrive/My': No such file or directory\n",
            "ls: cannot access 'Drive': No such file or directory\n"
          ],
          "name": "stdout"
        }
      ]
    },
    {
      "cell_type": "code",
      "metadata": {
        "id": "0oYWKA3mwMPF"
      },
      "source": [
        "# Load Model\n",
        "# model = load_model(MODEL_PATH)\n",
        "# model.save('cnn_classification.h5')"
      ],
      "execution_count": null,
      "outputs": []
    },
    {
      "cell_type": "code",
      "metadata": {
        "id": "hswLmhUiwekM"
      },
      "source": [
        "from keras.models import load_model\n",
        "new_model = load_model('cnn_classification.h5')"
      ],
      "execution_count": null,
      "outputs": []
    },
    {
      "cell_type": "code",
      "metadata": {
        "id": "6dVdZ9W83X_9"
      },
      "source": [
        "# prediction = model.predict(X_test)"
      ],
      "execution_count": null,
      "outputs": []
    },
    {
      "cell_type": "code",
      "metadata": {
        "colab": {
          "base_uri": "https://localhost:8080/"
        },
        "id": "LlXNb2tL3wdC",
        "outputId": "8b82bb3f-4cdb-4697-ecca-17a2352651dd"
      },
      "source": [
        "new_complaint = [\"মন্ত্রী এসময় করোনায় আক্রান্ত বিএনপি নেত্রী খালেদা জিয়ার আরোগ্য কামনা করে বলেন, আমরা মহান স্রষ্টার কাছে প্রার্থনা করি, তিনি দ্রুত সুস্থ হোন। প্রধানমন্ত্রী শেখ হাসিনা তার শারীরিক অবস্থা ও মানবিক বিবেচনায় আদালতে তার জামিন না হওয়া সংবিধানে প্রদত্ত প্রশাসনিক ক্ষমতা বলে তাকে মুক্তি দিয়ে সেটি দুই দফা বর্ধিত করেছেন, তার সুবিধা অনুযায়ী তিনি চিকিৎসা গ্রহণ করছেন\"]\n",
        "seq =tokenizer.texts_to_sequences(new_complaint)\n",
        "padded = pad_sequences(seq, maxlen=MAX_SEQUENCE_LENGTH)\n",
        "pred = new_model.predict(padded)\n",
        "print([pred])"
      ],
      "execution_count": null,
      "outputs": [
        {
          "output_type": "stream",
          "text": [
            "[array([[5.7356351e-06, 1.7200771e-06, 2.2061691e-05, 4.9452901e-06,\n",
            "        9.9995840e-01, 4.1778567e-06, 2.9580804e-06]], dtype=float32)]\n"
          ],
          "name": "stdout"
        }
      ]
    },
    {
      "cell_type": "code",
      "metadata": {
        "colab": {
          "base_uri": "https://localhost:8080/"
        },
        "id": "bpZY3VGt-XEa",
        "outputId": "9e32854d-8fd5-4d90-8400-c0c2db8e2e17"
      },
      "source": [
        "predicted_labels = pred.argmax(axis=1)\n",
        "predicted_labels\n",
        "print(predicted_labels)\n",
        "if predicted_labels == 0:\n",
        "  print(\"national\")\n",
        "elif predicted_labels == 1:\n",
        "  print(\"sports\")\n",
        "elif predicted_labels == 2:\n",
        "  print(\"international\")\n",
        "elif predicted_labels == 3:\n",
        "  print(\"all_bangladesh\")\n",
        "elif predicted_labels == 4:\n",
        "  print(\"politics\")\n",
        "elif predicted_labels == 5:\n",
        "  print(\"economics-business\")\n",
        "elif predicted_labels == 6:\n",
        "  print(\"entertainment\")\n",
        "else:\n",
        "  print(\"wrong predition\")"
      ],
      "execution_count": null,
      "outputs": [
        {
          "output_type": "stream",
          "text": [
            "[4]\n",
            "politics\n"
          ],
          "name": "stdout"
        }
      ]
    },
    {
      "cell_type": "code",
      "metadata": {
        "colab": {
          "base_uri": "https://localhost:8080/"
        },
        "id": "BTnTp2oVwesc",
        "outputId": "fa59a0c8-e0d5-4a20-b2b4-881d5defe925"
      },
      "source": [
        "new_model.summary()"
      ],
      "execution_count": null,
      "outputs": [
        {
          "output_type": "stream",
          "text": [
            "Model: \"sequential\"\n",
            "_________________________________________________________________\n",
            "Layer (type)                 Output Shape              Param #   \n",
            "=================================================================\n",
            "embedding (Embedding)        (None, 250, 100)          5000000   \n",
            "_________________________________________________________________\n",
            "conv1d (Conv1D)              (None, 250, 32)           9632      \n",
            "_________________________________________________________________\n",
            "max_pooling1d (MaxPooling1D) (None, 125, 32)           0         \n",
            "_________________________________________________________________\n",
            "lstm (LSTM)                  (None, 100)               53200     \n",
            "_________________________________________________________________\n",
            "dense (Dense)                (None, 7)                 707       \n",
            "=================================================================\n",
            "Total params: 5,063,539\n",
            "Trainable params: 5,063,539\n",
            "Non-trainable params: 0\n",
            "_________________________________________________________________\n"
          ],
          "name": "stdout"
        }
      ]
    },
    {
      "cell_type": "code",
      "metadata": {
        "id": "wnkB18GBzzJD"
      },
      "source": [
        "# new_model.get_weights()"
      ],
      "execution_count": null,
      "outputs": []
    },
    {
      "cell_type": "code",
      "metadata": {
        "colab": {
          "base_uri": "https://localhost:8080/",
          "height": 545
        },
        "id": "GQ7_aB5JTrti",
        "outputId": "9125f65e-f764-4bf8-b753-9ca4bdfd5114"
      },
      "source": [
        "from matplotlib import pyplot as plt\n",
        "plt.title('Loss')\n",
        "plt.plot(history.history['loss'],'r', label='train')\n",
        "plt.plot(history.history['val_loss'],'b', label='test')\n",
        "plt.legend()\n",
        "plt.show()\n",
        "plt.title('Accuracy')\n",
        "plt.plot(history.history['accuracy'],'r', label='train')\n",
        "plt.plot(history.history['val_accuracy'],'b', label='test')\n",
        "plt.legend()\n",
        "plt.show()"
      ],
      "execution_count": null,
      "outputs": [
        {
          "output_type": "display_data",
          "data": {
            "image/png": "[encoded data removed]",
            "text/plain": [
              "<Figure size 432x288 with 1 Axes>"
            ]
          },
          "metadata": {
            "tags": [],
            "needs_background": "light"
          }
        },
        {
          "output_type": "display_data",
          "data": {
            "image/png": "[encoded data removed]",
            "text/plain": [
              "<Figure size 432x288 with 1 Axes>"
            ]
          },
          "metadata": {
            "tags": [],
            "needs_background": "light"
          }
        }
      ]
    },
    {
      "cell_type": "code",
      "metadata": {
        "id": "Blyo1g8WOze2"
      },
      "source": [
        "predicted_classes = model.predict(test_features)\n",
        "predicted_classes = np.argmax(np.round(predicted_classes),axis=1)"
      ],
      "execution_count": null,
      "outputs": []
    },
    {
      "cell_type": "code",
      "metadata": {
        "colab": {
          "base_uri": "https://localhost:8080/"
        },
        "id": "OW9qYdnsGJHm",
        "outputId": "b588aeba-74e8-42f3-bdbe-e427d0d44910"
      },
      "source": [
        "predicted_classes.shape, test_labels.shape\n",
        "print(test_labels.shape)"
      ],
      "execution_count": null,
      "outputs": [
        {
          "output_type": "stream",
          "text": [
            "(50062, 7)\n"
          ],
          "name": "stdout"
        }
      ]
    },
    {
      "cell_type": "code",
      "metadata": {
        "id": "MiUZ0h8jGK8P"
      },
      "source": [
        "test_Y = np.argmax(np.round(test_labels),axis=1)"
      ],
      "execution_count": null,
      "outputs": []
    },
    {
      "cell_type": "code",
      "metadata": {
        "colab": {
          "base_uri": "https://localhost:8080/"
        },
        "id": "1cew4zggGK_X",
        "outputId": "f7a71ae6-bac5-4e1f-e17e-055ddedfac5b"
      },
      "source": [
        "from sklearn.metrics import classification_report\n",
        "target_names = [\"Class {}\".format(i) for i in range(7)]\n",
        "print(classification_report(test_Y, predicted_classes, target_names=target_names))"
      ],
      "execution_count": null,
      "outputs": [
        {
          "output_type": "stream",
          "text": [
            "              precision    recall  f1-score   support\n",
            "\n",
            "     Class 0       0.88      0.87      0.87      8426\n",
            "     Class 1       0.99      0.98      0.99      8599\n",
            "     Class 2       0.97      0.96      0.97      8488\n",
            "     Class 3       0.95      0.96      0.95      7952\n",
            "     Class 4       0.87      0.87      0.87      6559\n",
            "     Class 5       0.89      0.91      0.90      4676\n",
            "     Class 6       0.95      0.96      0.96      5362\n",
            "\n",
            "    accuracy                           0.93     50062\n",
            "   macro avg       0.93      0.93      0.93     50062\n",
            "weighted avg       0.93      0.93      0.93     50062\n",
            "\n"
          ],
          "name": "stdout"
        }
      ]
    },
    {
      "cell_type": "code",
      "metadata": {
        "id": "FXMocdBUGLCv"
      },
      "source": [
        "name=[]\n",
        "for i in range(7):\n",
        "  name.append(i)"
      ],
      "execution_count": null,
      "outputs": []
    },
    {
      "cell_type": "code",
      "metadata": {
        "colab": {
          "base_uri": "https://localhost:8080/",
          "height": 500
        },
        "id": "tB_mLIZYGLFu",
        "outputId": "7463d3ff-6a67-490b-868f-40ddccb0f1b2"
      },
      "source": [
        "# Plot confusion matrix\n",
        "conf_mat = confusion_matrix(test_Y, predicted_classes, labels = name)\n",
        "\n",
        "#Normalize confusion_matrix\n",
        "conf_mat = conf_mat.astype('float')/ conf_mat.sum(axis=1)[:, np.newaxis]\n",
        "\n",
        "# Plot Heat Map\n",
        "fig , ax = plt.subplots()\n",
        "fig.set_size_inches(13, 8)\n",
        "sns.heatmap(conf_mat)"
      ],
      "execution_count": null,
      "outputs": [
        {
          "output_type": "execute_result",
          "data": {
            "text/plain": [
              "<matplotlib.axes._subplots.AxesSubplot at 0x7f967a6ed790>"
            ]
          },
          "metadata": {
            "tags": []
          },
          "execution_count": 36
        },
        {
          "output_type": "display_data",
          "data": {
            "image/png": "[encoded data removed]",
            "text/plain": [
              "<Figure size 936x576 with 2 Axes>"
            ]
          },
          "metadata": {
            "tags": [],
            "needs_background": "light"
          }
        }
      ]
    },
    {
      "cell_type": "code",
      "metadata": {
        "colab": {
          "base_uri": "https://localhost:8080/",
          "height": 890
        },
        "id": "frF9Vo7HGLJP",
        "outputId": "c6024bb6-1094-41aa-b8fe-15135ac26ea6"
      },
      "source": [
        "print(__doc__)\n",
        "\n",
        "import itertools\n",
        "import numpy as np\n",
        "import matplotlib.pyplot as plt\n",
        "\n",
        "from sklearn import svm, datasets\n",
        "from sklearn.model_selection import train_test_split\n",
        "from sklearn.metrics import confusion_matrix\n",
        "\n",
        "\n",
        "class_names = name\n",
        "\n",
        "def plot_confusion_matrix(cm, classes,\n",
        "                          normalize=False,\n",
        "                          title='Confusion matrix',\n",
        "                          cmap=plt.cm.Blues):\n",
        "    \"\"\"\n",
        "    This function prints and plots the confusion matrix.\n",
        "    Normalization can be applied by setting `normalize=True`.\n",
        "    \"\"\"\n",
        "    if normalize:\n",
        "        cm = cm.astype('float') / cm.sum(axis=1)[:, np.newaxis]\n",
        "        print(\"Normalized confusion matrix\")\n",
        "    else:\n",
        "        print('Confusion matrix, without normalization')\n",
        "\n",
        "    print(cm)\n",
        "\n",
        "    plt.imshow(cm, interpolation='nearest', cmap=cmap)\n",
        "    plt.title(title)\n",
        "    plt.colorbar()\n",
        "    tick_marks = np.arange(len(classes))\n",
        "    plt.xticks(tick_marks, classes, rotation=0)\n",
        "    plt.yticks(tick_marks, classes)\n",
        "\n",
        "    fmt = '.2f' if normalize else 'd'\n",
        "    thresh = cm.max() / 2.\n",
        "    for i, j in itertools.product(range(cm.shape[0]), range(cm.shape[1])):\n",
        "        plt.text(j, i, format(cm[i, j], fmt),\n",
        "                 horizontalalignment=\"center\",\n",
        "                 color=\"white\" if cm[i, j] > thresh else \"black\")\n",
        "\n",
        "    plt.tight_layout()\n",
        "    plt.ylabel('True label')\n",
        "    plt.xlabel('Predicted label')\n",
        "\n",
        "# Compute confusion matrix\n",
        "cnf_matrix = confusion_matrix(test_Y, predicted_classes)\n",
        "np.set_printoptions(precision=2)\n",
        "\n",
        "# Plot non-normalized confusion matrix\n",
        "plt.figure()\n",
        "plot_confusion_matrix(cnf_matrix, classes=class_names,\n",
        "                      title='Confusion matrix, without normalization')\n",
        "\n",
        "# Plot normalized confusion matrix\n",
        "plt.figure()\n",
        "plot_confusion_matrix(cnf_matrix, classes=class_names, normalize=True,\n",
        "                      title='Normalized confusion matrix')\n",
        "\n",
        "plt.show()"
      ],
      "execution_count": null,
      "outputs": [
        {
          "output_type": "stream",
          "text": [
            "Automatically created module for IPython interactive environment\n",
            "Confusion matrix, without normalization\n",
            "[[7294   14   63   20  663  320   52]\n",
            " [  38 8466   31   21    9    5   29]\n",
            " [  53   32 8188   34   13   64  104]\n",
            " [  48   15   27 7615  130   84   33]\n",
            " [ 621    3    3  192 5709   24    7]\n",
            " [ 241    5   48   86   27 4242   27]\n",
            " [  40   27   83   36   11   23 5142]]\n",
            "Normalized confusion matrix\n",
            "[[8.66e-01 1.66e-03 7.48e-03 2.37e-03 7.87e-02 3.80e-02 6.17e-03]\n",
            " [4.42e-03 9.85e-01 3.61e-03 2.44e-03 1.05e-03 5.81e-04 3.37e-03]\n",
            " [6.24e-03 3.77e-03 9.65e-01 4.01e-03 1.53e-03 7.54e-03 1.23e-02]\n",
            " [6.04e-03 1.89e-03 3.40e-03 9.58e-01 1.63e-02 1.06e-02 4.15e-03]\n",
            " [9.47e-02 4.57e-04 4.57e-04 2.93e-02 8.70e-01 3.66e-03 1.07e-03]\n",
            " [5.15e-02 1.07e-03 1.03e-02 1.84e-02 5.77e-03 9.07e-01 5.77e-03]\n",
            " [7.46e-03 5.04e-03 1.55e-02 6.71e-03 2.05e-03 4.29e-03 9.59e-01]]\n"
          ],
          "name": "stdout"
        },
        {
          "output_type": "display_data",
          "data": {
            "image/png": "[encoded data removed]",
            "text/plain": [
              "<Figure size 432x288 with 2 Axes>"
            ]
          },
          "metadata": {
            "tags": [],
            "needs_background": "light"
          }
        },
        {
          "output_type": "display_data",
          "data": {
            "image/png": "[encoded data removed]",
            "text/plain": [
              "<Figure size 432x288 with 2 Axes>"
            ]
          },
          "metadata": {
            "tags": [],
            "needs_background": "light"
          }
        }
      ]
    },
    {
      "cell_type": "code",
      "metadata": {
        "id": "8BagUUZ5GLMY"
      },
      "source": [
        ""
      ],
      "execution_count": null,
      "outputs": []
    },
    {
      "cell_type": "code",
      "metadata": {
        "id": "5xEZCJ_bGLPV"
      },
      "source": [
        ""
      ],
      "execution_count": null,
      "outputs": []
    }
  ]
}